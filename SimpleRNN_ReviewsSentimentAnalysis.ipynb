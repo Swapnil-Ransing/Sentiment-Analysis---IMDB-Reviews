{
  "nbformat": 4,
  "nbformat_minor": 0,
  "metadata": {
    "colab": {
      "provenance": []
    },
    "kernelspec": {
      "name": "python3",
      "display_name": "Python 3"
    },
    "language_info": {
      "name": "python"
    }
  },
  "cells": [
    {
      "cell_type": "markdown",
      "source": [
        "## installing packages and libraries"
      ],
      "metadata": {
        "id": "XoK4nKiNxMnu"
      }
    },
    {
      "cell_type": "code",
      "execution_count": 5,
      "metadata": {
        "id": "ajY1ym1CAsts",
        "colab": {
          "base_uri": "https://localhost:8080/"
        },
        "outputId": "bd82cdc0-28b6-4b59-ba38-e71669deed10"
      },
      "outputs": [
        {
          "output_type": "stream",
          "name": "stdout",
          "text": [
            "Requirement already satisfied: contractions in /usr/local/lib/python3.11/dist-packages (0.1.73)\n",
            "Requirement already satisfied: textsearch>=0.0.21 in /usr/local/lib/python3.11/dist-packages (from contractions) (0.0.24)\n",
            "Requirement already satisfied: anyascii in /usr/local/lib/python3.11/dist-packages (from textsearch>=0.0.21->contractions) (0.3.2)\n",
            "Requirement already satisfied: pyahocorasick in /usr/local/lib/python3.11/dist-packages (from textsearch>=0.0.21->contractions) (2.1.0)\n",
            "Requirement already satisfied: emoji in /usr/local/lib/python3.11/dist-packages (2.14.1)\n",
            "Requirement already satisfied: pyspellchecker in /usr/local/lib/python3.11/dist-packages (0.8.2)\n"
          ]
        },
        {
          "output_type": "stream",
          "name": "stderr",
          "text": [
            "[nltk_data] Downloading package punkt to /root/nltk_data...\n",
            "[nltk_data]   Package punkt is already up-to-date!\n",
            "[nltk_data] Downloading package punkt_tab to /root/nltk_data...\n",
            "[nltk_data]   Package punkt_tab is already up-to-date!\n",
            "[nltk_data] Downloading package stopwords to /root/nltk_data...\n",
            "[nltk_data]   Package stopwords is already up-to-date!\n",
            "[nltk_data] Downloading package words to /root/nltk_data...\n",
            "[nltk_data]   Package words is already up-to-date!\n"
          ]
        }
      ],
      "source": [
        "# Importing the libraries and packages\n",
        "import pandas as pd\n",
        "import numpy as np\n",
        "import matplotlib.pyplot as plt\n",
        "import seaborn as sns\n",
        "\n",
        "# text preprocessing of reviews\n",
        "# libraries for text preprocessing\n",
        "import re\n",
        "import string\n",
        "from bs4 import BeautifulSoup\n",
        "!pip install contractions\n",
        "import contractions\n",
        "from contractions import fix\n",
        "!pip install emoji\n",
        "import emoji\n",
        "!pip install pyspellchecker\n",
        "from spellchecker import SpellChecker\n",
        "spell = SpellChecker()\n",
        "# tokenization\n",
        "import nltk\n",
        "nltk.download('punkt')\n",
        "nltk.download('punkt_tab')\n",
        "from nltk.tokenize import word_tokenize\n",
        "# Stop word removal\n",
        "from nltk.corpus import stopwords\n",
        "nltk.download('stopwords')\n",
        "stop_words = set(stopwords.words('english'))\n",
        "nltk.download('words')\n",
        "words_eng = set(nltk.corpus.words.words())\n",
        "\n",
        "\n",
        "from sklearn.model_selection import train_test_split\n",
        "from sklearn.feature_extraction.text import CountVectorizer\n",
        "from tensorflow.keras.preprocessing.text import Tokenizer\n",
        "from tensorflow.keras.preprocessing.text import one_hot\n",
        "from tensorflow.keras.utils import pad_sequences\n",
        "from tensorflow.keras.layers import Embedding, SimpleRNN, Dense\n",
        "from tensorflow.keras.models import Sequential\n",
        "from tensorflow.keras.callbacks import EarlyStopping\n",
        "from keras.models import load_model\n",
        "from tensorflow.keras.layers import Dropout,BatchNormalization\n",
        "\n",
        "from sklearn.metrics import confusion_matrix\n",
        "from sklearn.metrics import accuracy_score, log_loss\n",
        "import pickle"
      ]
    },
    {
      "cell_type": "markdown",
      "source": [
        "## Defining functions"
      ],
      "metadata": {
        "id": "_WbjrFcvxRNu"
      }
    },
    {
      "cell_type": "code",
      "source": [
        "# Converting test to tolowercase, remove punctuation, numbers, special characters, and HTML tags, expanding contractions, handling emojis and spell correction\n",
        "def clean_text(text):\n",
        "    text = text.lower()  # Lowercase\n",
        "    # Replace certain special characters\n",
        "    text = text.replace('%', ' percent')\n",
        "    text = text.replace('$', ' dollar ')\n",
        "    text = text.replace('₹', ' rupee ')\n",
        "    text = text.replace('€', ' euro ')\n",
        "    text = text.replace('@', ' at ')\n",
        "\n",
        "    # The pattern '[math]' appears around 900 times in the whole dataset.\n",
        "    text = text.replace('[math]', '')\n",
        "\n",
        "    # Replacing some numbers with string eqivalents (not perfect, can be done better to account for more cases)\n",
        "    text = text.replace(',000,000,000', 'b ')\n",
        "    text = text.replace(',000,000', 'm ')\n",
        "    text = text.replace(',000', 'k ')\n",
        "    text = re.sub(r'([0-9]+)000000000', r'\\1b', text)\n",
        "    text = re.sub(r'([0-9]+)000000', r'\\1m', text)\n",
        "    text = re.sub(r'([0-9]+)000', r'\\1k', text)\n",
        "\n",
        "    # text = re.sub(r'\\d+', '', text)  # Remove numbers\n",
        "    text = text.translate(str.maketrans('', '', string.punctuation))  # Remove punctuation\n",
        "    text = re.sub(r'\\W', ' ', text)  # Remove special characters\n",
        "    text = BeautifulSoup(text, \"html.parser\").get_text()  # Remove HTML tags\n",
        "    text = re.sub(r'[^\\w\\s]', '', text)  # Remove non word and non white space characters\n",
        "    text = \" \".join([contractions.fix(doc) for doc in text.split()]) # expanding text contractions\n",
        "    text = \" \".join([emoji.demojize(doc) for doc in text.split()]) # handling emojis\n",
        "    # text = \" \".join([spell.correction(doc) for doc in text.split()]) # spell corrections\n",
        "    # # stop word removal\n",
        "    text=' '.join(word for word in text.split() if word not in stop_words)\n",
        "    # removing non english words\n",
        "    text = \" \".join(w for w in text.split() if w in words_eng or not w.isalpha())\n",
        "    return text"
      ],
      "metadata": {
        "id": "2dO26o8PxWWG"
      },
      "execution_count": 2,
      "outputs": []
    },
    {
      "cell_type": "code",
      "source": [
        "# Confusion metrics for predictions\n",
        "def conf_matrix(cf_matrix):\n",
        "  group_names = ['True Neg','False Pos','False Neg','True Pos']\n",
        "  group_counts = ['{0:0.0f}'.format(value) for value in\n",
        "                  cf_matrix.flatten()]\n",
        "  group_percentages = ['{0:.2%}'.format(value) for value in\n",
        "                      cf_matrix.flatten()/np.sum(cf_matrix)]\n",
        "  labels = [f'{v1}\\n{v2}\\n{v3}' for v1, v2, v3 in\n",
        "            zip(group_names,group_counts,group_percentages)]\n",
        "  labels = np.asarray(labels).reshape(2,2)\n",
        "  sns.heatmap(cf_matrix, annot=labels, fmt='', cmap='Blues')"
      ],
      "metadata": {
        "id": "Rg9QuKUtxb-M"
      },
      "execution_count": 3,
      "outputs": []
    },
    {
      "cell_type": "markdown",
      "source": [
        "## Data upload and Text Preprocessing"
      ],
      "metadata": {
        "id": "Enah5xbnxp48"
      }
    },
    {
      "cell_type": "code",
      "source": [
        "df=pd.read_csv('/content/drive/MyDrive/Career/AI/DL Projects/IMDB Reviews Sentiment Analysis/IMDB Dataset.csv')"
      ],
      "metadata": {
        "id": "giFc-yDDA20D"
      },
      "execution_count": null,
      "outputs": []
    },
    {
      "cell_type": "code",
      "source": [
        "df.head(10)"
      ],
      "metadata": {
        "colab": {
          "base_uri": "https://localhost:8080/",
          "height": 363
        },
        "id": "ui3dSEeaCqjc",
        "outputId": "9a2872f4-cca6-4639-f22f-1855ad4e114d"
      },
      "execution_count": null,
      "outputs": [
        {
          "output_type": "execute_result",
          "data": {
            "text/plain": [
              "                                              review sentiment\n",
              "0  One of the other reviewers has mentioned that ...  positive\n",
              "1  A wonderful little production. <br /><br />The...  positive\n",
              "2  I thought this was a wonderful way to spend ti...  positive\n",
              "3  Basically there's a family where a little boy ...  negative\n",
              "4  Petter Mattei's \"Love in the Time of Money\" is...  positive\n",
              "5  Probably my all-time favorite movie, a story o...  positive\n",
              "6  I sure would like to see a resurrection of a u...  positive\n",
              "7  This show was an amazing, fresh & innovative i...  negative\n",
              "8  Encouraged by the positive comments about this...  negative\n",
              "9  If you like original gut wrenching laughter yo...  positive"
            ],
            "text/html": [
              "\n",
              "  <div id=\"df-7812b154-f791-4586-9331-f0e65273da8f\" class=\"colab-df-container\">\n",
              "    <div>\n",
              "<style scoped>\n",
              "    .dataframe tbody tr th:only-of-type {\n",
              "        vertical-align: middle;\n",
              "    }\n",
              "\n",
              "    .dataframe tbody tr th {\n",
              "        vertical-align: top;\n",
              "    }\n",
              "\n",
              "    .dataframe thead th {\n",
              "        text-align: right;\n",
              "    }\n",
              "</style>\n",
              "<table border=\"1\" class=\"dataframe\">\n",
              "  <thead>\n",
              "    <tr style=\"text-align: right;\">\n",
              "      <th></th>\n",
              "      <th>review</th>\n",
              "      <th>sentiment</th>\n",
              "    </tr>\n",
              "  </thead>\n",
              "  <tbody>\n",
              "    <tr>\n",
              "      <th>0</th>\n",
              "      <td>One of the other reviewers has mentioned that ...</td>\n",
              "      <td>positive</td>\n",
              "    </tr>\n",
              "    <tr>\n",
              "      <th>1</th>\n",
              "      <td>A wonderful little production. &lt;br /&gt;&lt;br /&gt;The...</td>\n",
              "      <td>positive</td>\n",
              "    </tr>\n",
              "    <tr>\n",
              "      <th>2</th>\n",
              "      <td>I thought this was a wonderful way to spend ti...</td>\n",
              "      <td>positive</td>\n",
              "    </tr>\n",
              "    <tr>\n",
              "      <th>3</th>\n",
              "      <td>Basically there's a family where a little boy ...</td>\n",
              "      <td>negative</td>\n",
              "    </tr>\n",
              "    <tr>\n",
              "      <th>4</th>\n",
              "      <td>Petter Mattei's \"Love in the Time of Money\" is...</td>\n",
              "      <td>positive</td>\n",
              "    </tr>\n",
              "    <tr>\n",
              "      <th>5</th>\n",
              "      <td>Probably my all-time favorite movie, a story o...</td>\n",
              "      <td>positive</td>\n",
              "    </tr>\n",
              "    <tr>\n",
              "      <th>6</th>\n",
              "      <td>I sure would like to see a resurrection of a u...</td>\n",
              "      <td>positive</td>\n",
              "    </tr>\n",
              "    <tr>\n",
              "      <th>7</th>\n",
              "      <td>This show was an amazing, fresh &amp; innovative i...</td>\n",
              "      <td>negative</td>\n",
              "    </tr>\n",
              "    <tr>\n",
              "      <th>8</th>\n",
              "      <td>Encouraged by the positive comments about this...</td>\n",
              "      <td>negative</td>\n",
              "    </tr>\n",
              "    <tr>\n",
              "      <th>9</th>\n",
              "      <td>If you like original gut wrenching laughter yo...</td>\n",
              "      <td>positive</td>\n",
              "    </tr>\n",
              "  </tbody>\n",
              "</table>\n",
              "</div>\n",
              "    <div class=\"colab-df-buttons\">\n",
              "\n",
              "  <div class=\"colab-df-container\">\n",
              "    <button class=\"colab-df-convert\" onclick=\"convertToInteractive('df-7812b154-f791-4586-9331-f0e65273da8f')\"\n",
              "            title=\"Convert this dataframe to an interactive table.\"\n",
              "            style=\"display:none;\">\n",
              "\n",
              "  <svg xmlns=\"http://www.w3.org/2000/svg\" height=\"24px\" viewBox=\"0 -960 960 960\">\n",
              "    <path d=\"M120-120v-720h720v720H120Zm60-500h600v-160H180v160Zm220 220h160v-160H400v160Zm0 220h160v-160H400v160ZM180-400h160v-160H180v160Zm440 0h160v-160H620v160ZM180-180h160v-160H180v160Zm440 0h160v-160H620v160Z\"/>\n",
              "  </svg>\n",
              "    </button>\n",
              "\n",
              "  <style>\n",
              "    .colab-df-container {\n",
              "      display:flex;\n",
              "      gap: 12px;\n",
              "    }\n",
              "\n",
              "    .colab-df-convert {\n",
              "      background-color: #E8F0FE;\n",
              "      border: none;\n",
              "      border-radius: 50%;\n",
              "      cursor: pointer;\n",
              "      display: none;\n",
              "      fill: #1967D2;\n",
              "      height: 32px;\n",
              "      padding: 0 0 0 0;\n",
              "      width: 32px;\n",
              "    }\n",
              "\n",
              "    .colab-df-convert:hover {\n",
              "      background-color: #E2EBFA;\n",
              "      box-shadow: 0px 1px 2px rgba(60, 64, 67, 0.3), 0px 1px 3px 1px rgba(60, 64, 67, 0.15);\n",
              "      fill: #174EA6;\n",
              "    }\n",
              "\n",
              "    .colab-df-buttons div {\n",
              "      margin-bottom: 4px;\n",
              "    }\n",
              "\n",
              "    [theme=dark] .colab-df-convert {\n",
              "      background-color: #3B4455;\n",
              "      fill: #D2E3FC;\n",
              "    }\n",
              "\n",
              "    [theme=dark] .colab-df-convert:hover {\n",
              "      background-color: #434B5C;\n",
              "      box-shadow: 0px 1px 3px 1px rgba(0, 0, 0, 0.15);\n",
              "      filter: drop-shadow(0px 1px 2px rgba(0, 0, 0, 0.3));\n",
              "      fill: #FFFFFF;\n",
              "    }\n",
              "  </style>\n",
              "\n",
              "    <script>\n",
              "      const buttonEl =\n",
              "        document.querySelector('#df-7812b154-f791-4586-9331-f0e65273da8f button.colab-df-convert');\n",
              "      buttonEl.style.display =\n",
              "        google.colab.kernel.accessAllowed ? 'block' : 'none';\n",
              "\n",
              "      async function convertToInteractive(key) {\n",
              "        const element = document.querySelector('#df-7812b154-f791-4586-9331-f0e65273da8f');\n",
              "        const dataTable =\n",
              "          await google.colab.kernel.invokeFunction('convertToInteractive',\n",
              "                                                    [key], {});\n",
              "        if (!dataTable) return;\n",
              "\n",
              "        const docLinkHtml = 'Like what you see? Visit the ' +\n",
              "          '<a target=\"_blank\" href=https://colab.research.google.com/notebooks/data_table.ipynb>data table notebook</a>'\n",
              "          + ' to learn more about interactive tables.';\n",
              "        element.innerHTML = '';\n",
              "        dataTable['output_type'] = 'display_data';\n",
              "        await google.colab.output.renderOutput(dataTable, element);\n",
              "        const docLink = document.createElement('div');\n",
              "        docLink.innerHTML = docLinkHtml;\n",
              "        element.appendChild(docLink);\n",
              "      }\n",
              "    </script>\n",
              "  </div>\n",
              "\n",
              "\n",
              "<div id=\"df-4d639faf-6497-455b-8833-c639c53aad61\">\n",
              "  <button class=\"colab-df-quickchart\" onclick=\"quickchart('df-4d639faf-6497-455b-8833-c639c53aad61')\"\n",
              "            title=\"Suggest charts\"\n",
              "            style=\"display:none;\">\n",
              "\n",
              "<svg xmlns=\"http://www.w3.org/2000/svg\" height=\"24px\"viewBox=\"0 0 24 24\"\n",
              "     width=\"24px\">\n",
              "    <g>\n",
              "        <path d=\"M19 3H5c-1.1 0-2 .9-2 2v14c0 1.1.9 2 2 2h14c1.1 0 2-.9 2-2V5c0-1.1-.9-2-2-2zM9 17H7v-7h2v7zm4 0h-2V7h2v10zm4 0h-2v-4h2v4z\"/>\n",
              "    </g>\n",
              "</svg>\n",
              "  </button>\n",
              "\n",
              "<style>\n",
              "  .colab-df-quickchart {\n",
              "      --bg-color: #E8F0FE;\n",
              "      --fill-color: #1967D2;\n",
              "      --hover-bg-color: #E2EBFA;\n",
              "      --hover-fill-color: #174EA6;\n",
              "      --disabled-fill-color: #AAA;\n",
              "      --disabled-bg-color: #DDD;\n",
              "  }\n",
              "\n",
              "  [theme=dark] .colab-df-quickchart {\n",
              "      --bg-color: #3B4455;\n",
              "      --fill-color: #D2E3FC;\n",
              "      --hover-bg-color: #434B5C;\n",
              "      --hover-fill-color: #FFFFFF;\n",
              "      --disabled-bg-color: #3B4455;\n",
              "      --disabled-fill-color: #666;\n",
              "  }\n",
              "\n",
              "  .colab-df-quickchart {\n",
              "    background-color: var(--bg-color);\n",
              "    border: none;\n",
              "    border-radius: 50%;\n",
              "    cursor: pointer;\n",
              "    display: none;\n",
              "    fill: var(--fill-color);\n",
              "    height: 32px;\n",
              "    padding: 0;\n",
              "    width: 32px;\n",
              "  }\n",
              "\n",
              "  .colab-df-quickchart:hover {\n",
              "    background-color: var(--hover-bg-color);\n",
              "    box-shadow: 0 1px 2px rgba(60, 64, 67, 0.3), 0 1px 3px 1px rgba(60, 64, 67, 0.15);\n",
              "    fill: var(--button-hover-fill-color);\n",
              "  }\n",
              "\n",
              "  .colab-df-quickchart-complete:disabled,\n",
              "  .colab-df-quickchart-complete:disabled:hover {\n",
              "    background-color: var(--disabled-bg-color);\n",
              "    fill: var(--disabled-fill-color);\n",
              "    box-shadow: none;\n",
              "  }\n",
              "\n",
              "  .colab-df-spinner {\n",
              "    border: 2px solid var(--fill-color);\n",
              "    border-color: transparent;\n",
              "    border-bottom-color: var(--fill-color);\n",
              "    animation:\n",
              "      spin 1s steps(1) infinite;\n",
              "  }\n",
              "\n",
              "  @keyframes spin {\n",
              "    0% {\n",
              "      border-color: transparent;\n",
              "      border-bottom-color: var(--fill-color);\n",
              "      border-left-color: var(--fill-color);\n",
              "    }\n",
              "    20% {\n",
              "      border-color: transparent;\n",
              "      border-left-color: var(--fill-color);\n",
              "      border-top-color: var(--fill-color);\n",
              "    }\n",
              "    30% {\n",
              "      border-color: transparent;\n",
              "      border-left-color: var(--fill-color);\n",
              "      border-top-color: var(--fill-color);\n",
              "      border-right-color: var(--fill-color);\n",
              "    }\n",
              "    40% {\n",
              "      border-color: transparent;\n",
              "      border-right-color: var(--fill-color);\n",
              "      border-top-color: var(--fill-color);\n",
              "    }\n",
              "    60% {\n",
              "      border-color: transparent;\n",
              "      border-right-color: var(--fill-color);\n",
              "    }\n",
              "    80% {\n",
              "      border-color: transparent;\n",
              "      border-right-color: var(--fill-color);\n",
              "      border-bottom-color: var(--fill-color);\n",
              "    }\n",
              "    90% {\n",
              "      border-color: transparent;\n",
              "      border-bottom-color: var(--fill-color);\n",
              "    }\n",
              "  }\n",
              "</style>\n",
              "\n",
              "  <script>\n",
              "    async function quickchart(key) {\n",
              "      const quickchartButtonEl =\n",
              "        document.querySelector('#' + key + ' button');\n",
              "      quickchartButtonEl.disabled = true;  // To prevent multiple clicks.\n",
              "      quickchartButtonEl.classList.add('colab-df-spinner');\n",
              "      try {\n",
              "        const charts = await google.colab.kernel.invokeFunction(\n",
              "            'suggestCharts', [key], {});\n",
              "      } catch (error) {\n",
              "        console.error('Error during call to suggestCharts:', error);\n",
              "      }\n",
              "      quickchartButtonEl.classList.remove('colab-df-spinner');\n",
              "      quickchartButtonEl.classList.add('colab-df-quickchart-complete');\n",
              "    }\n",
              "    (() => {\n",
              "      let quickchartButtonEl =\n",
              "        document.querySelector('#df-4d639faf-6497-455b-8833-c639c53aad61 button');\n",
              "      quickchartButtonEl.style.display =\n",
              "        google.colab.kernel.accessAllowed ? 'block' : 'none';\n",
              "    })();\n",
              "  </script>\n",
              "</div>\n",
              "\n",
              "    </div>\n",
              "  </div>\n"
            ],
            "application/vnd.google.colaboratory.intrinsic+json": {
              "type": "dataframe",
              "variable_name": "df",
              "summary": "{\n  \"name\": \"df\",\n  \"rows\": 50000,\n  \"fields\": [\n    {\n      \"column\": \"review\",\n      \"properties\": {\n        \"dtype\": \"string\",\n        \"num_unique_values\": 49582,\n        \"samples\": [\n          \"\\\"Soul Plane\\\" is a horrible attempt at comedy that only should appeal people with thick skulls, bloodshot eyes and furry pawns. <br /><br />The plot is not only incoherent but also non-existent, acting is mostly sub sub-par with a gang of highly moronic and dreadful characters thrown in for bad measure, jokes are often spotted miles ahead and almost never even a bit amusing. This movie lacks any structure and is full of racial stereotypes that must have seemed old even in the fifties, the only thing it really has going for it is some pretty ladies, but really, if you want that you can rent something from the \\\"Adult\\\" section. OK?<br /><br />I can hardly see anything here to recommend since you'll probably have a lot a better and productive time chasing rats with a sledgehammer or inventing waterproof teabags or whatever.<br /><br />2/10\",\n          \"Guest from the Future tells a fascinating story of time travel, friendship, battle of good and evil -- all with a small budget, child actors, and few special effects. Something for Spielberg and Lucas to learn from. ;) A sixth-grader Kolya \\\"Nick\\\" Gerasimov finds a time machine in the basement of a decrepit building and travels 100 years into the future. He discovers a near-perfect, utopian society where robots play guitars and write poetry, everyone is kind to each other and people enjoy everything technology has to offer. Alice is the daughter of a prominent scientist who invented a device called Mielophone that allows to read minds of humans and animals. The device can be put to both good and bad use, depending on whose hands it falls into. When two evil space pirates from Saturn who want to rule the universe attempt to steal Mielophone, it falls into the hands of 20th century school boy Nick. With the pirates hot on his tracks, he travels back to his time, followed by the pirates, and Alice. Chaos, confusion and funny situations follow as the luckless pirates try to blend in with the earthlings. Alice enrolls in the same school Nick goes to and demonstrates superhuman abilities in PE class. The catch is, Alice doesn't know what Nick looks like, while the pirates do. Also, the pirates are able to change their appearance and turn literally into anyone. (Hmm, I wonder if this is where James Cameron got the idea for Terminator...) Who gets to Nick -- and Mielophone -- first? Excellent plot, non-stop adventures, and great soundtrack. I wish Hollywood made kid movies like this one...\",\n          \"\\\"National Treasure\\\" (2004) is a thoroughly misguided hodge-podge of plot entanglements that borrow from nearly every cloak and dagger government conspiracy clich\\u00e9 that has ever been written. The film stars Nicholas Cage as Benjamin Franklin Gates (how precious is that, I ask you?); a seemingly normal fellow who, for no other reason than being of a lineage of like-minded misguided fortune hunters, decides to steal a 'national treasure' that has been hidden by the United States founding fathers. After a bit of subtext and background that plays laughably (unintentionally) like Indiana Jones meets The Patriot, the film degenerates into one misguided whimsy after another \\u0096 attempting to create a 'Stanley Goodspeed' regurgitation of Nicholas Cage and launch the whole convoluted mess forward with a series of high octane, but disconnected misadventures.<br /><br />The relevancy and logic to having George Washington and his motley crew of patriots burying a king's ransom someplace on native soil, and then, going through the meticulous plan of leaving clues scattered throughout U.S. currency art work, is something that director Jon Turteltaub never quite gets around to explaining. Couldn't Washington found better usage for such wealth during the start up of the country? Hence, we are left with a mystery built on top of an enigma that is already on shaky ground by the time Ben appoints himself the new custodian of this untold wealth. Ben's intentions are noble \\u0096 if confusing. He's set on protecting the treasure. For who and when?\\u0085your guess is as good as mine.<br /><br />But there are a few problems with Ben's crusade. First up, his friend, Ian Holmes (Sean Bean) decides that he can't wait for Ben to make up his mind about stealing the Declaration of Independence from the National Archives (oh, yeah \\u0096 brilliant idea!). Presumably, the back of that famous document holds the secret answer to the ultimate fortune. So Ian tries to kill Ben. The assassination attempt is, of course, unsuccessful, if overly melodramatic. It also affords Ben the opportunity to pick up, and pick on, the very sultry curator of the archives, Abigail Chase (Diane Kruger). She thinks Ben is clearly a nut \\u0096 at least at the beginning. But true to action/romance form, Abby's resolve melts quicker than you can say, \\\"is that the Hope Diamond?\\\" The film moves into full X-File-ish mode, as the FBI, mistakenly believing that Ben is behind the theft, retaliate in various benign ways that lead to a multi-layering of action sequences reminiscent of Mission Impossible meets The Fugitive. Honestly, don't those guys ever get 'intelligence' information that is correct? In the final analysis, \\\"National Treasure\\\" isn't great film making, so much as it's a patchwork rehash of tired old bits from other movies, woven together from scraps, the likes of which would make IL' Betsy Ross blush.<br /><br />The Buena Vista DVD delivers a far more generous treatment than this film is deserving of. The anamorphic widescreen picture exhibits a very smooth and finely detailed image with very rich colors, natural flesh tones, solid blacks and clean whites. The stylized image is also free of blemishes and digital enhancements. The audio is 5.1 and delivers a nice sonic boom to your side and rear speakers with intensity and realism. Extras include a host of promotional junket material that is rather deep and over the top in its explanation of how and why this film was made. If only, as an audience, we had had more clarification as to why Ben and co. were chasing after an illusive treasure, this might have been one good flick. Extras conclude with the theatrical trailer, audio commentary and deleted scenes. Not for the faint-hearted \\u0096 just the thick-headed.\"\n        ],\n        \"semantic_type\": \"\",\n        \"description\": \"\"\n      }\n    },\n    {\n      \"column\": \"sentiment\",\n      \"properties\": {\n        \"dtype\": \"category\",\n        \"num_unique_values\": 2,\n        \"samples\": [\n          \"negative\",\n          \"positive\"\n        ],\n        \"semantic_type\": \"\",\n        \"description\": \"\"\n      }\n    }\n  ]\n}"
            }
          },
          "metadata": {},
          "execution_count": 5
        }
      ]
    },
    {
      "cell_type": "code",
      "source": [
        "df.shape"
      ],
      "metadata": {
        "colab": {
          "base_uri": "https://localhost:8080/"
        },
        "id": "_oZDcEuYCs3i",
        "outputId": "d221ab1c-c766-407d-e182-253dfb23727f"
      },
      "execution_count": null,
      "outputs": [
        {
          "output_type": "execute_result",
          "data": {
            "text/plain": [
              "(50000, 2)"
            ]
          },
          "metadata": {},
          "execution_count": 6
        }
      ]
    },
    {
      "cell_type": "code",
      "source": [
        "df.sentiment.value_counts()"
      ],
      "metadata": {
        "colab": {
          "base_uri": "https://localhost:8080/",
          "height": 178
        },
        "id": "HlpmiyLRCxOB",
        "outputId": "bebb81d2-6429-4b06-9456-52442efe632d"
      },
      "execution_count": null,
      "outputs": [
        {
          "output_type": "execute_result",
          "data": {
            "text/plain": [
              "sentiment\n",
              "positive    25000\n",
              "negative    25000\n",
              "Name: count, dtype: int64"
            ],
            "text/html": [
              "<div>\n",
              "<style scoped>\n",
              "    .dataframe tbody tr th:only-of-type {\n",
              "        vertical-align: middle;\n",
              "    }\n",
              "\n",
              "    .dataframe tbody tr th {\n",
              "        vertical-align: top;\n",
              "    }\n",
              "\n",
              "    .dataframe thead th {\n",
              "        text-align: right;\n",
              "    }\n",
              "</style>\n",
              "<table border=\"1\" class=\"dataframe\">\n",
              "  <thead>\n",
              "    <tr style=\"text-align: right;\">\n",
              "      <th></th>\n",
              "      <th>count</th>\n",
              "    </tr>\n",
              "    <tr>\n",
              "      <th>sentiment</th>\n",
              "      <th></th>\n",
              "    </tr>\n",
              "  </thead>\n",
              "  <tbody>\n",
              "    <tr>\n",
              "      <th>positive</th>\n",
              "      <td>25000</td>\n",
              "    </tr>\n",
              "    <tr>\n",
              "      <th>negative</th>\n",
              "      <td>25000</td>\n",
              "    </tr>\n",
              "  </tbody>\n",
              "</table>\n",
              "</div><br><label><b>dtype:</b> int64</label>"
            ]
          },
          "metadata": {},
          "execution_count": 7
        }
      ]
    },
    {
      "cell_type": "code",
      "source": [
        "df['sentiment']=df['sentiment'].apply(lambda x : 1 if x=='positive' else 0)\n",
        "df.sentiment.value_counts()"
      ],
      "metadata": {
        "colab": {
          "base_uri": "https://localhost:8080/",
          "height": 178
        },
        "id": "O38t8hAIDQst",
        "outputId": "0e35dc06-68ec-497b-df65-405d49e712cf"
      },
      "execution_count": null,
      "outputs": [
        {
          "output_type": "execute_result",
          "data": {
            "text/plain": [
              "sentiment\n",
              "1    25000\n",
              "0    25000\n",
              "Name: count, dtype: int64"
            ],
            "text/html": [
              "<div>\n",
              "<style scoped>\n",
              "    .dataframe tbody tr th:only-of-type {\n",
              "        vertical-align: middle;\n",
              "    }\n",
              "\n",
              "    .dataframe tbody tr th {\n",
              "        vertical-align: top;\n",
              "    }\n",
              "\n",
              "    .dataframe thead th {\n",
              "        text-align: right;\n",
              "    }\n",
              "</style>\n",
              "<table border=\"1\" class=\"dataframe\">\n",
              "  <thead>\n",
              "    <tr style=\"text-align: right;\">\n",
              "      <th></th>\n",
              "      <th>count</th>\n",
              "    </tr>\n",
              "    <tr>\n",
              "      <th>sentiment</th>\n",
              "      <th></th>\n",
              "    </tr>\n",
              "  </thead>\n",
              "  <tbody>\n",
              "    <tr>\n",
              "      <th>1</th>\n",
              "      <td>25000</td>\n",
              "    </tr>\n",
              "    <tr>\n",
              "      <th>0</th>\n",
              "      <td>25000</td>\n",
              "    </tr>\n",
              "  </tbody>\n",
              "</table>\n",
              "</div><br><label><b>dtype:</b> int64</label>"
            ]
          },
          "metadata": {},
          "execution_count": 8
        }
      ]
    },
    {
      "cell_type": "code",
      "source": [
        "# text preprocessing\n",
        "df['review']=df['review'].apply(clean_text)"
      ],
      "metadata": {
        "id": "PpahPersEzS5"
      },
      "execution_count": null,
      "outputs": []
    },
    {
      "cell_type": "code",
      "source": [
        "pd.set_option('display.max_colwidth', None)\n",
        "df.head(5)"
      ],
      "metadata": {
        "colab": {
          "base_uri": "https://localhost:8080/",
          "height": 310
        },
        "id": "iMloKZchE7D5",
        "outputId": "2562feef-c1a9-4389-8571-094e688dcfc1"
      },
      "execution_count": null,
      "outputs": [
        {
          "output_type": "execute_result",
          "data": {
            "text/plain": [
              "                                                                                                                                                                                                                                                                                                                                                                                                                                                                                                                                                                                                                                                                                                                                                                review  \\\n",
              "0  one watching 1 episode hooked right exactly first thing struck brutality unflinching violence set right word go trust show faint hearted timid show sex violence classic use nickname given maximum security state mainly emerald city experimental section prison glass face inwards privacy high agenda city home death dodgy shady never far would say main appeal show due fact goes would dare forget pretty painted forget charm forget mess around first episode ever saw struck nasty could say ready watched taste got accustomed high graphic violence violence injustice crooked sold nickel kill order get away well mannered middle class turned prison due lack street prison experience watching may become comfortable uncomfortable get touch side   \n",
              "1                                                                                                                                                                                                                                                                                                           wonderful little production technique unassuming fashion comforting sometimes discomforting sense realism entire piece extremely well chosen sheen got pat truly see seamless diary well worth watching terrificly written piece masterful production one great comedy life realism really comes home little fantasy guard rather use traditional dream remains solid knowledge particularly concerning particularly flat every surface terribly well done   \n",
              "2                                                                                                                                                                                                                                                                                            thought wonderful way spend time hot summer weekend sitting air conditioned theater watching lighthearted comedy plot simplistic dialogue witty likable even well bread suspected serial killer may disappointed realize match point 2 risk addiction thought proof woody still fully control style many us grown id one dare say decade never scarlet tone sexy image right average spirited young may crown jewel career devil interesting superman great comedy go see   \n",
              "3                                                                                                                                                                                                                                                                                                                                                                                                                                                         basically family little boy jake zombie closet fighting movie soap opera suddenly jake become kill first going make film must decide thriller drama drama movie watchable like real life jake closet totally film see similar movie instead watched drama meaningless thriller 3 10 well descent jake ignore   \n",
              "4                                                                                                                                                 petter love time money visually stunning film watch us vivid portrait human movie telling us money power success people different encounter variation play theme director action present time new york different meet connect one connected one way another next person one know previous point contact stylishly film sophisticated luxurious look taken see people live world live thing one picture different loneliness one big city exactly best place human find sincere fulfillment one case people acting good direction rosario carol rest talented cast make come wish good luck await anxiously next work   \n",
              "\n",
              "   sentiment  \n",
              "0          1  \n",
              "1          1  \n",
              "2          1  \n",
              "3          0  \n",
              "4          1  "
            ],
            "text/html": [
              "\n",
              "  <div id=\"df-aff4ea03-c266-48de-b336-ded12d18594e\" class=\"colab-df-container\">\n",
              "    <div>\n",
              "<style scoped>\n",
              "    .dataframe tbody tr th:only-of-type {\n",
              "        vertical-align: middle;\n",
              "    }\n",
              "\n",
              "    .dataframe tbody tr th {\n",
              "        vertical-align: top;\n",
              "    }\n",
              "\n",
              "    .dataframe thead th {\n",
              "        text-align: right;\n",
              "    }\n",
              "</style>\n",
              "<table border=\"1\" class=\"dataframe\">\n",
              "  <thead>\n",
              "    <tr style=\"text-align: right;\">\n",
              "      <th></th>\n",
              "      <th>review</th>\n",
              "      <th>sentiment</th>\n",
              "    </tr>\n",
              "  </thead>\n",
              "  <tbody>\n",
              "    <tr>\n",
              "      <th>0</th>\n",
              "      <td>one watching 1 episode hooked right exactly first thing struck brutality unflinching violence set right word go trust show faint hearted timid show sex violence classic use nickname given maximum security state mainly emerald city experimental section prison glass face inwards privacy high agenda city home death dodgy shady never far would say main appeal show due fact goes would dare forget pretty painted forget charm forget mess around first episode ever saw struck nasty could say ready watched taste got accustomed high graphic violence violence injustice crooked sold nickel kill order get away well mannered middle class turned prison due lack street prison experience watching may become comfortable uncomfortable get touch side</td>\n",
              "      <td>1</td>\n",
              "    </tr>\n",
              "    <tr>\n",
              "      <th>1</th>\n",
              "      <td>wonderful little production technique unassuming fashion comforting sometimes discomforting sense realism entire piece extremely well chosen sheen got pat truly see seamless diary well worth watching terrificly written piece masterful production one great comedy life realism really comes home little fantasy guard rather use traditional dream remains solid knowledge particularly concerning particularly flat every surface terribly well done</td>\n",
              "      <td>1</td>\n",
              "    </tr>\n",
              "    <tr>\n",
              "      <th>2</th>\n",
              "      <td>thought wonderful way spend time hot summer weekend sitting air conditioned theater watching lighthearted comedy plot simplistic dialogue witty likable even well bread suspected serial killer may disappointed realize match point 2 risk addiction thought proof woody still fully control style many us grown id one dare say decade never scarlet tone sexy image right average spirited young may crown jewel career devil interesting superman great comedy go see</td>\n",
              "      <td>1</td>\n",
              "    </tr>\n",
              "    <tr>\n",
              "      <th>3</th>\n",
              "      <td>basically family little boy jake zombie closet fighting movie soap opera suddenly jake become kill first going make film must decide thriller drama drama movie watchable like real life jake closet totally film see similar movie instead watched drama meaningless thriller 3 10 well descent jake ignore</td>\n",
              "      <td>0</td>\n",
              "    </tr>\n",
              "    <tr>\n",
              "      <th>4</th>\n",
              "      <td>petter love time money visually stunning film watch us vivid portrait human movie telling us money power success people different encounter variation play theme director action present time new york different meet connect one connected one way another next person one know previous point contact stylishly film sophisticated luxurious look taken see people live world live thing one picture different loneliness one big city exactly best place human find sincere fulfillment one case people acting good direction rosario carol rest talented cast make come wish good luck await anxiously next work</td>\n",
              "      <td>1</td>\n",
              "    </tr>\n",
              "  </tbody>\n",
              "</table>\n",
              "</div>\n",
              "    <div class=\"colab-df-buttons\">\n",
              "\n",
              "  <div class=\"colab-df-container\">\n",
              "    <button class=\"colab-df-convert\" onclick=\"convertToInteractive('df-aff4ea03-c266-48de-b336-ded12d18594e')\"\n",
              "            title=\"Convert this dataframe to an interactive table.\"\n",
              "            style=\"display:none;\">\n",
              "\n",
              "  <svg xmlns=\"http://www.w3.org/2000/svg\" height=\"24px\" viewBox=\"0 -960 960 960\">\n",
              "    <path d=\"M120-120v-720h720v720H120Zm60-500h600v-160H180v160Zm220 220h160v-160H400v160Zm0 220h160v-160H400v160ZM180-400h160v-160H180v160Zm440 0h160v-160H620v160ZM180-180h160v-160H180v160Zm440 0h160v-160H620v160Z\"/>\n",
              "  </svg>\n",
              "    </button>\n",
              "\n",
              "  <style>\n",
              "    .colab-df-container {\n",
              "      display:flex;\n",
              "      gap: 12px;\n",
              "    }\n",
              "\n",
              "    .colab-df-convert {\n",
              "      background-color: #E8F0FE;\n",
              "      border: none;\n",
              "      border-radius: 50%;\n",
              "      cursor: pointer;\n",
              "      display: none;\n",
              "      fill: #1967D2;\n",
              "      height: 32px;\n",
              "      padding: 0 0 0 0;\n",
              "      width: 32px;\n",
              "    }\n",
              "\n",
              "    .colab-df-convert:hover {\n",
              "      background-color: #E2EBFA;\n",
              "      box-shadow: 0px 1px 2px rgba(60, 64, 67, 0.3), 0px 1px 3px 1px rgba(60, 64, 67, 0.15);\n",
              "      fill: #174EA6;\n",
              "    }\n",
              "\n",
              "    .colab-df-buttons div {\n",
              "      margin-bottom: 4px;\n",
              "    }\n",
              "\n",
              "    [theme=dark] .colab-df-convert {\n",
              "      background-color: #3B4455;\n",
              "      fill: #D2E3FC;\n",
              "    }\n",
              "\n",
              "    [theme=dark] .colab-df-convert:hover {\n",
              "      background-color: #434B5C;\n",
              "      box-shadow: 0px 1px 3px 1px rgba(0, 0, 0, 0.15);\n",
              "      filter: drop-shadow(0px 1px 2px rgba(0, 0, 0, 0.3));\n",
              "      fill: #FFFFFF;\n",
              "    }\n",
              "  </style>\n",
              "\n",
              "    <script>\n",
              "      const buttonEl =\n",
              "        document.querySelector('#df-aff4ea03-c266-48de-b336-ded12d18594e button.colab-df-convert');\n",
              "      buttonEl.style.display =\n",
              "        google.colab.kernel.accessAllowed ? 'block' : 'none';\n",
              "\n",
              "      async function convertToInteractive(key) {\n",
              "        const element = document.querySelector('#df-aff4ea03-c266-48de-b336-ded12d18594e');\n",
              "        const dataTable =\n",
              "          await google.colab.kernel.invokeFunction('convertToInteractive',\n",
              "                                                    [key], {});\n",
              "        if (!dataTable) return;\n",
              "\n",
              "        const docLinkHtml = 'Like what you see? Visit the ' +\n",
              "          '<a target=\"_blank\" href=https://colab.research.google.com/notebooks/data_table.ipynb>data table notebook</a>'\n",
              "          + ' to learn more about interactive tables.';\n",
              "        element.innerHTML = '';\n",
              "        dataTable['output_type'] = 'display_data';\n",
              "        await google.colab.output.renderOutput(dataTable, element);\n",
              "        const docLink = document.createElement('div');\n",
              "        docLink.innerHTML = docLinkHtml;\n",
              "        element.appendChild(docLink);\n",
              "      }\n",
              "    </script>\n",
              "  </div>\n",
              "\n",
              "\n",
              "<div id=\"df-a81ab3a5-9b95-4b28-bd92-92c36a62e92c\">\n",
              "  <button class=\"colab-df-quickchart\" onclick=\"quickchart('df-a81ab3a5-9b95-4b28-bd92-92c36a62e92c')\"\n",
              "            title=\"Suggest charts\"\n",
              "            style=\"display:none;\">\n",
              "\n",
              "<svg xmlns=\"http://www.w3.org/2000/svg\" height=\"24px\"viewBox=\"0 0 24 24\"\n",
              "     width=\"24px\">\n",
              "    <g>\n",
              "        <path d=\"M19 3H5c-1.1 0-2 .9-2 2v14c0 1.1.9 2 2 2h14c1.1 0 2-.9 2-2V5c0-1.1-.9-2-2-2zM9 17H7v-7h2v7zm4 0h-2V7h2v10zm4 0h-2v-4h2v4z\"/>\n",
              "    </g>\n",
              "</svg>\n",
              "  </button>\n",
              "\n",
              "<style>\n",
              "  .colab-df-quickchart {\n",
              "      --bg-color: #E8F0FE;\n",
              "      --fill-color: #1967D2;\n",
              "      --hover-bg-color: #E2EBFA;\n",
              "      --hover-fill-color: #174EA6;\n",
              "      --disabled-fill-color: #AAA;\n",
              "      --disabled-bg-color: #DDD;\n",
              "  }\n",
              "\n",
              "  [theme=dark] .colab-df-quickchart {\n",
              "      --bg-color: #3B4455;\n",
              "      --fill-color: #D2E3FC;\n",
              "      --hover-bg-color: #434B5C;\n",
              "      --hover-fill-color: #FFFFFF;\n",
              "      --disabled-bg-color: #3B4455;\n",
              "      --disabled-fill-color: #666;\n",
              "  }\n",
              "\n",
              "  .colab-df-quickchart {\n",
              "    background-color: var(--bg-color);\n",
              "    border: none;\n",
              "    border-radius: 50%;\n",
              "    cursor: pointer;\n",
              "    display: none;\n",
              "    fill: var(--fill-color);\n",
              "    height: 32px;\n",
              "    padding: 0;\n",
              "    width: 32px;\n",
              "  }\n",
              "\n",
              "  .colab-df-quickchart:hover {\n",
              "    background-color: var(--hover-bg-color);\n",
              "    box-shadow: 0 1px 2px rgba(60, 64, 67, 0.3), 0 1px 3px 1px rgba(60, 64, 67, 0.15);\n",
              "    fill: var(--button-hover-fill-color);\n",
              "  }\n",
              "\n",
              "  .colab-df-quickchart-complete:disabled,\n",
              "  .colab-df-quickchart-complete:disabled:hover {\n",
              "    background-color: var(--disabled-bg-color);\n",
              "    fill: var(--disabled-fill-color);\n",
              "    box-shadow: none;\n",
              "  }\n",
              "\n",
              "  .colab-df-spinner {\n",
              "    border: 2px solid var(--fill-color);\n",
              "    border-color: transparent;\n",
              "    border-bottom-color: var(--fill-color);\n",
              "    animation:\n",
              "      spin 1s steps(1) infinite;\n",
              "  }\n",
              "\n",
              "  @keyframes spin {\n",
              "    0% {\n",
              "      border-color: transparent;\n",
              "      border-bottom-color: var(--fill-color);\n",
              "      border-left-color: var(--fill-color);\n",
              "    }\n",
              "    20% {\n",
              "      border-color: transparent;\n",
              "      border-left-color: var(--fill-color);\n",
              "      border-top-color: var(--fill-color);\n",
              "    }\n",
              "    30% {\n",
              "      border-color: transparent;\n",
              "      border-left-color: var(--fill-color);\n",
              "      border-top-color: var(--fill-color);\n",
              "      border-right-color: var(--fill-color);\n",
              "    }\n",
              "    40% {\n",
              "      border-color: transparent;\n",
              "      border-right-color: var(--fill-color);\n",
              "      border-top-color: var(--fill-color);\n",
              "    }\n",
              "    60% {\n",
              "      border-color: transparent;\n",
              "      border-right-color: var(--fill-color);\n",
              "    }\n",
              "    80% {\n",
              "      border-color: transparent;\n",
              "      border-right-color: var(--fill-color);\n",
              "      border-bottom-color: var(--fill-color);\n",
              "    }\n",
              "    90% {\n",
              "      border-color: transparent;\n",
              "      border-bottom-color: var(--fill-color);\n",
              "    }\n",
              "  }\n",
              "</style>\n",
              "\n",
              "  <script>\n",
              "    async function quickchart(key) {\n",
              "      const quickchartButtonEl =\n",
              "        document.querySelector('#' + key + ' button');\n",
              "      quickchartButtonEl.disabled = true;  // To prevent multiple clicks.\n",
              "      quickchartButtonEl.classList.add('colab-df-spinner');\n",
              "      try {\n",
              "        const charts = await google.colab.kernel.invokeFunction(\n",
              "            'suggestCharts', [key], {});\n",
              "      } catch (error) {\n",
              "        console.error('Error during call to suggestCharts:', error);\n",
              "      }\n",
              "      quickchartButtonEl.classList.remove('colab-df-spinner');\n",
              "      quickchartButtonEl.classList.add('colab-df-quickchart-complete');\n",
              "    }\n",
              "    (() => {\n",
              "      let quickchartButtonEl =\n",
              "        document.querySelector('#df-a81ab3a5-9b95-4b28-bd92-92c36a62e92c button');\n",
              "      quickchartButtonEl.style.display =\n",
              "        google.colab.kernel.accessAllowed ? 'block' : 'none';\n",
              "    })();\n",
              "  </script>\n",
              "</div>\n",
              "\n",
              "    </div>\n",
              "  </div>\n"
            ],
            "application/vnd.google.colaboratory.intrinsic+json": {
              "type": "dataframe",
              "variable_name": "df",
              "summary": "{\n  \"name\": \"df\",\n  \"rows\": 50000,\n  \"fields\": [\n    {\n      \"column\": \"review\",\n      \"properties\": {\n        \"dtype\": \"string\",\n        \"num_unique_values\": 49569,\n        \"samples\": [\n          \"ex merchant seaman really interested movie personally involved stowaway search leaving one person found get ashore though territorial another ship stowaway found could land anywhere due fact stayed year almost honorary crew member worked keep notorious stowaway great scene beginning film bulk carrier port size crew pop ashore little intercourse inebriation far normal drama enter vast cavernous ship joss brilliant captain drink problem right form representative board stowaway search classic question use film ship vast experience sea severely restricted due customs also dog board rabies especially restrict carrying animal severely anyway brilliant mate horror discovery unbearable grim metallic background feeling hide crew murder get involved gradually world violence chase ship especially engine room edge seat feeling extreme claustrophobia feeling metal pressing death gun barrel away film brutal give watching shooting beating goes comfort well cabin drunk unaware mayhem 3 tense film flawed real message get violence like slowly surely think train took worked train timetable always remember someone concentration camp end war said one put outside camp crematorium film like ordinary people suddenly finding world unstoppable violence\",\n          \"yes romantic comedy fit bill performance beginning end film whistling dark production number number middle story rock seeing girl certainly make wish film could found video would surely purchase heartbeat home library\",\n          \"past ten even longer whole world flooded actually deserve title predictable king original unique astoundingly funny alternation daily life deliveryman wife works assistant father extrovert fantastic jerry stiller show every time important people best deacon kelly married couple friend spence almost 30 still mother show unique funny every single character real cynical sarcastic attitude total opposite slightly dumb one absolutely unpredictable strange often trouble drag mud even opinion quality show little within last still one best daily ever made little time get relate done get unstoppable although think could survive one day closed room without beating really adore show watch fun give 9 10\"\n        ],\n        \"semantic_type\": \"\",\n        \"description\": \"\"\n      }\n    },\n    {\n      \"column\": \"sentiment\",\n      \"properties\": {\n        \"dtype\": \"number\",\n        \"std\": 0,\n        \"min\": 0,\n        \"max\": 1,\n        \"num_unique_values\": 2,\n        \"samples\": [\n          0,\n          1\n        ],\n        \"semantic_type\": \"\",\n        \"description\": \"\"\n      }\n    }\n  ]\n}"
            }
          },
          "metadata": {},
          "execution_count": 11
        }
      ]
    },
    {
      "cell_type": "code",
      "source": [
        "pd.set_option('display.max_colwidth', 50)\n",
        "df.head(5)"
      ],
      "metadata": {
        "colab": {
          "base_uri": "https://localhost:8080/",
          "height": 206
        },
        "id": "tw_sZYn1FCm6",
        "outputId": "cc834cfe-8b92-46cc-c26d-eb8b9056fb30"
      },
      "execution_count": null,
      "outputs": [
        {
          "output_type": "execute_result",
          "data": {
            "text/plain": [
              "                                              review  sentiment\n",
              "0  one watching 1 episode hooked right exactly fi...          1\n",
              "1  wonderful little production technique unassumi...          1\n",
              "2  thought wonderful way spend time hot summer we...          1\n",
              "3  basically family little boy jake zombie closet...          0\n",
              "4  petter love time money visually stunning film ...          1"
            ],
            "text/html": [
              "\n",
              "  <div id=\"df-13010968-d184-4ece-84b1-68eb28d2edd4\" class=\"colab-df-container\">\n",
              "    <div>\n",
              "<style scoped>\n",
              "    .dataframe tbody tr th:only-of-type {\n",
              "        vertical-align: middle;\n",
              "    }\n",
              "\n",
              "    .dataframe tbody tr th {\n",
              "        vertical-align: top;\n",
              "    }\n",
              "\n",
              "    .dataframe thead th {\n",
              "        text-align: right;\n",
              "    }\n",
              "</style>\n",
              "<table border=\"1\" class=\"dataframe\">\n",
              "  <thead>\n",
              "    <tr style=\"text-align: right;\">\n",
              "      <th></th>\n",
              "      <th>review</th>\n",
              "      <th>sentiment</th>\n",
              "    </tr>\n",
              "  </thead>\n",
              "  <tbody>\n",
              "    <tr>\n",
              "      <th>0</th>\n",
              "      <td>one watching 1 episode hooked right exactly fi...</td>\n",
              "      <td>1</td>\n",
              "    </tr>\n",
              "    <tr>\n",
              "      <th>1</th>\n",
              "      <td>wonderful little production technique unassumi...</td>\n",
              "      <td>1</td>\n",
              "    </tr>\n",
              "    <tr>\n",
              "      <th>2</th>\n",
              "      <td>thought wonderful way spend time hot summer we...</td>\n",
              "      <td>1</td>\n",
              "    </tr>\n",
              "    <tr>\n",
              "      <th>3</th>\n",
              "      <td>basically family little boy jake zombie closet...</td>\n",
              "      <td>0</td>\n",
              "    </tr>\n",
              "    <tr>\n",
              "      <th>4</th>\n",
              "      <td>petter love time money visually stunning film ...</td>\n",
              "      <td>1</td>\n",
              "    </tr>\n",
              "  </tbody>\n",
              "</table>\n",
              "</div>\n",
              "    <div class=\"colab-df-buttons\">\n",
              "\n",
              "  <div class=\"colab-df-container\">\n",
              "    <button class=\"colab-df-convert\" onclick=\"convertToInteractive('df-13010968-d184-4ece-84b1-68eb28d2edd4')\"\n",
              "            title=\"Convert this dataframe to an interactive table.\"\n",
              "            style=\"display:none;\">\n",
              "\n",
              "  <svg xmlns=\"http://www.w3.org/2000/svg\" height=\"24px\" viewBox=\"0 -960 960 960\">\n",
              "    <path d=\"M120-120v-720h720v720H120Zm60-500h600v-160H180v160Zm220 220h160v-160H400v160Zm0 220h160v-160H400v160ZM180-400h160v-160H180v160Zm440 0h160v-160H620v160ZM180-180h160v-160H180v160Zm440 0h160v-160H620v160Z\"/>\n",
              "  </svg>\n",
              "    </button>\n",
              "\n",
              "  <style>\n",
              "    .colab-df-container {\n",
              "      display:flex;\n",
              "      gap: 12px;\n",
              "    }\n",
              "\n",
              "    .colab-df-convert {\n",
              "      background-color: #E8F0FE;\n",
              "      border: none;\n",
              "      border-radius: 50%;\n",
              "      cursor: pointer;\n",
              "      display: none;\n",
              "      fill: #1967D2;\n",
              "      height: 32px;\n",
              "      padding: 0 0 0 0;\n",
              "      width: 32px;\n",
              "    }\n",
              "\n",
              "    .colab-df-convert:hover {\n",
              "      background-color: #E2EBFA;\n",
              "      box-shadow: 0px 1px 2px rgba(60, 64, 67, 0.3), 0px 1px 3px 1px rgba(60, 64, 67, 0.15);\n",
              "      fill: #174EA6;\n",
              "    }\n",
              "\n",
              "    .colab-df-buttons div {\n",
              "      margin-bottom: 4px;\n",
              "    }\n",
              "\n",
              "    [theme=dark] .colab-df-convert {\n",
              "      background-color: #3B4455;\n",
              "      fill: #D2E3FC;\n",
              "    }\n",
              "\n",
              "    [theme=dark] .colab-df-convert:hover {\n",
              "      background-color: #434B5C;\n",
              "      box-shadow: 0px 1px 3px 1px rgba(0, 0, 0, 0.15);\n",
              "      filter: drop-shadow(0px 1px 2px rgba(0, 0, 0, 0.3));\n",
              "      fill: #FFFFFF;\n",
              "    }\n",
              "  </style>\n",
              "\n",
              "    <script>\n",
              "      const buttonEl =\n",
              "        document.querySelector('#df-13010968-d184-4ece-84b1-68eb28d2edd4 button.colab-df-convert');\n",
              "      buttonEl.style.display =\n",
              "        google.colab.kernel.accessAllowed ? 'block' : 'none';\n",
              "\n",
              "      async function convertToInteractive(key) {\n",
              "        const element = document.querySelector('#df-13010968-d184-4ece-84b1-68eb28d2edd4');\n",
              "        const dataTable =\n",
              "          await google.colab.kernel.invokeFunction('convertToInteractive',\n",
              "                                                    [key], {});\n",
              "        if (!dataTable) return;\n",
              "\n",
              "        const docLinkHtml = 'Like what you see? Visit the ' +\n",
              "          '<a target=\"_blank\" href=https://colab.research.google.com/notebooks/data_table.ipynb>data table notebook</a>'\n",
              "          + ' to learn more about interactive tables.';\n",
              "        element.innerHTML = '';\n",
              "        dataTable['output_type'] = 'display_data';\n",
              "        await google.colab.output.renderOutput(dataTable, element);\n",
              "        const docLink = document.createElement('div');\n",
              "        docLink.innerHTML = docLinkHtml;\n",
              "        element.appendChild(docLink);\n",
              "      }\n",
              "    </script>\n",
              "  </div>\n",
              "\n",
              "\n",
              "<div id=\"df-7c86cb4a-ffbb-4877-8265-a7f70bd09d16\">\n",
              "  <button class=\"colab-df-quickchart\" onclick=\"quickchart('df-7c86cb4a-ffbb-4877-8265-a7f70bd09d16')\"\n",
              "            title=\"Suggest charts\"\n",
              "            style=\"display:none;\">\n",
              "\n",
              "<svg xmlns=\"http://www.w3.org/2000/svg\" height=\"24px\"viewBox=\"0 0 24 24\"\n",
              "     width=\"24px\">\n",
              "    <g>\n",
              "        <path d=\"M19 3H5c-1.1 0-2 .9-2 2v14c0 1.1.9 2 2 2h14c1.1 0 2-.9 2-2V5c0-1.1-.9-2-2-2zM9 17H7v-7h2v7zm4 0h-2V7h2v10zm4 0h-2v-4h2v4z\"/>\n",
              "    </g>\n",
              "</svg>\n",
              "  </button>\n",
              "\n",
              "<style>\n",
              "  .colab-df-quickchart {\n",
              "      --bg-color: #E8F0FE;\n",
              "      --fill-color: #1967D2;\n",
              "      --hover-bg-color: #E2EBFA;\n",
              "      --hover-fill-color: #174EA6;\n",
              "      --disabled-fill-color: #AAA;\n",
              "      --disabled-bg-color: #DDD;\n",
              "  }\n",
              "\n",
              "  [theme=dark] .colab-df-quickchart {\n",
              "      --bg-color: #3B4455;\n",
              "      --fill-color: #D2E3FC;\n",
              "      --hover-bg-color: #434B5C;\n",
              "      --hover-fill-color: #FFFFFF;\n",
              "      --disabled-bg-color: #3B4455;\n",
              "      --disabled-fill-color: #666;\n",
              "  }\n",
              "\n",
              "  .colab-df-quickchart {\n",
              "    background-color: var(--bg-color);\n",
              "    border: none;\n",
              "    border-radius: 50%;\n",
              "    cursor: pointer;\n",
              "    display: none;\n",
              "    fill: var(--fill-color);\n",
              "    height: 32px;\n",
              "    padding: 0;\n",
              "    width: 32px;\n",
              "  }\n",
              "\n",
              "  .colab-df-quickchart:hover {\n",
              "    background-color: var(--hover-bg-color);\n",
              "    box-shadow: 0 1px 2px rgba(60, 64, 67, 0.3), 0 1px 3px 1px rgba(60, 64, 67, 0.15);\n",
              "    fill: var(--button-hover-fill-color);\n",
              "  }\n",
              "\n",
              "  .colab-df-quickchart-complete:disabled,\n",
              "  .colab-df-quickchart-complete:disabled:hover {\n",
              "    background-color: var(--disabled-bg-color);\n",
              "    fill: var(--disabled-fill-color);\n",
              "    box-shadow: none;\n",
              "  }\n",
              "\n",
              "  .colab-df-spinner {\n",
              "    border: 2px solid var(--fill-color);\n",
              "    border-color: transparent;\n",
              "    border-bottom-color: var(--fill-color);\n",
              "    animation:\n",
              "      spin 1s steps(1) infinite;\n",
              "  }\n",
              "\n",
              "  @keyframes spin {\n",
              "    0% {\n",
              "      border-color: transparent;\n",
              "      border-bottom-color: var(--fill-color);\n",
              "      border-left-color: var(--fill-color);\n",
              "    }\n",
              "    20% {\n",
              "      border-color: transparent;\n",
              "      border-left-color: var(--fill-color);\n",
              "      border-top-color: var(--fill-color);\n",
              "    }\n",
              "    30% {\n",
              "      border-color: transparent;\n",
              "      border-left-color: var(--fill-color);\n",
              "      border-top-color: var(--fill-color);\n",
              "      border-right-color: var(--fill-color);\n",
              "    }\n",
              "    40% {\n",
              "      border-color: transparent;\n",
              "      border-right-color: var(--fill-color);\n",
              "      border-top-color: var(--fill-color);\n",
              "    }\n",
              "    60% {\n",
              "      border-color: transparent;\n",
              "      border-right-color: var(--fill-color);\n",
              "    }\n",
              "    80% {\n",
              "      border-color: transparent;\n",
              "      border-right-color: var(--fill-color);\n",
              "      border-bottom-color: var(--fill-color);\n",
              "    }\n",
              "    90% {\n",
              "      border-color: transparent;\n",
              "      border-bottom-color: var(--fill-color);\n",
              "    }\n",
              "  }\n",
              "</style>\n",
              "\n",
              "  <script>\n",
              "    async function quickchart(key) {\n",
              "      const quickchartButtonEl =\n",
              "        document.querySelector('#' + key + ' button');\n",
              "      quickchartButtonEl.disabled = true;  // To prevent multiple clicks.\n",
              "      quickchartButtonEl.classList.add('colab-df-spinner');\n",
              "      try {\n",
              "        const charts = await google.colab.kernel.invokeFunction(\n",
              "            'suggestCharts', [key], {});\n",
              "      } catch (error) {\n",
              "        console.error('Error during call to suggestCharts:', error);\n",
              "      }\n",
              "      quickchartButtonEl.classList.remove('colab-df-spinner');\n",
              "      quickchartButtonEl.classList.add('colab-df-quickchart-complete');\n",
              "    }\n",
              "    (() => {\n",
              "      let quickchartButtonEl =\n",
              "        document.querySelector('#df-7c86cb4a-ffbb-4877-8265-a7f70bd09d16 button');\n",
              "      quickchartButtonEl.style.display =\n",
              "        google.colab.kernel.accessAllowed ? 'block' : 'none';\n",
              "    })();\n",
              "  </script>\n",
              "</div>\n",
              "\n",
              "    </div>\n",
              "  </div>\n"
            ],
            "application/vnd.google.colaboratory.intrinsic+json": {
              "type": "dataframe",
              "variable_name": "df",
              "summary": "{\n  \"name\": \"df\",\n  \"rows\": 50000,\n  \"fields\": [\n    {\n      \"column\": \"review\",\n      \"properties\": {\n        \"dtype\": \"string\",\n        \"num_unique_values\": 49569,\n        \"samples\": [\n          \"ex merchant seaman really interested movie personally involved stowaway search leaving one person found get ashore though territorial another ship stowaway found could land anywhere due fact stayed year almost honorary crew member worked keep notorious stowaway great scene beginning film bulk carrier port size crew pop ashore little intercourse inebriation far normal drama enter vast cavernous ship joss brilliant captain drink problem right form representative board stowaway search classic question use film ship vast experience sea severely restricted due customs also dog board rabies especially restrict carrying animal severely anyway brilliant mate horror discovery unbearable grim metallic background feeling hide crew murder get involved gradually world violence chase ship especially engine room edge seat feeling extreme claustrophobia feeling metal pressing death gun barrel away film brutal give watching shooting beating goes comfort well cabin drunk unaware mayhem 3 tense film flawed real message get violence like slowly surely think train took worked train timetable always remember someone concentration camp end war said one put outside camp crematorium film like ordinary people suddenly finding world unstoppable violence\",\n          \"yes romantic comedy fit bill performance beginning end film whistling dark production number number middle story rock seeing girl certainly make wish film could found video would surely purchase heartbeat home library\",\n          \"past ten even longer whole world flooded actually deserve title predictable king original unique astoundingly funny alternation daily life deliveryman wife works assistant father extrovert fantastic jerry stiller show every time important people best deacon kelly married couple friend spence almost 30 still mother show unique funny every single character real cynical sarcastic attitude total opposite slightly dumb one absolutely unpredictable strange often trouble drag mud even opinion quality show little within last still one best daily ever made little time get relate done get unstoppable although think could survive one day closed room without beating really adore show watch fun give 9 10\"\n        ],\n        \"semantic_type\": \"\",\n        \"description\": \"\"\n      }\n    },\n    {\n      \"column\": \"sentiment\",\n      \"properties\": {\n        \"dtype\": \"number\",\n        \"std\": 0,\n        \"min\": 0,\n        \"max\": 1,\n        \"num_unique_values\": 2,\n        \"samples\": [\n          0,\n          1\n        ],\n        \"semantic_type\": \"\",\n        \"description\": \"\"\n      }\n    }\n  ]\n}"
            }
          },
          "metadata": {},
          "execution_count": 12
        }
      ]
    },
    {
      "cell_type": "code",
      "source": [
        "# Storing the processed dataframe for further use\n",
        "pickle_path = '/content/drive/MyDrive/Career/AI/DL Projects/IMDB Reviews Sentiment Analysis/'\n",
        "pickle_out=open(pickle_path+'df.pickle', 'wb')\n",
        "pickle.dump(df,pickle_out)\n",
        "pickle_out.close()"
      ],
      "metadata": {
        "id": "VtMQsvsBn6PK"
      },
      "execution_count": null,
      "outputs": []
    },
    {
      "cell_type": "code",
      "source": [
        "# Importing the final featurized dataframe\n",
        "pickle_in=open(\"/content/drive/MyDrive/Career/AI/DL Projects/IMDB Reviews Sentiment Analysis/df.pickle\",\"rb\")\n",
        "df=pickle.load(pickle_in)\n",
        "pickle_in.close()\n",
        "print(\"Shape of featurized df_final dataframe is\",df.shape)"
      ],
      "metadata": {
        "colab": {
          "base_uri": "https://localhost:8080/"
        },
        "id": "79mGQoDSoY0i",
        "outputId": "896b6c8f-526c-4861-b4cf-2b52e5baa1e1"
      },
      "execution_count": 6,
      "outputs": [
        {
          "output_type": "stream",
          "name": "stdout",
          "text": [
            "Shape of featurized df_final dataframe is (50000, 2)\n"
          ]
        }
      ]
    },
    {
      "cell_type": "markdown",
      "source": [
        "## Train test split"
      ],
      "metadata": {
        "id": "m7V9ipaGyQMY"
      }
    },
    {
      "cell_type": "code",
      "source": [
        "# Lets build the model considering first 20,000 rows. Train test split will happen on these 20000 rows. Rest 30000 will be used as OOT\n",
        "df_train_test=df.iloc[:20000]\n",
        "df_oot=df.iloc[20000:]\n",
        "print(df_train_test.shape)\n",
        "print(df_oot.shape)\n",
        "df_train_test.sentiment.value_counts()"
      ],
      "metadata": {
        "colab": {
          "base_uri": "https://localhost:8080/",
          "height": 215
        },
        "id": "i90LH0tZx2YG",
        "outputId": "d647d561-6ffc-40f8-f9ea-b64fa035c182"
      },
      "execution_count": 7,
      "outputs": [
        {
          "output_type": "stream",
          "name": "stdout",
          "text": [
            "(20000, 2)\n",
            "(30000, 2)\n"
          ]
        },
        {
          "output_type": "execute_result",
          "data": {
            "text/plain": [
              "sentiment\n",
              "0    10097\n",
              "1     9903\n",
              "Name: count, dtype: int64"
            ],
            "text/html": [
              "<div>\n",
              "<style scoped>\n",
              "    .dataframe tbody tr th:only-of-type {\n",
              "        vertical-align: middle;\n",
              "    }\n",
              "\n",
              "    .dataframe tbody tr th {\n",
              "        vertical-align: top;\n",
              "    }\n",
              "\n",
              "    .dataframe thead th {\n",
              "        text-align: right;\n",
              "    }\n",
              "</style>\n",
              "<table border=\"1\" class=\"dataframe\">\n",
              "  <thead>\n",
              "    <tr style=\"text-align: right;\">\n",
              "      <th></th>\n",
              "      <th>count</th>\n",
              "    </tr>\n",
              "    <tr>\n",
              "      <th>sentiment</th>\n",
              "      <th></th>\n",
              "    </tr>\n",
              "  </thead>\n",
              "  <tbody>\n",
              "    <tr>\n",
              "      <th>0</th>\n",
              "      <td>10097</td>\n",
              "    </tr>\n",
              "    <tr>\n",
              "      <th>1</th>\n",
              "      <td>9903</td>\n",
              "    </tr>\n",
              "  </tbody>\n",
              "</table>\n",
              "</div><br><label><b>dtype:</b> int64</label>"
            ]
          },
          "metadata": {},
          "execution_count": 7
        }
      ]
    },
    {
      "cell_type": "code",
      "source": [
        "# lets train test split the data\n",
        "x_train, x_test, y_train, y_test = train_test_split(df_train_test['review'], df_train_test['sentiment'], test_size=0.1, random_state=42)"
      ],
      "metadata": {
        "id": "FgCpY-eeHz54"
      },
      "execution_count": 8,
      "outputs": []
    },
    {
      "cell_type": "code",
      "source": [
        "print(\"x_train shape:\", x_train.shape)\n",
        "print(\"y_train shape:\", y_train.shape)\n",
        "print(\"x_test shape:\", x_test.shape)\n",
        "print(\"y_test shape:\", y_test.shape)"
      ],
      "metadata": {
        "colab": {
          "base_uri": "https://localhost:8080/"
        },
        "id": "BF9jFordJKYO",
        "outputId": "5838cea2-8653-478a-9d0c-3c42ce419998"
      },
      "execution_count": 9,
      "outputs": [
        {
          "output_type": "stream",
          "name": "stdout",
          "text": [
            "x_train shape: (18000,)\n",
            "y_train shape: (18000,)\n",
            "x_test shape: (2000,)\n",
            "y_test shape: (2000,)\n"
          ]
        }
      ]
    },
    {
      "cell_type": "code",
      "source": [
        "x_train"
      ],
      "metadata": {
        "colab": {
          "base_uri": "https://localhost:8080/",
          "height": 458
        },
        "id": "n_Otpb7XKXAc",
        "outputId": "890131cb-e2bd-4049-ac54-e013651e7291"
      },
      "execution_count": 10,
      "outputs": [
        {
          "output_type": "execute_result",
          "data": {
            "text/plain": [
              "16270    remember lyricist brother film snapped many ty...\n",
              "1383     caught farewell king cable maybe girl thought ...\n",
              "3472     like anybody make movie nowadays like need cam...\n",
              "19900    concept behind horror something going horror l...\n",
              "2150     usually write comment many time feel spoken ta...\n",
              "                               ...                        \n",
              "11284    shadow magic joy amazement first movie also po...\n",
              "11964    taken premise film good one good film require ...\n",
              "5390     cannot knock film terribly obvious midway watc...\n",
              "860      production quite surprise absolutely love obsc...\n",
              "15795    decent movie although little bit short time lo...\n",
              "Name: review, Length: 18000, dtype: object"
            ],
            "text/html": [
              "<div>\n",
              "<style scoped>\n",
              "    .dataframe tbody tr th:only-of-type {\n",
              "        vertical-align: middle;\n",
              "    }\n",
              "\n",
              "    .dataframe tbody tr th {\n",
              "        vertical-align: top;\n",
              "    }\n",
              "\n",
              "    .dataframe thead th {\n",
              "        text-align: right;\n",
              "    }\n",
              "</style>\n",
              "<table border=\"1\" class=\"dataframe\">\n",
              "  <thead>\n",
              "    <tr style=\"text-align: right;\">\n",
              "      <th></th>\n",
              "      <th>review</th>\n",
              "    </tr>\n",
              "  </thead>\n",
              "  <tbody>\n",
              "    <tr>\n",
              "      <th>16270</th>\n",
              "      <td>remember lyricist brother film snapped many ty...</td>\n",
              "    </tr>\n",
              "    <tr>\n",
              "      <th>1383</th>\n",
              "      <td>caught farewell king cable maybe girl thought ...</td>\n",
              "    </tr>\n",
              "    <tr>\n",
              "      <th>3472</th>\n",
              "      <td>like anybody make movie nowadays like need cam...</td>\n",
              "    </tr>\n",
              "    <tr>\n",
              "      <th>19900</th>\n",
              "      <td>concept behind horror something going horror l...</td>\n",
              "    </tr>\n",
              "    <tr>\n",
              "      <th>2150</th>\n",
              "      <td>usually write comment many time feel spoken ta...</td>\n",
              "    </tr>\n",
              "    <tr>\n",
              "      <th>...</th>\n",
              "      <td>...</td>\n",
              "    </tr>\n",
              "    <tr>\n",
              "      <th>11284</th>\n",
              "      <td>shadow magic joy amazement first movie also po...</td>\n",
              "    </tr>\n",
              "    <tr>\n",
              "      <th>11964</th>\n",
              "      <td>taken premise film good one good film require ...</td>\n",
              "    </tr>\n",
              "    <tr>\n",
              "      <th>5390</th>\n",
              "      <td>cannot knock film terribly obvious midway watc...</td>\n",
              "    </tr>\n",
              "    <tr>\n",
              "      <th>860</th>\n",
              "      <td>production quite surprise absolutely love obsc...</td>\n",
              "    </tr>\n",
              "    <tr>\n",
              "      <th>15795</th>\n",
              "      <td>decent movie although little bit short time lo...</td>\n",
              "    </tr>\n",
              "  </tbody>\n",
              "</table>\n",
              "<p>18000 rows × 1 columns</p>\n",
              "</div><br><label><b>dtype:</b> object</label>"
            ]
          },
          "metadata": {},
          "execution_count": 10
        }
      ]
    },
    {
      "cell_type": "markdown",
      "source": [
        "## Tokenization research\n",
        "We need to use a sentence representation method for each sentence. As the vocab size of train itself is very high, using the same vocab size will result in very high training time. We need to do following 3 tasks:\n",
        "1. Select the correct representation method\n",
        "2. select the suitable vocab size\n",
        "3. select the suitable sentence length"
      ],
      "metadata": {
        "id": "y1xE5GJAghy8"
      }
    },
    {
      "cell_type": "code",
      "source": [
        "# 1. compute the vocab frequency using countvectorizer\n",
        "# Create a CountVectorizer object\n",
        "vectorizer = CountVectorizer()\n",
        "\n",
        "# Fit and transform the documents\n",
        "vectorized_data = vectorizer.fit_transform(x_train)\n",
        "print('Vocab size is',len(vectorizer.get_feature_names_out()))\n",
        "print(vectorizer.get_feature_names_out()) # get the feature names\n",
        "print(vectorized_data.toarray().sum(axis=0)) # get the frequency of each word in the entire corpus. There can be duplicates in a single sentence\n",
        "\n",
        "lst1=vectorizer.get_feature_names_out().tolist()\n",
        "lst2=vectorized_data.toarray().sum(axis=0).tolist()\n",
        "\n",
        "dic=dict(zip(lst1,lst2))\n",
        "dic2={k: v for k, v in sorted(dic.items(), key=lambda item: item[1],reverse=True)}\n",
        "{k: dic2[k] for k in list(dic2)[:10]} # display top 10 frequent words"
      ],
      "metadata": {
        "colab": {
          "base_uri": "https://localhost:8080/"
        },
        "id": "kE-i1isEGwIC",
        "outputId": "cbc825b2-9f03-4c97-e8db-3f77c2adcb6c"
      },
      "execution_count": null,
      "outputs": [
        {
          "output_type": "stream",
          "name": "stdout",
          "text": [
            "Vocab size is 27244\n",
            "['00' '000' '0001' ... 'zoom' 'zoom2006' 'zorro']\n",
            "[ 8  2  1 ... 18  1 18]\n"
          ]
        },
        {
          "output_type": "execute_result",
          "data": {
            "text/plain": [
              "{'movie': 30192,\n",
              " 'film': 26717,\n",
              " 'one': 18373,\n",
              " 'like': 14087,\n",
              " 'good': 10416,\n",
              " 'would': 10276,\n",
              " 'even': 8891,\n",
              " 'time': 8362,\n",
              " 'really': 8230,\n",
              " 'see': 8137}"
            ]
          },
          "metadata": {},
          "execution_count": 18
        }
      ]
    },
    {
      "cell_type": "code",
      "source": [
        "vectorizer.transform(['00 00']).toarray()"
      ],
      "metadata": {
        "colab": {
          "base_uri": "https://localhost:8080/"
        },
        "id": "DST4oJhe5P5U",
        "outputId": "53cb305e-2c30-48d8-bc5a-00da9db1f8b2"
      },
      "execution_count": null,
      "outputs": [
        {
          "output_type": "execute_result",
          "data": {
            "text/plain": [
              "array([[2, 0, 0, ..., 0, 0, 0]])"
            ]
          },
          "metadata": {},
          "execution_count": 30
        }
      ]
    },
    {
      "cell_type": "code",
      "source": [
        "# 2. Test keras tokenizer on test string\n",
        "t  = Tokenizer()\n",
        "t.fit_on_texts(x_train)\n",
        "test_text = [\"br movie film one hot\"]\n",
        "sequences = t.texts_to_sequences(test_text)\n",
        "print(\"sequences : \",sequences,'\\n')\n",
        "print(\"word_index : \",{k: t.word_index[k] for k in list(t.word_index)[:10]})"
      ],
      "metadata": {
        "colab": {
          "base_uri": "https://localhost:8080/"
        },
        "id": "fMBLVrfmZ7gi",
        "outputId": "5b3f2010-5e3e-4d86-dfab-5461f7634f3d"
      },
      "execution_count": null,
      "outputs": [
        {
          "output_type": "stream",
          "name": "stdout",
          "text": [
            "sequences :  [[1, 2, 3, 614]] \n",
            "\n",
            "word_index :  {'movie': 1, 'film': 2, 'one': 3, 'like': 4, 'good': 5, 'would': 6, 'even': 7, 'time': 8, 'really': 9, 'see': 10}\n"
          ]
        }
      ]
    },
    {
      "cell_type": "code",
      "source": [
        "# 3. Test keras one_hot on test string\n",
        "# integer encode the documents\n",
        "vocab_size = len(vectorizer.get_feature_names_out())\n",
        "encoded_docs = [one_hot(d, vocab_size) for d in test_text]\n",
        "print(encoded_docs)"
      ],
      "metadata": {
        "colab": {
          "base_uri": "https://localhost:8080/"
        },
        "id": "7S6fXrj-YdII",
        "outputId": "f93ce7e7-7394-4771-f2d5-a0a80c943b38"
      },
      "execution_count": null,
      "outputs": [
        {
          "output_type": "stream",
          "name": "stdout",
          "text": [
            "[[12187, 11590, 14841, 16719, 24534]]\n"
          ]
        }
      ]
    },
    {
      "cell_type": "markdown",
      "source": [
        "From above 3 methods it is clear that keras toeknizer follows frequency for sentence representation. It is not clear how one_hot is working and its representation for small vocabulary size.\n",
        "### Lets estimate the vocab size based on histogram"
      ],
      "metadata": {
        "id": "r6UdmDa8qsre"
      }
    },
    {
      "cell_type": "code",
      "source": [
        "# in the following graph it is assumd that freq=1 means it is occuring in one sentence. However freq is computed based on duplicates allowed in a sentence.\n",
        "%matplotlib inline\n",
        "plt.figure(figsize=(10,4))\n",
        "plt.subplot(1,2,1)\n",
        "plt.plot([i for i in range(len(dic2.values()))], [round(i/len(x_train)*100,2) for i in dic2.values()])\n",
        "plt.title('Word Appearing in % reviews')\n",
        "plt.ylabel('%')\n",
        "plt.xlabel('Word Sorted Count')\n",
        "\n",
        "plt.subplot(1,2,2)\n",
        "plt.plot([i for i in range(len(dic2.values()))], [round(i/len(x_train)*100,2) for i in dic2.values()])\n",
        "plt.title('Word Appearing in % reviews')\n",
        "plt.ylabel('%')\n",
        "plt.xlabel('Word Sorted Count')\n",
        "plt.xlim(500,3000)\n",
        "plt.ylim(0,3)\n",
        "\n",
        "plt.show()"
      ],
      "metadata": {
        "colab": {
          "base_uri": "https://localhost:8080/",
          "height": 410
        },
        "id": "jpA8nKbjZJ_w",
        "outputId": "7bf0a7a3-fdb5-4ed8-aa56-63df9338d270"
      },
      "execution_count": null,
      "outputs": [
        {
          "output_type": "display_data",
          "data": {
            "text/plain": [
              "<Figure size 1000x400 with 2 Axes>"
            ],
            "image/png": "[encoded data removed]"
          },
          "metadata": {}
        }
      ]
    },
    {
      "cell_type": "markdown",
      "source": [
        "First 1000 words are appearing in 1.5% of reviews. First 3000 words are appearing in 0.5% of reviews. So based on this, we can initilize the word representation restricted to around 1000 words.\n",
        "### Deciding the sentence length for padding"
      ],
      "metadata": {
        "id": "cYmbyck5BUDy"
      }
    },
    {
      "cell_type": "code",
      "source": [
        "dff=pd.DataFrame(x_train,columns=['review'])\n",
        "dff['len']=dff.review.apply(lambda x : len(x.split()))\n",
        "pd.set_option('display.max_colwidth', 50)\n",
        "dff.head(5)"
      ],
      "metadata": {
        "id": "g2kbhj_rFH7h",
        "colab": {
          "base_uri": "https://localhost:8080/",
          "height": 206
        },
        "outputId": "aa73ddf3-3130-4c44-d73e-f6fc344ce32c"
      },
      "execution_count": null,
      "outputs": [
        {
          "output_type": "execute_result",
          "data": {
            "text/plain": [
              "                                                  review  len\n",
              "16270  remember lyricist brother film snapped many ty...  149\n",
              "1383   caught farewell king cable maybe girl thought ...   53\n",
              "3472   like anybody make movie nowadays like need cam...  129\n",
              "19900  concept behind horror something going horror l...  181\n",
              "2150   usually write comment many time feel spoken ta...  315"
            ],
            "text/html": [
              "\n",
              "  <div id=\"df-f78ec1d6-3714-4212-81db-6bd977351188\" class=\"colab-df-container\">\n",
              "    <div>\n",
              "<style scoped>\n",
              "    .dataframe tbody tr th:only-of-type {\n",
              "        vertical-align: middle;\n",
              "    }\n",
              "\n",
              "    .dataframe tbody tr th {\n",
              "        vertical-align: top;\n",
              "    }\n",
              "\n",
              "    .dataframe thead th {\n",
              "        text-align: right;\n",
              "    }\n",
              "</style>\n",
              "<table border=\"1\" class=\"dataframe\">\n",
              "  <thead>\n",
              "    <tr style=\"text-align: right;\">\n",
              "      <th></th>\n",
              "      <th>review</th>\n",
              "      <th>len</th>\n",
              "    </tr>\n",
              "  </thead>\n",
              "  <tbody>\n",
              "    <tr>\n",
              "      <th>16270</th>\n",
              "      <td>remember lyricist brother film snapped many ty...</td>\n",
              "      <td>149</td>\n",
              "    </tr>\n",
              "    <tr>\n",
              "      <th>1383</th>\n",
              "      <td>caught farewell king cable maybe girl thought ...</td>\n",
              "      <td>53</td>\n",
              "    </tr>\n",
              "    <tr>\n",
              "      <th>3472</th>\n",
              "      <td>like anybody make movie nowadays like need cam...</td>\n",
              "      <td>129</td>\n",
              "    </tr>\n",
              "    <tr>\n",
              "      <th>19900</th>\n",
              "      <td>concept behind horror something going horror l...</td>\n",
              "      <td>181</td>\n",
              "    </tr>\n",
              "    <tr>\n",
              "      <th>2150</th>\n",
              "      <td>usually write comment many time feel spoken ta...</td>\n",
              "      <td>315</td>\n",
              "    </tr>\n",
              "  </tbody>\n",
              "</table>\n",
              "</div>\n",
              "    <div class=\"colab-df-buttons\">\n",
              "\n",
              "  <div class=\"colab-df-container\">\n",
              "    <button class=\"colab-df-convert\" onclick=\"convertToInteractive('df-f78ec1d6-3714-4212-81db-6bd977351188')\"\n",
              "            title=\"Convert this dataframe to an interactive table.\"\n",
              "            style=\"display:none;\">\n",
              "\n",
              "  <svg xmlns=\"http://www.w3.org/2000/svg\" height=\"24px\" viewBox=\"0 -960 960 960\">\n",
              "    <path d=\"M120-120v-720h720v720H120Zm60-500h600v-160H180v160Zm220 220h160v-160H400v160Zm0 220h160v-160H400v160ZM180-400h160v-160H180v160Zm440 0h160v-160H620v160ZM180-180h160v-160H180v160Zm440 0h160v-160H620v160Z\"/>\n",
              "  </svg>\n",
              "    </button>\n",
              "\n",
              "  <style>\n",
              "    .colab-df-container {\n",
              "      display:flex;\n",
              "      gap: 12px;\n",
              "    }\n",
              "\n",
              "    .colab-df-convert {\n",
              "      background-color: #E8F0FE;\n",
              "      border: none;\n",
              "      border-radius: 50%;\n",
              "      cursor: pointer;\n",
              "      display: none;\n",
              "      fill: #1967D2;\n",
              "      height: 32px;\n",
              "      padding: 0 0 0 0;\n",
              "      width: 32px;\n",
              "    }\n",
              "\n",
              "    .colab-df-convert:hover {\n",
              "      background-color: #E2EBFA;\n",
              "      box-shadow: 0px 1px 2px rgba(60, 64, 67, 0.3), 0px 1px 3px 1px rgba(60, 64, 67, 0.15);\n",
              "      fill: #174EA6;\n",
              "    }\n",
              "\n",
              "    .colab-df-buttons div {\n",
              "      margin-bottom: 4px;\n",
              "    }\n",
              "\n",
              "    [theme=dark] .colab-df-convert {\n",
              "      background-color: #3B4455;\n",
              "      fill: #D2E3FC;\n",
              "    }\n",
              "\n",
              "    [theme=dark] .colab-df-convert:hover {\n",
              "      background-color: #434B5C;\n",
              "      box-shadow: 0px 1px 3px 1px rgba(0, 0, 0, 0.15);\n",
              "      filter: drop-shadow(0px 1px 2px rgba(0, 0, 0, 0.3));\n",
              "      fill: #FFFFFF;\n",
              "    }\n",
              "  </style>\n",
              "\n",
              "    <script>\n",
              "      const buttonEl =\n",
              "        document.querySelector('#df-f78ec1d6-3714-4212-81db-6bd977351188 button.colab-df-convert');\n",
              "      buttonEl.style.display =\n",
              "        google.colab.kernel.accessAllowed ? 'block' : 'none';\n",
              "\n",
              "      async function convertToInteractive(key) {\n",
              "        const element = document.querySelector('#df-f78ec1d6-3714-4212-81db-6bd977351188');\n",
              "        const dataTable =\n",
              "          await google.colab.kernel.invokeFunction('convertToInteractive',\n",
              "                                                    [key], {});\n",
              "        if (!dataTable) return;\n",
              "\n",
              "        const docLinkHtml = 'Like what you see? Visit the ' +\n",
              "          '<a target=\"_blank\" href=https://colab.research.google.com/notebooks/data_table.ipynb>data table notebook</a>'\n",
              "          + ' to learn more about interactive tables.';\n",
              "        element.innerHTML = '';\n",
              "        dataTable['output_type'] = 'display_data';\n",
              "        await google.colab.output.renderOutput(dataTable, element);\n",
              "        const docLink = document.createElement('div');\n",
              "        docLink.innerHTML = docLinkHtml;\n",
              "        element.appendChild(docLink);\n",
              "      }\n",
              "    </script>\n",
              "  </div>\n",
              "\n",
              "\n",
              "<div id=\"df-16b0dd1b-39ab-4d10-b80e-cb43f675e01f\">\n",
              "  <button class=\"colab-df-quickchart\" onclick=\"quickchart('df-16b0dd1b-39ab-4d10-b80e-cb43f675e01f')\"\n",
              "            title=\"Suggest charts\"\n",
              "            style=\"display:none;\">\n",
              "\n",
              "<svg xmlns=\"http://www.w3.org/2000/svg\" height=\"24px\"viewBox=\"0 0 24 24\"\n",
              "     width=\"24px\">\n",
              "    <g>\n",
              "        <path d=\"M19 3H5c-1.1 0-2 .9-2 2v14c0 1.1.9 2 2 2h14c1.1 0 2-.9 2-2V5c0-1.1-.9-2-2-2zM9 17H7v-7h2v7zm4 0h-2V7h2v10zm4 0h-2v-4h2v4z\"/>\n",
              "    </g>\n",
              "</svg>\n",
              "  </button>\n",
              "\n",
              "<style>\n",
              "  .colab-df-quickchart {\n",
              "      --bg-color: #E8F0FE;\n",
              "      --fill-color: #1967D2;\n",
              "      --hover-bg-color: #E2EBFA;\n",
              "      --hover-fill-color: #174EA6;\n",
              "      --disabled-fill-color: #AAA;\n",
              "      --disabled-bg-color: #DDD;\n",
              "  }\n",
              "\n",
              "  [theme=dark] .colab-df-quickchart {\n",
              "      --bg-color: #3B4455;\n",
              "      --fill-color: #D2E3FC;\n",
              "      --hover-bg-color: #434B5C;\n",
              "      --hover-fill-color: #FFFFFF;\n",
              "      --disabled-bg-color: #3B4455;\n",
              "      --disabled-fill-color: #666;\n",
              "  }\n",
              "\n",
              "  .colab-df-quickchart {\n",
              "    background-color: var(--bg-color);\n",
              "    border: none;\n",
              "    border-radius: 50%;\n",
              "    cursor: pointer;\n",
              "    display: none;\n",
              "    fill: var(--fill-color);\n",
              "    height: 32px;\n",
              "    padding: 0;\n",
              "    width: 32px;\n",
              "  }\n",
              "\n",
              "  .colab-df-quickchart:hover {\n",
              "    background-color: var(--hover-bg-color);\n",
              "    box-shadow: 0 1px 2px rgba(60, 64, 67, 0.3), 0 1px 3px 1px rgba(60, 64, 67, 0.15);\n",
              "    fill: var(--button-hover-fill-color);\n",
              "  }\n",
              "\n",
              "  .colab-df-quickchart-complete:disabled,\n",
              "  .colab-df-quickchart-complete:disabled:hover {\n",
              "    background-color: var(--disabled-bg-color);\n",
              "    fill: var(--disabled-fill-color);\n",
              "    box-shadow: none;\n",
              "  }\n",
              "\n",
              "  .colab-df-spinner {\n",
              "    border: 2px solid var(--fill-color);\n",
              "    border-color: transparent;\n",
              "    border-bottom-color: var(--fill-color);\n",
              "    animation:\n",
              "      spin 1s steps(1) infinite;\n",
              "  }\n",
              "\n",
              "  @keyframes spin {\n",
              "    0% {\n",
              "      border-color: transparent;\n",
              "      border-bottom-color: var(--fill-color);\n",
              "      border-left-color: var(--fill-color);\n",
              "    }\n",
              "    20% {\n",
              "      border-color: transparent;\n",
              "      border-left-color: var(--fill-color);\n",
              "      border-top-color: var(--fill-color);\n",
              "    }\n",
              "    30% {\n",
              "      border-color: transparent;\n",
              "      border-left-color: var(--fill-color);\n",
              "      border-top-color: var(--fill-color);\n",
              "      border-right-color: var(--fill-color);\n",
              "    }\n",
              "    40% {\n",
              "      border-color: transparent;\n",
              "      border-right-color: var(--fill-color);\n",
              "      border-top-color: var(--fill-color);\n",
              "    }\n",
              "    60% {\n",
              "      border-color: transparent;\n",
              "      border-right-color: var(--fill-color);\n",
              "    }\n",
              "    80% {\n",
              "      border-color: transparent;\n",
              "      border-right-color: var(--fill-color);\n",
              "      border-bottom-color: var(--fill-color);\n",
              "    }\n",
              "    90% {\n",
              "      border-color: transparent;\n",
              "      border-bottom-color: var(--fill-color);\n",
              "    }\n",
              "  }\n",
              "</style>\n",
              "\n",
              "  <script>\n",
              "    async function quickchart(key) {\n",
              "      const quickchartButtonEl =\n",
              "        document.querySelector('#' + key + ' button');\n",
              "      quickchartButtonEl.disabled = true;  // To prevent multiple clicks.\n",
              "      quickchartButtonEl.classList.add('colab-df-spinner');\n",
              "      try {\n",
              "        const charts = await google.colab.kernel.invokeFunction(\n",
              "            'suggestCharts', [key], {});\n",
              "      } catch (error) {\n",
              "        console.error('Error during call to suggestCharts:', error);\n",
              "      }\n",
              "      quickchartButtonEl.classList.remove('colab-df-spinner');\n",
              "      quickchartButtonEl.classList.add('colab-df-quickchart-complete');\n",
              "    }\n",
              "    (() => {\n",
              "      let quickchartButtonEl =\n",
              "        document.querySelector('#df-16b0dd1b-39ab-4d10-b80e-cb43f675e01f button');\n",
              "      quickchartButtonEl.style.display =\n",
              "        google.colab.kernel.accessAllowed ? 'block' : 'none';\n",
              "    })();\n",
              "  </script>\n",
              "</div>\n",
              "\n",
              "    </div>\n",
              "  </div>\n"
            ],
            "application/vnd.google.colaboratory.intrinsic+json": {
              "type": "dataframe",
              "variable_name": "dff",
              "summary": "{\n  \"name\": \"dff\",\n  \"rows\": 18000,\n  \"fields\": [\n    {\n      \"column\": \"review\",\n      \"properties\": {\n        \"dtype\": \"string\",\n        \"num_unique_values\": 17946,\n        \"samples\": [\n          \"really nice surprise late last night could fall asleep really thinking twice turned film beginning luckily saw whole thing happy film good surprisingly good job solid performance lot substance behind film made realize good actor great father trey colonel trey final role untimely death bad quality actor like nice guy also nice job wife far direction idea franklin j director read review movie last film ever made understand movie good also directed truly great seen great film papillon watching welcome home said director really knowing directed one really beautiful scene orphan refuge enough bring sensitively directed also directed economical taut way nothing wasted effort script one reason film good writer weigh many written simply effectively lot said film also made time beautiful people\",\n          \"watch originally memory late lamented 1960s series mike cope never resist challenge known better quite remake parody homage show quite know play infantile comedy cartoon three main little fox could act bob painful straight role supporting cast merely wanting part far aware situation convincing though effects could help improvement available 30 merely viewer camera work little mask poor quality dialogue style substance whereas 1960s show much time update also obligatory girl power less subtle tension two living\",\n          \"may need know order decide whether want see movie bad really really bad sometimes aware make fun bad cliche cliche even grow worse goes along bad enough hilariously laugh really poor quality script writing production might enjoy otherwise prepare serious brain 310\"\n        ],\n        \"semantic_type\": \"\",\n        \"description\": \"\"\n      }\n    },\n    {\n      \"column\": \"len\",\n      \"properties\": {\n        \"dtype\": \"number\",\n        \"std\": 65,\n        \"min\": 4,\n        \"max\": 693,\n        \"num_unique_values\": 407,\n        \"samples\": [\n          57,\n          211,\n          240\n        ],\n        \"semantic_type\": \"\",\n        \"description\": \"\"\n      }\n    }\n  ]\n}"
            }
          },
          "metadata": {},
          "execution_count": 33
        }
      ]
    },
    {
      "cell_type": "code",
      "source": [
        "pd.set_option('display.max_colwidth', None)\n",
        "dff[dff.len==dff.len.min()]"
      ],
      "metadata": {
        "id": "Z42T7533GmWq",
        "colab": {
          "base_uri": "https://localhost:8080/",
          "height": 112
        },
        "outputId": "e94a2865-6505-41f7-8bbe-462f42f95fb6"
      },
      "execution_count": null,
      "outputs": [
        {
          "output_type": "execute_result",
          "data": {
            "text/plain": [
              "                              review  len\n",
              "18424  unlikeable script awful waste    4\n",
              "18400   brilliant moving peter finch    4"
            ],
            "text/html": [
              "\n",
              "  <div id=\"df-98e6e4d7-fb3d-4498-b936-02ed070a8ffb\" class=\"colab-df-container\">\n",
              "    <div>\n",
              "<style scoped>\n",
              "    .dataframe tbody tr th:only-of-type {\n",
              "        vertical-align: middle;\n",
              "    }\n",
              "\n",
              "    .dataframe tbody tr th {\n",
              "        vertical-align: top;\n",
              "    }\n",
              "\n",
              "    .dataframe thead th {\n",
              "        text-align: right;\n",
              "    }\n",
              "</style>\n",
              "<table border=\"1\" class=\"dataframe\">\n",
              "  <thead>\n",
              "    <tr style=\"text-align: right;\">\n",
              "      <th></th>\n",
              "      <th>review</th>\n",
              "      <th>len</th>\n",
              "    </tr>\n",
              "  </thead>\n",
              "  <tbody>\n",
              "    <tr>\n",
              "      <th>18424</th>\n",
              "      <td>unlikeable script awful waste</td>\n",
              "      <td>4</td>\n",
              "    </tr>\n",
              "    <tr>\n",
              "      <th>18400</th>\n",
              "      <td>brilliant moving peter finch</td>\n",
              "      <td>4</td>\n",
              "    </tr>\n",
              "  </tbody>\n",
              "</table>\n",
              "</div>\n",
              "    <div class=\"colab-df-buttons\">\n",
              "\n",
              "  <div class=\"colab-df-container\">\n",
              "    <button class=\"colab-df-convert\" onclick=\"convertToInteractive('df-98e6e4d7-fb3d-4498-b936-02ed070a8ffb')\"\n",
              "            title=\"Convert this dataframe to an interactive table.\"\n",
              "            style=\"display:none;\">\n",
              "\n",
              "  <svg xmlns=\"http://www.w3.org/2000/svg\" height=\"24px\" viewBox=\"0 -960 960 960\">\n",
              "    <path d=\"M120-120v-720h720v720H120Zm60-500h600v-160H180v160Zm220 220h160v-160H400v160Zm0 220h160v-160H400v160ZM180-400h160v-160H180v160Zm440 0h160v-160H620v160ZM180-180h160v-160H180v160Zm440 0h160v-160H620v160Z\"/>\n",
              "  </svg>\n",
              "    </button>\n",
              "\n",
              "  <style>\n",
              "    .colab-df-container {\n",
              "      display:flex;\n",
              "      gap: 12px;\n",
              "    }\n",
              "\n",
              "    .colab-df-convert {\n",
              "      background-color: #E8F0FE;\n",
              "      border: none;\n",
              "      border-radius: 50%;\n",
              "      cursor: pointer;\n",
              "      display: none;\n",
              "      fill: #1967D2;\n",
              "      height: 32px;\n",
              "      padding: 0 0 0 0;\n",
              "      width: 32px;\n",
              "    }\n",
              "\n",
              "    .colab-df-convert:hover {\n",
              "      background-color: #E2EBFA;\n",
              "      box-shadow: 0px 1px 2px rgba(60, 64, 67, 0.3), 0px 1px 3px 1px rgba(60, 64, 67, 0.15);\n",
              "      fill: #174EA6;\n",
              "    }\n",
              "\n",
              "    .colab-df-buttons div {\n",
              "      margin-bottom: 4px;\n",
              "    }\n",
              "\n",
              "    [theme=dark] .colab-df-convert {\n",
              "      background-color: #3B4455;\n",
              "      fill: #D2E3FC;\n",
              "    }\n",
              "\n",
              "    [theme=dark] .colab-df-convert:hover {\n",
              "      background-color: #434B5C;\n",
              "      box-shadow: 0px 1px 3px 1px rgba(0, 0, 0, 0.15);\n",
              "      filter: drop-shadow(0px 1px 2px rgba(0, 0, 0, 0.3));\n",
              "      fill: #FFFFFF;\n",
              "    }\n",
              "  </style>\n",
              "\n",
              "    <script>\n",
              "      const buttonEl =\n",
              "        document.querySelector('#df-98e6e4d7-fb3d-4498-b936-02ed070a8ffb button.colab-df-convert');\n",
              "      buttonEl.style.display =\n",
              "        google.colab.kernel.accessAllowed ? 'block' : 'none';\n",
              "\n",
              "      async function convertToInteractive(key) {\n",
              "        const element = document.querySelector('#df-98e6e4d7-fb3d-4498-b936-02ed070a8ffb');\n",
              "        const dataTable =\n",
              "          await google.colab.kernel.invokeFunction('convertToInteractive',\n",
              "                                                    [key], {});\n",
              "        if (!dataTable) return;\n",
              "\n",
              "        const docLinkHtml = 'Like what you see? Visit the ' +\n",
              "          '<a target=\"_blank\" href=https://colab.research.google.com/notebooks/data_table.ipynb>data table notebook</a>'\n",
              "          + ' to learn more about interactive tables.';\n",
              "        element.innerHTML = '';\n",
              "        dataTable['output_type'] = 'display_data';\n",
              "        await google.colab.output.renderOutput(dataTable, element);\n",
              "        const docLink = document.createElement('div');\n",
              "        docLink.innerHTML = docLinkHtml;\n",
              "        element.appendChild(docLink);\n",
              "      }\n",
              "    </script>\n",
              "  </div>\n",
              "\n",
              "\n",
              "<div id=\"df-4b790b7c-0279-4536-890a-0835571d7578\">\n",
              "  <button class=\"colab-df-quickchart\" onclick=\"quickchart('df-4b790b7c-0279-4536-890a-0835571d7578')\"\n",
              "            title=\"Suggest charts\"\n",
              "            style=\"display:none;\">\n",
              "\n",
              "<svg xmlns=\"http://www.w3.org/2000/svg\" height=\"24px\"viewBox=\"0 0 24 24\"\n",
              "     width=\"24px\">\n",
              "    <g>\n",
              "        <path d=\"M19 3H5c-1.1 0-2 .9-2 2v14c0 1.1.9 2 2 2h14c1.1 0 2-.9 2-2V5c0-1.1-.9-2-2-2zM9 17H7v-7h2v7zm4 0h-2V7h2v10zm4 0h-2v-4h2v4z\"/>\n",
              "    </g>\n",
              "</svg>\n",
              "  </button>\n",
              "\n",
              "<style>\n",
              "  .colab-df-quickchart {\n",
              "      --bg-color: #E8F0FE;\n",
              "      --fill-color: #1967D2;\n",
              "      --hover-bg-color: #E2EBFA;\n",
              "      --hover-fill-color: #174EA6;\n",
              "      --disabled-fill-color: #AAA;\n",
              "      --disabled-bg-color: #DDD;\n",
              "  }\n",
              "\n",
              "  [theme=dark] .colab-df-quickchart {\n",
              "      --bg-color: #3B4455;\n",
              "      --fill-color: #D2E3FC;\n",
              "      --hover-bg-color: #434B5C;\n",
              "      --hover-fill-color: #FFFFFF;\n",
              "      --disabled-bg-color: #3B4455;\n",
              "      --disabled-fill-color: #666;\n",
              "  }\n",
              "\n",
              "  .colab-df-quickchart {\n",
              "    background-color: var(--bg-color);\n",
              "    border: none;\n",
              "    border-radius: 50%;\n",
              "    cursor: pointer;\n",
              "    display: none;\n",
              "    fill: var(--fill-color);\n",
              "    height: 32px;\n",
              "    padding: 0;\n",
              "    width: 32px;\n",
              "  }\n",
              "\n",
              "  .colab-df-quickchart:hover {\n",
              "    background-color: var(--hover-bg-color);\n",
              "    box-shadow: 0 1px 2px rgba(60, 64, 67, 0.3), 0 1px 3px 1px rgba(60, 64, 67, 0.15);\n",
              "    fill: var(--button-hover-fill-color);\n",
              "  }\n",
              "\n",
              "  .colab-df-quickchart-complete:disabled,\n",
              "  .colab-df-quickchart-complete:disabled:hover {\n",
              "    background-color: var(--disabled-bg-color);\n",
              "    fill: var(--disabled-fill-color);\n",
              "    box-shadow: none;\n",
              "  }\n",
              "\n",
              "  .colab-df-spinner {\n",
              "    border: 2px solid var(--fill-color);\n",
              "    border-color: transparent;\n",
              "    border-bottom-color: var(--fill-color);\n",
              "    animation:\n",
              "      spin 1s steps(1) infinite;\n",
              "  }\n",
              "\n",
              "  @keyframes spin {\n",
              "    0% {\n",
              "      border-color: transparent;\n",
              "      border-bottom-color: var(--fill-color);\n",
              "      border-left-color: var(--fill-color);\n",
              "    }\n",
              "    20% {\n",
              "      border-color: transparent;\n",
              "      border-left-color: var(--fill-color);\n",
              "      border-top-color: var(--fill-color);\n",
              "    }\n",
              "    30% {\n",
              "      border-color: transparent;\n",
              "      border-left-color: var(--fill-color);\n",
              "      border-top-color: var(--fill-color);\n",
              "      border-right-color: var(--fill-color);\n",
              "    }\n",
              "    40% {\n",
              "      border-color: transparent;\n",
              "      border-right-color: var(--fill-color);\n",
              "      border-top-color: var(--fill-color);\n",
              "    }\n",
              "    60% {\n",
              "      border-color: transparent;\n",
              "      border-right-color: var(--fill-color);\n",
              "    }\n",
              "    80% {\n",
              "      border-color: transparent;\n",
              "      border-right-color: var(--fill-color);\n",
              "      border-bottom-color: var(--fill-color);\n",
              "    }\n",
              "    90% {\n",
              "      border-color: transparent;\n",
              "      border-bottom-color: var(--fill-color);\n",
              "    }\n",
              "  }\n",
              "</style>\n",
              "\n",
              "  <script>\n",
              "    async function quickchart(key) {\n",
              "      const quickchartButtonEl =\n",
              "        document.querySelector('#' + key + ' button');\n",
              "      quickchartButtonEl.disabled = true;  // To prevent multiple clicks.\n",
              "      quickchartButtonEl.classList.add('colab-df-spinner');\n",
              "      try {\n",
              "        const charts = await google.colab.kernel.invokeFunction(\n",
              "            'suggestCharts', [key], {});\n",
              "      } catch (error) {\n",
              "        console.error('Error during call to suggestCharts:', error);\n",
              "      }\n",
              "      quickchartButtonEl.classList.remove('colab-df-spinner');\n",
              "      quickchartButtonEl.classList.add('colab-df-quickchart-complete');\n",
              "    }\n",
              "    (() => {\n",
              "      let quickchartButtonEl =\n",
              "        document.querySelector('#df-4b790b7c-0279-4536-890a-0835571d7578 button');\n",
              "      quickchartButtonEl.style.display =\n",
              "        google.colab.kernel.accessAllowed ? 'block' : 'none';\n",
              "    })();\n",
              "  </script>\n",
              "</div>\n",
              "\n",
              "    </div>\n",
              "  </div>\n"
            ],
            "application/vnd.google.colaboratory.intrinsic+json": {
              "type": "dataframe",
              "summary": "{\n  \"name\": \"dff[dff\",\n  \"rows\": 2,\n  \"fields\": [\n    {\n      \"column\": \"review\",\n      \"properties\": {\n        \"dtype\": \"string\",\n        \"num_unique_values\": 2,\n        \"samples\": [\n          \"brilliant moving peter finch\",\n          \"unlikeable script awful waste\"\n        ],\n        \"semantic_type\": \"\",\n        \"description\": \"\"\n      }\n    },\n    {\n      \"column\": \"len\",\n      \"properties\": {\n        \"dtype\": \"number\",\n        \"std\": 0,\n        \"min\": 4,\n        \"max\": 4,\n        \"num_unique_values\": 1,\n        \"samples\": [\n          4\n        ],\n        \"semantic_type\": \"\",\n        \"description\": \"\"\n      }\n    }\n  ]\n}"
            }
          },
          "metadata": {},
          "execution_count": 34
        }
      ]
    },
    {
      "cell_type": "code",
      "source": [
        "dff[dff.len==dff.len.max()]"
      ],
      "metadata": {
        "colab": {
          "base_uri": "https://localhost:8080/",
          "height": 410
        },
        "id": "VFh8QE0AFQDR",
        "outputId": "f08dad26-09d0-4396-b527-4b39a94e87ab"
      },
      "execution_count": null,
      "outputs": [
        {
          "output_type": "execute_result",
          "data": {
            "text/plain": [
              "                                                                                                                                                                                                                                                                                                                                                                                                                                                                                                                                                                                                                                                                                                                                                                                                                                                                                                                                                                                                                                                                                                                                                                                                                                                                                                                                                                                                                                                                                                                                                                                                                                                                                                                                                                                                                                                                                                                                                                                                                                                                                                                                                                                                                                                                                                                                                                                                                                                                                                                                                                                                                                                                                                                                                                                                                                                                                                                                                                                                                                                                                                                                                                                                                                                                                                                                                                                                                                                                                                                                                                                                                                                                                                                                                                                                                                                                                                                                                                                                                                                                                                                                                                                                                                                                                                                                                                                                                                                                                                                                                                                                                                                                                                                                                                                                                                                                                         review  \\\n",
              "12647  titanic directed fictional love story historical setting titanic plot simple love twist turn keep suspense end movie figured within start film love story interesting one however wonderful rose aristocratic young lady betrothed cal billy early voyage rose jack lower class artist way winning ticket aboard titanic poker game something goes unlike upper class concerned social two fall love audience sinking titanic primarily movie modern times exploration wreck group searching sunk titanic recently one titanic rose exploration wreck television flown boat search led tell help search telling memory one voyage titanic scene titanic set sail 10 1912 boarding another stop coast titanic went see maiden voyage across atlantic bound new york historically first days voyage went uneventful fictional plot story time rose hopeless engagement wealthy cal love third class passenger jack captain smith shown movie white star line director increase speed ship would make newspaper receive extra publicity new york night morning smith ordered fateful decision going experience stretch full speed titanic atlantic sailing full full speed shown movie 15 1912 1139 iceberg sighted shut turn ship path iceberg enough time ship hit iceberg starboard side film portrayal many small side ship one large gash along side accurate crew titanic sent distress set distress shown 218 finally spotted six away realize going respond many help tried day warn titanic severe ice stop trip titanic brushed causing turn radio leave titanic first class first put twenty ship overwhelmingly third class amount class crew hit hard tragedy word white star line first class second third class trying gain information sinking also metal used build titanic found recent severe cold experienced night titanic sank extremely brittle overall basic plot accurate times took place many story real simply purpose movie composite represent possible people ship core group rose jack cal mother fictional added story represent different people time yet many unsinkable molly brown captain smith ship designer white star line representative real maiden voyage going captain last voyage anyway retire afterwards part white star line since 1880 worked way status captain titanic sunk accurate four tragedy except officer kill ship pistol record acting heroicly point monument honor former shown movie language problem crew many speaking addition officer officer came back lifeboat old people shown bed water came room based wanting leave side get lifeboat husband titanic furthermore shown brandy smoking cigar reportedly go like dressed best man ship astor nonetheless well much younger wife saved lifeboat addition molly brown saved later made crew picked titanic water ticket titanic cost end life ended broke ship masterfully last china silverware gymnasium hardly seen perfectly match seen old wonderful costuming excellent recreation era 1912 rich time practically everything suffrage movement quite gotten moving yet time often married financial security rose considering normally took back status cal wished rose rich take well new money molly brown everything time formal dinner male figure seen dining smoking common among time coming time used seen rose movie men time generally smoked physically socially society although background historical brought titanic coupled two spent history titanic taken beautiful cinematography special effects also make film even recognizable message seen movie titanic people ship three contemplate demise director various time crisis everyone differently think might situation titanic fateful night addition film reflection 1990s produced look wreck titanic past fifteen site actual titanic found movie able give us look disaster many would however moral question whether people today taking wreck underwater graveyard stop treasure seeking one titanic today anyone make voyage titanic take whatever film showing general time technically film well done get footage wreck bottom ocean took twelve get footage movie addition special camera withstand intense pressure bottom ocean plan probe go far inside titanic anyone 88 since ship sunk worked provided unique perspective ship furthermore throughout film fade wreck titanic scene titanic actual voyage shift modern scene past scene voyage works excellent transition story easy follow manner beginning movie recreation used recreate scene actual people left coast titanic giving distinction rest titanic almost like historical biography like work art true epic like history know ending take away wonderful found picture certain film academy award material costuming sound like interesting give insight life early 1900s face disaster movie definitely   \n",
              "\n",
              "       len  \n",
              "12647  693  "
            ],
            "text/html": [
              "\n",
              "  <div id=\"df-c0713255-fb13-40c4-8319-f6898949fd10\" class=\"colab-df-container\">\n",
              "    <div>\n",
              "<style scoped>\n",
              "    .dataframe tbody tr th:only-of-type {\n",
              "        vertical-align: middle;\n",
              "    }\n",
              "\n",
              "    .dataframe tbody tr th {\n",
              "        vertical-align: top;\n",
              "    }\n",
              "\n",
              "    .dataframe thead th {\n",
              "        text-align: right;\n",
              "    }\n",
              "</style>\n",
              "<table border=\"1\" class=\"dataframe\">\n",
              "  <thead>\n",
              "    <tr style=\"text-align: right;\">\n",
              "      <th></th>\n",
              "      <th>review</th>\n",
              "      <th>len</th>\n",
              "    </tr>\n",
              "  </thead>\n",
              "  <tbody>\n",
              "    <tr>\n",
              "      <th>12647</th>\n",
              "      <td>titanic directed fictional love story historical setting titanic plot simple love twist turn keep suspense end movie figured within start film love story interesting one however wonderful rose aristocratic young lady betrothed cal billy early voyage rose jack lower class artist way winning ticket aboard titanic poker game something goes unlike upper class concerned social two fall love audience sinking titanic primarily movie modern times exploration wreck group searching sunk titanic recently one titanic rose exploration wreck television flown boat search led tell help search telling memory one voyage titanic scene titanic set sail 10 1912 boarding another stop coast titanic went see maiden voyage across atlantic bound new york historically first days voyage went uneventful fictional plot story time rose hopeless engagement wealthy cal love third class passenger jack captain smith shown movie white star line director increase speed ship would make newspaper receive extra publicity new york night morning smith ordered fateful decision going experience stretch full speed titanic atlantic sailing full full speed shown movie 15 1912 1139 iceberg sighted shut turn ship path iceberg enough time ship hit iceberg starboard side film portrayal many small side ship one large gash along side accurate crew titanic sent distress set distress shown 218 finally spotted six away realize going respond many help tried day warn titanic severe ice stop trip titanic brushed causing turn radio leave titanic first class first put twenty ship overwhelmingly third class amount class crew hit hard tragedy word white star line first class second third class trying gain information sinking also metal used build titanic found recent severe cold experienced night titanic sank extremely brittle overall basic plot accurate times took place many story real simply purpose movie composite represent possible people ship core group rose jack cal mother fictional added story represent different people time yet many unsinkable molly brown captain smith ship designer white star line representative real maiden voyage going captain last voyage anyway retire afterwards part white star line since 1880 worked way status captain titanic sunk accurate four tragedy except officer kill ship pistol record acting heroicly point monument honor former shown movie language problem crew many speaking addition officer officer came back lifeboat old people shown bed water came room based wanting leave side get lifeboat husband titanic furthermore shown brandy smoking cigar reportedly go like dressed best man ship astor nonetheless well much younger wife saved lifeboat addition molly brown saved later made crew picked titanic water ticket titanic cost end life ended broke ship masterfully last china silverware gymnasium hardly seen perfectly match seen old wonderful costuming excellent recreation era 1912 rich time practically everything suffrage movement quite gotten moving yet time often married financial security rose considering normally took back status cal wished rose rich take well new money molly brown everything time formal dinner male figure seen dining smoking common among time coming time used seen rose movie men time generally smoked physically socially society although background historical brought titanic coupled two spent history titanic taken beautiful cinematography special effects also make film even recognizable message seen movie titanic people ship three contemplate demise director various time crisis everyone differently think might situation titanic fateful night addition film reflection 1990s produced look wreck titanic past fifteen site actual titanic found movie able give us look disaster many would however moral question whether people today taking wreck underwater graveyard stop treasure seeking one titanic today anyone make voyage titanic take whatever film showing general time technically film well done get footage wreck bottom ocean took twelve get footage movie addition special camera withstand intense pressure bottom ocean plan probe go far inside titanic anyone 88 since ship sunk worked provided unique perspective ship furthermore throughout film fade wreck titanic scene titanic actual voyage shift modern scene past scene voyage works excellent transition story easy follow manner beginning movie recreation used recreate scene actual people left coast titanic giving distinction rest titanic almost like historical biography like work art true epic like history know ending take away wonderful found picture certain film academy award material costuming sound like interesting give insight life early 1900s face disaster movie definitely</td>\n",
              "      <td>693</td>\n",
              "    </tr>\n",
              "  </tbody>\n",
              "</table>\n",
              "</div>\n",
              "    <div class=\"colab-df-buttons\">\n",
              "\n",
              "  <div class=\"colab-df-container\">\n",
              "    <button class=\"colab-df-convert\" onclick=\"convertToInteractive('df-c0713255-fb13-40c4-8319-f6898949fd10')\"\n",
              "            title=\"Convert this dataframe to an interactive table.\"\n",
              "            style=\"display:none;\">\n",
              "\n",
              "  <svg xmlns=\"http://www.w3.org/2000/svg\" height=\"24px\" viewBox=\"0 -960 960 960\">\n",
              "    <path d=\"M120-120v-720h720v720H120Zm60-500h600v-160H180v160Zm220 220h160v-160H400v160Zm0 220h160v-160H400v160ZM180-400h160v-160H180v160Zm440 0h160v-160H620v160ZM180-180h160v-160H180v160Zm440 0h160v-160H620v160Z\"/>\n",
              "  </svg>\n",
              "    </button>\n",
              "\n",
              "  <style>\n",
              "    .colab-df-container {\n",
              "      display:flex;\n",
              "      gap: 12px;\n",
              "    }\n",
              "\n",
              "    .colab-df-convert {\n",
              "      background-color: #E8F0FE;\n",
              "      border: none;\n",
              "      border-radius: 50%;\n",
              "      cursor: pointer;\n",
              "      display: none;\n",
              "      fill: #1967D2;\n",
              "      height: 32px;\n",
              "      padding: 0 0 0 0;\n",
              "      width: 32px;\n",
              "    }\n",
              "\n",
              "    .colab-df-convert:hover {\n",
              "      background-color: #E2EBFA;\n",
              "      box-shadow: 0px 1px 2px rgba(60, 64, 67, 0.3), 0px 1px 3px 1px rgba(60, 64, 67, 0.15);\n",
              "      fill: #174EA6;\n",
              "    }\n",
              "\n",
              "    .colab-df-buttons div {\n",
              "      margin-bottom: 4px;\n",
              "    }\n",
              "\n",
              "    [theme=dark] .colab-df-convert {\n",
              "      background-color: #3B4455;\n",
              "      fill: #D2E3FC;\n",
              "    }\n",
              "\n",
              "    [theme=dark] .colab-df-convert:hover {\n",
              "      background-color: #434B5C;\n",
              "      box-shadow: 0px 1px 3px 1px rgba(0, 0, 0, 0.15);\n",
              "      filter: drop-shadow(0px 1px 2px rgba(0, 0, 0, 0.3));\n",
              "      fill: #FFFFFF;\n",
              "    }\n",
              "  </style>\n",
              "\n",
              "    <script>\n",
              "      const buttonEl =\n",
              "        document.querySelector('#df-c0713255-fb13-40c4-8319-f6898949fd10 button.colab-df-convert');\n",
              "      buttonEl.style.display =\n",
              "        google.colab.kernel.accessAllowed ? 'block' : 'none';\n",
              "\n",
              "      async function convertToInteractive(key) {\n",
              "        const element = document.querySelector('#df-c0713255-fb13-40c4-8319-f6898949fd10');\n",
              "        const dataTable =\n",
              "          await google.colab.kernel.invokeFunction('convertToInteractive',\n",
              "                                                    [key], {});\n",
              "        if (!dataTable) return;\n",
              "\n",
              "        const docLinkHtml = 'Like what you see? Visit the ' +\n",
              "          '<a target=\"_blank\" href=https://colab.research.google.com/notebooks/data_table.ipynb>data table notebook</a>'\n",
              "          + ' to learn more about interactive tables.';\n",
              "        element.innerHTML = '';\n",
              "        dataTable['output_type'] = 'display_data';\n",
              "        await google.colab.output.renderOutput(dataTable, element);\n",
              "        const docLink = document.createElement('div');\n",
              "        docLink.innerHTML = docLinkHtml;\n",
              "        element.appendChild(docLink);\n",
              "      }\n",
              "    </script>\n",
              "  </div>\n",
              "\n",
              "\n",
              "    </div>\n",
              "  </div>\n"
            ],
            "application/vnd.google.colaboratory.intrinsic+json": {
              "type": "dataframe",
              "summary": "{\n  \"name\": \"dff[dff\",\n  \"rows\": 1,\n  \"fields\": [\n    {\n      \"column\": \"review\",\n      \"properties\": {\n        \"dtype\": \"string\",\n        \"num_unique_values\": 1,\n        \"samples\": [\n          \"titanic directed fictional love story historical setting titanic plot simple love twist turn keep suspense end movie figured within start film love story interesting one however wonderful rose aristocratic young lady betrothed cal billy early voyage rose jack lower class artist way winning ticket aboard titanic poker game something goes unlike upper class concerned social two fall love audience sinking titanic primarily movie modern times exploration wreck group searching sunk titanic recently one titanic rose exploration wreck television flown boat search led tell help search telling memory one voyage titanic scene titanic set sail 10 1912 boarding another stop coast titanic went see maiden voyage across atlantic bound new york historically first days voyage went uneventful fictional plot story time rose hopeless engagement wealthy cal love third class passenger jack captain smith shown movie white star line director increase speed ship would make newspaper receive extra publicity new york night morning smith ordered fateful decision going experience stretch full speed titanic atlantic sailing full full speed shown movie 15 1912 1139 iceberg sighted shut turn ship path iceberg enough time ship hit iceberg starboard side film portrayal many small side ship one large gash along side accurate crew titanic sent distress set distress shown 218 finally spotted six away realize going respond many help tried day warn titanic severe ice stop trip titanic brushed causing turn radio leave titanic first class first put twenty ship overwhelmingly third class amount class crew hit hard tragedy word white star line first class second third class trying gain information sinking also metal used build titanic found recent severe cold experienced night titanic sank extremely brittle overall basic plot accurate times took place many story real simply purpose movie composite represent possible people ship core group rose jack cal mother fictional added story represent different people time yet many unsinkable molly brown captain smith ship designer white star line representative real maiden voyage going captain last voyage anyway retire afterwards part white star line since 1880 worked way status captain titanic sunk accurate four tragedy except officer kill ship pistol record acting heroicly point monument honor former shown movie language problem crew many speaking addition officer officer came back lifeboat old people shown bed water came room based wanting leave side get lifeboat husband titanic furthermore shown brandy smoking cigar reportedly go like dressed best man ship astor nonetheless well much younger wife saved lifeboat addition molly brown saved later made crew picked titanic water ticket titanic cost end life ended broke ship masterfully last china silverware gymnasium hardly seen perfectly match seen old wonderful costuming excellent recreation era 1912 rich time practically everything suffrage movement quite gotten moving yet time often married financial security rose considering normally took back status cal wished rose rich take well new money molly brown everything time formal dinner male figure seen dining smoking common among time coming time used seen rose movie men time generally smoked physically socially society although background historical brought titanic coupled two spent history titanic taken beautiful cinematography special effects also make film even recognizable message seen movie titanic people ship three contemplate demise director various time crisis everyone differently think might situation titanic fateful night addition film reflection 1990s produced look wreck titanic past fifteen site actual titanic found movie able give us look disaster many would however moral question whether people today taking wreck underwater graveyard stop treasure seeking one titanic today anyone make voyage titanic take whatever film showing general time technically film well done get footage wreck bottom ocean took twelve get footage movie addition special camera withstand intense pressure bottom ocean plan probe go far inside titanic anyone 88 since ship sunk worked provided unique perspective ship furthermore throughout film fade wreck titanic scene titanic actual voyage shift modern scene past scene voyage works excellent transition story easy follow manner beginning movie recreation used recreate scene actual people left coast titanic giving distinction rest titanic almost like historical biography like work art true epic like history know ending take away wonderful found picture certain film academy award material costuming sound like interesting give insight life early 1900s face disaster movie definitely\"\n        ],\n        \"semantic_type\": \"\",\n        \"description\": \"\"\n      }\n    },\n    {\n      \"column\": \"len\",\n      \"properties\": {\n        \"dtype\": \"number\",\n        \"std\": null,\n        \"min\": 693,\n        \"max\": 693,\n        \"num_unique_values\": 1,\n        \"samples\": [\n          693\n        ],\n        \"semantic_type\": \"\",\n        \"description\": \"\"\n      }\n    }\n  ]\n}"
            }
          },
          "metadata": {},
          "execution_count": 35
        }
      ]
    },
    {
      "cell_type": "code",
      "source": [
        "dff.sort_values(by=['len'],ascending=False,inplace=True)"
      ],
      "metadata": {
        "id": "E6gKX4oBDUOg"
      },
      "execution_count": null,
      "outputs": []
    },
    {
      "cell_type": "code",
      "source": [
        "%matplotlib inline\n",
        "plt.figure(figsize=(12,4))\n",
        "plt.subplot(1,3,1)\n",
        "plt.plot([i for i in range(len(dff))], dff.len.to_list())\n",
        "plt.title('Length of sentences')\n",
        "plt.ylabel('Word Count')\n",
        "plt.xlabel('Sentence number')\n",
        "\n",
        "plt.subplot(1,3,2)\n",
        "plt.plot([i for i in range(len(dff))], dff.len.to_list())\n",
        "plt.title('Length of sentences')\n",
        "plt.ylabel('Word Count')\n",
        "plt.xlabel('Sentence number')\n",
        "plt.xlim(0,2000)\n",
        "plt.ylim(100,600)\n",
        "\n",
        "plt.subplot(1,3,3)\n",
        "plt.plot([i for i in range(len(dff))], dff.len.to_list())\n",
        "plt.title('Length of sentences')\n",
        "plt.ylabel('Word Count')\n",
        "plt.xlabel('Sentence number')\n",
        "plt.xlim(2000,4000)\n",
        "plt.ylim(50,200)\n",
        "\n",
        "plt.show()"
      ],
      "metadata": {
        "colab": {
          "base_uri": "https://localhost:8080/",
          "height": 410
        },
        "id": "1L6nzySIKb77",
        "outputId": "5ef09070-bb84-46ee-adb2-9c0d5df065c1"
      },
      "execution_count": null,
      "outputs": [
        {
          "output_type": "display_data",
          "data": {
            "text/plain": [
              "<Figure size 1200x400 with 3 Axes>"
            ],
            "image/png": "[encoded data removed]"
          },
          "metadata": {}
        }
      ]
    },
    {
      "cell_type": "markdown",
      "source": [
        "We can restrict the sentence length to 120. By doing so around top 3500 length sentences out of 18000 will be limited to 100 count."
      ],
      "metadata": {
        "id": "olomMgN8E6MS"
      }
    },
    {
      "cell_type": "markdown",
      "source": [
        "## Word embedding"
      ],
      "metadata": {
        "id": "bnyI8OHGFH7w"
      }
    },
    {
      "cell_type": "code",
      "source": [
        "# keras tokenizer on test string\n",
        "max_features=1000\n",
        "tokenize  = Tokenizer(num_words=max_features,oov_token='<oov>')\n",
        "tokenize.fit_on_texts(x_train)"
      ],
      "metadata": {
        "id": "ajDSNmc9KmWC"
      },
      "execution_count": 11,
      "outputs": []
    },
    {
      "cell_type": "code",
      "source": [
        "x_train_features=tokenize.texts_to_sequences(x_train)\n",
        "x_test_features=tokenize.texts_to_sequences(x_test)\n",
        "print(x_train_features[0])\n",
        "print(x_test_features[0])"
      ],
      "metadata": {
        "colab": {
          "base_uri": "https://localhost:8080/"
        },
        "id": "gGjibtrPKzZz",
        "outputId": "288f417d-ac61-48ec-f02c-697367d59e51"
      },
      "execution_count": 12,
      "outputs": [
        {
          "output_type": "stream",
          "name": "stdout",
          "text": [
            "[241, 1, 442, 3, 1, 26, 510, 1, 2, 465, 1, 1, 344, 65, 206, 1, 131, 517, 1, 465, 469, 517, 579, 1, 987, 131, 4, 30, 664, 2, 465, 4, 311, 584, 733, 39, 541, 25, 220, 74, 483, 1, 1, 1, 1, 9, 492, 305, 3, 707, 1, 8, 1, 707, 1, 13, 1, 1, 1, 93, 1, 9, 1, 371, 707, 1, 29, 51, 631, 68, 238, 255, 8, 32, 75, 417, 1, 14, 41, 1, 1, 55, 1, 41, 74, 1, 331, 1, 31, 14, 1, 8, 47, 1, 105, 59, 74, 90, 1, 1, 1, 1, 1, 465, 73, 1, 43, 693, 1, 1, 19, 128, 31, 1, 120, 1, 3, 331, 1, 1, 45, 3, 298, 256, 98, 18, 1, 128, 585, 135, 1, 1, 25, 465, 13, 153, 109, 1, 98, 13, 304, 494, 1, 264, 1, 279, 6, 1, 1]\n",
            "[70, 1, 147, 294, 166, 4, 34, 106, 39, 18, 611, 287, 143, 6, 163, 868, 609, 106, 6, 1, 1, 811, 1, 677, 486, 44, 6, 1, 1, 295, 759, 31, 6, 611, 1, 1, 659, 125, 373, 28, 87, 466, 375, 75, 435, 467, 636, 1, 638, 347, 201, 1, 28, 50, 601, 435, 37]\n"
          ]
        }
      ]
    },
    {
      "cell_type": "code",
      "source": [
        "print(len([max(i) for i in x_train_features]))\n",
        "print(max([max(i) for i in x_train_features])+1) # vocab size"
      ],
      "metadata": {
        "colab": {
          "base_uri": "https://localhost:8080/"
        },
        "id": "Na2OjzwxR2Xm",
        "outputId": "216dff3f-67ab-4fcc-ed98-b1ab1b99fa1f"
      },
      "execution_count": 13,
      "outputs": [
        {
          "output_type": "stream",
          "name": "stdout",
          "text": [
            "18000\n",
            "1000\n"
          ]
        }
      ]
    },
    {
      "cell_type": "code",
      "source": [
        "sent_length=120\n",
        "x_train_embedded_docs=pad_sequences(x_train_features,padding='pre',maxlen=sent_length)\n",
        "x_test_embedded_docs=pad_sequences(x_test_features,padding='pre',maxlen=sent_length)"
      ],
      "metadata": {
        "id": "wjqloxxcO3jU"
      },
      "execution_count": 14,
      "outputs": []
    },
    {
      "cell_type": "code",
      "source": [
        "print(x_train_embedded_docs[0])\n",
        "print(x_test_embedded_docs[0])"
      ],
      "metadata": {
        "colab": {
          "base_uri": "https://localhost:8080/"
        },
        "id": "-eCrRHqTPLE0",
        "outputId": "c1218aff-3ad9-4bc4-e078-05e38145cd95"
      },
      "execution_count": 15,
      "outputs": [
        {
          "output_type": "stream",
          "name": "stdout",
          "text": [
            "[  2 465   4 311 584 733  39 541  25 220  74 483   1   1   1   1   9 492\n",
            " 305   3 707   1   8   1 707   1  13   1   1   1  93   1   9   1 371 707\n",
            "   1  29  51 631  68 238 255   8  32  75 417   1  14  41   1   1  55   1\n",
            "  41  74   1 331   1  31  14   1   8  47   1 105  59  74  90   1   1   1\n",
            "   1   1 465  73   1  43 693   1   1  19 128  31   1 120   1   3 331   1\n",
            "   1  45   3 298 256  98  18   1 128 585 135   1   1  25 465  13 153 109\n",
            "   1  98  13 304 494   1 264   1 279   6   1   1]\n",
            "[  0   0   0   0   0   0   0   0   0   0   0   0   0   0   0   0   0   0\n",
            "   0   0   0   0   0   0   0   0   0   0   0   0   0   0   0   0   0   0\n",
            "   0   0   0   0   0   0   0   0   0   0   0   0   0   0   0   0   0   0\n",
            "   0   0   0   0   0   0   0   0   0  70   1 147 294 166   4  34 106  39\n",
            "  18 611 287 143   6 163 868 609 106   6   1   1 811   1 677 486  44   6\n",
            "   1   1 295 759  31   6 611   1   1 659 125 373  28  87 466 375  75 435\n",
            " 467 636   1 638 347 201   1  28  50 601 435  37]\n"
          ]
        }
      ]
    },
    {
      "cell_type": "code",
      "source": [
        "# verification for padding\n",
        "print(len(x_train_features))\n",
        "print(len(x_train_features[0]))\n",
        "print(len(x_test_features[0]))\n",
        "print(x_train_features[0][149-120:149-115]) # this is limited to sentence length"
      ],
      "metadata": {
        "colab": {
          "base_uri": "https://localhost:8080/"
        },
        "id": "WXTlIkRKLCiD",
        "outputId": "7ad57983-6b78-47de-d58a-c1ddba5fadb1"
      },
      "execution_count": 16,
      "outputs": [
        {
          "output_type": "stream",
          "name": "stdout",
          "text": [
            "18000\n",
            "149\n",
            "57\n",
            "[2, 465, 4, 311, 584]\n"
          ]
        }
      ]
    },
    {
      "cell_type": "markdown",
      "source": [
        "## Simple RNN Model"
      ],
      "metadata": {
        "id": "9rpyqoNPkexi"
      }
    },
    {
      "cell_type": "code",
      "source": [
        "# simple RNN model\n",
        "model=Sequential()\n",
        "model.add(Embedding(input_dim=max_features,output_dim=128,input_length=sent_length))\n",
        "model.add(SimpleRNN(128,kernel_initializer='he_uniform'))\n",
        "model.add(Dense(1,activation='sigmoid',kernel_initializer='glorot_uniform'))\n",
        "model.build(input_shape=(None, sent_length))"
      ],
      "metadata": {
        "id": "pzi226-SPia1",
        "colab": {
          "base_uri": "https://localhost:8080/"
        },
        "outputId": "d49e5ee9-8728-478c-c63a-ab434a5c4392"
      },
      "execution_count": 17,
      "outputs": [
        {
          "output_type": "stream",
          "name": "stderr",
          "text": [
            "/usr/local/lib/python3.11/dist-packages/keras/src/layers/core/embedding.py:90: UserWarning: Argument `input_length` is deprecated. Just remove it.\n",
            "  warnings.warn(\n"
          ]
        }
      ]
    },
    {
      "cell_type": "code",
      "source": [
        "model.summary()"
      ],
      "metadata": {
        "colab": {
          "base_uri": "https://localhost:8080/",
          "height": 234
        },
        "id": "bx3eb0EUOEnh",
        "outputId": "7c70d97b-4238-4a3d-97b6-ef397490b6d6"
      },
      "execution_count": 18,
      "outputs": [
        {
          "output_type": "display_data",
          "data": {
            "text/plain": [
              "\u001b[1mModel: \"sequential\"\u001b[0m\n"
            ],
            "text/html": [
              "<pre style=\"white-space:pre;overflow-x:auto;line-height:normal;font-family:Menlo,'DejaVu Sans Mono',consolas,'Courier New',monospace\"><span style=\"font-weight: bold\">Model: \"sequential\"</span>\n",
              "</pre>\n"
            ]
          },
          "metadata": {}
        },
        {
          "output_type": "display_data",
          "data": {
            "text/plain": [
              "┏━━━━━━━━━━━━━━━━━━━━━━━━━━━━━━━━━━━━━━┳━━━━━━━━━━━━━━━━━━━━━━━━━━━━━┳━━━━━━━━━━━━━━━━━┓\n",
              "┃\u001b[1m \u001b[0m\u001b[1mLayer (type)                        \u001b[0m\u001b[1m \u001b[0m┃\u001b[1m \u001b[0m\u001b[1mOutput Shape               \u001b[0m\u001b[1m \u001b[0m┃\u001b[1m \u001b[0m\u001b[1m        Param #\u001b[0m\u001b[1m \u001b[0m┃\n",
              "┡━━━━━━━━━━━━━━━━━━━━━━━━━━━━━━━━━━━━━━╇━━━━━━━━━━━━━━━━━━━━━━━━━━━━━╇━━━━━━━━━━━━━━━━━┩\n",
              "│ embedding (\u001b[38;5;33mEmbedding\u001b[0m)                │ (\u001b[38;5;45mNone\u001b[0m, \u001b[38;5;34m120\u001b[0m, \u001b[38;5;34m128\u001b[0m)            │         \u001b[38;5;34m128,000\u001b[0m │\n",
              "├──────────────────────────────────────┼─────────────────────────────┼─────────────────┤\n",
              "│ simple_rnn (\u001b[38;5;33mSimpleRNN\u001b[0m)               │ (\u001b[38;5;45mNone\u001b[0m, \u001b[38;5;34m128\u001b[0m)                 │          \u001b[38;5;34m32,896\u001b[0m │\n",
              "├──────────────────────────────────────┼─────────────────────────────┼─────────────────┤\n",
              "│ dense (\u001b[38;5;33mDense\u001b[0m)                        │ (\u001b[38;5;45mNone\u001b[0m, \u001b[38;5;34m1\u001b[0m)                   │             \u001b[38;5;34m129\u001b[0m │\n",
              "└──────────────────────────────────────┴─────────────────────────────┴─────────────────┘\n"
            ],
            "text/html": [
              "<pre style=\"white-space:pre;overflow-x:auto;line-height:normal;font-family:Menlo,'DejaVu Sans Mono',consolas,'Courier New',monospace\">┏━━━━━━━━━━━━━━━━━━━━━━━━━━━━━━━━━━━━━━┳━━━━━━━━━━━━━━━━━━━━━━━━━━━━━┳━━━━━━━━━━━━━━━━━┓\n",
              "┃<span style=\"font-weight: bold\"> Layer (type)                         </span>┃<span style=\"font-weight: bold\"> Output Shape                </span>┃<span style=\"font-weight: bold\">         Param # </span>┃\n",
              "┡━━━━━━━━━━━━━━━━━━━━━━━━━━━━━━━━━━━━━━╇━━━━━━━━━━━━━━━━━━━━━━━━━━━━━╇━━━━━━━━━━━━━━━━━┩\n",
              "│ embedding (<span style=\"color: #0087ff; text-decoration-color: #0087ff\">Embedding</span>)                │ (<span style=\"color: #00d7ff; text-decoration-color: #00d7ff\">None</span>, <span style=\"color: #00af00; text-decoration-color: #00af00\">120</span>, <span style=\"color: #00af00; text-decoration-color: #00af00\">128</span>)            │         <span style=\"color: #00af00; text-decoration-color: #00af00\">128,000</span> │\n",
              "├──────────────────────────────────────┼─────────────────────────────┼─────────────────┤\n",
              "│ simple_rnn (<span style=\"color: #0087ff; text-decoration-color: #0087ff\">SimpleRNN</span>)               │ (<span style=\"color: #00d7ff; text-decoration-color: #00d7ff\">None</span>, <span style=\"color: #00af00; text-decoration-color: #00af00\">128</span>)                 │          <span style=\"color: #00af00; text-decoration-color: #00af00\">32,896</span> │\n",
              "├──────────────────────────────────────┼─────────────────────────────┼─────────────────┤\n",
              "│ dense (<span style=\"color: #0087ff; text-decoration-color: #0087ff\">Dense</span>)                        │ (<span style=\"color: #00d7ff; text-decoration-color: #00d7ff\">None</span>, <span style=\"color: #00af00; text-decoration-color: #00af00\">1</span>)                   │             <span style=\"color: #00af00; text-decoration-color: #00af00\">129</span> │\n",
              "└──────────────────────────────────────┴─────────────────────────────┴─────────────────┘\n",
              "</pre>\n"
            ]
          },
          "metadata": {}
        },
        {
          "output_type": "display_data",
          "data": {
            "text/plain": [
              "\u001b[1m Total params: \u001b[0m\u001b[38;5;34m161,025\u001b[0m (629.00 KB)\n"
            ],
            "text/html": [
              "<pre style=\"white-space:pre;overflow-x:auto;line-height:normal;font-family:Menlo,'DejaVu Sans Mono',consolas,'Courier New',monospace\"><span style=\"font-weight: bold\"> Total params: </span><span style=\"color: #00af00; text-decoration-color: #00af00\">161,025</span> (629.00 KB)\n",
              "</pre>\n"
            ]
          },
          "metadata": {}
        },
        {
          "output_type": "display_data",
          "data": {
            "text/plain": [
              "\u001b[1m Trainable params: \u001b[0m\u001b[38;5;34m161,025\u001b[0m (629.00 KB)\n"
            ],
            "text/html": [
              "<pre style=\"white-space:pre;overflow-x:auto;line-height:normal;font-family:Menlo,'DejaVu Sans Mono',consolas,'Courier New',monospace\"><span style=\"font-weight: bold\"> Trainable params: </span><span style=\"color: #00af00; text-decoration-color: #00af00\">161,025</span> (629.00 KB)\n",
              "</pre>\n"
            ]
          },
          "metadata": {}
        },
        {
          "output_type": "display_data",
          "data": {
            "text/plain": [
              "\u001b[1m Non-trainable params: \u001b[0m\u001b[38;5;34m0\u001b[0m (0.00 B)\n"
            ],
            "text/html": [
              "<pre style=\"white-space:pre;overflow-x:auto;line-height:normal;font-family:Menlo,'DejaVu Sans Mono',consolas,'Courier New',monospace\"><span style=\"font-weight: bold\"> Non-trainable params: </span><span style=\"color: #00af00; text-decoration-color: #00af00\">0</span> (0.00 B)\n",
              "</pre>\n"
            ]
          },
          "metadata": {}
        }
      ]
    },
    {
      "cell_type": "code",
      "source": [
        "# early stopping callback\n",
        "earlystopping=EarlyStopping(monitor='val_loss',patience=5,restore_best_weights=True)\n",
        "earlystopping"
      ],
      "metadata": {
        "colab": {
          "base_uri": "https://localhost:8080/"
        },
        "id": "i4bLMPbeOGdt",
        "outputId": "3f98e680-975c-4bbc-ad1c-fe38c8114421"
      },
      "execution_count": 19,
      "outputs": [
        {
          "output_type": "execute_result",
          "data": {
            "text/plain": [
              "<keras.src.callbacks.early_stopping.EarlyStopping at 0x7c3094ec4890>"
            ]
          },
          "metadata": {},
          "execution_count": 19
        }
      ]
    },
    {
      "cell_type": "code",
      "source": [
        "model.compile(loss='binary_crossentropy', optimizer='adam', metrics=['accuracy'])\n",
        "history=model.fit(x_train_embedded_docs, y_train, epochs=30, batch_size=32, validation_split=0.2,callbacks=earlystopping)"
      ],
      "metadata": {
        "colab": {
          "base_uri": "https://localhost:8080/"
        },
        "id": "yQy2lOqMT8Tf",
        "outputId": "03f6dece-3fb7-4841-bb5c-9e936501f20e"
      },
      "execution_count": 20,
      "outputs": [
        {
          "output_type": "stream",
          "name": "stdout",
          "text": [
            "Epoch 1/30\n",
            "\u001b[1m450/450\u001b[0m \u001b[32m━━━━━━━━━━━━━━━━━━━━\u001b[0m\u001b[37m\u001b[0m \u001b[1m34s\u001b[0m 72ms/step - accuracy: 0.5303 - loss: 0.6944 - val_accuracy: 0.6289 - val_loss: 0.6481\n",
            "Epoch 2/30\n",
            "\u001b[1m450/450\u001b[0m \u001b[32m━━━━━━━━━━━━━━━━━━━━\u001b[0m\u001b[37m\u001b[0m \u001b[1m26s\u001b[0m 58ms/step - accuracy: 0.6955 - loss: 0.5768 - val_accuracy: 0.7622 - val_loss: 0.5071\n",
            "Epoch 3/30\n",
            "\u001b[1m450/450\u001b[0m \u001b[32m━━━━━━━━━━━━━━━━━━━━\u001b[0m\u001b[37m\u001b[0m \u001b[1m42s\u001b[0m 59ms/step - accuracy: 0.7793 - loss: 0.4811 - val_accuracy: 0.7231 - val_loss: 0.5494\n",
            "Epoch 4/30\n",
            "\u001b[1m450/450\u001b[0m \u001b[32m━━━━━━━━━━━━━━━━━━━━\u001b[0m\u001b[37m\u001b[0m \u001b[1m40s\u001b[0m 58ms/step - accuracy: 0.7852 - loss: 0.4654 - val_accuracy: 0.7447 - val_loss: 0.6400\n",
            "Epoch 5/30\n",
            "\u001b[1m450/450\u001b[0m \u001b[32m━━━━━━━━━━━━━━━━━━━━\u001b[0m\u001b[37m\u001b[0m \u001b[1m25s\u001b[0m 56ms/step - accuracy: 0.7276 - loss: 0.5355 - val_accuracy: 0.7853 - val_loss: 0.4809\n",
            "Epoch 6/30\n",
            "\u001b[1m450/450\u001b[0m \u001b[32m━━━━━━━━━━━━━━━━━━━━\u001b[0m\u001b[37m\u001b[0m \u001b[1m41s\u001b[0m 56ms/step - accuracy: 0.8240 - loss: 0.4145 - val_accuracy: 0.7903 - val_loss: 0.4646\n",
            "Epoch 7/30\n",
            "\u001b[1m450/450\u001b[0m \u001b[32m━━━━━━━━━━━━━━━━━━━━\u001b[0m\u001b[37m\u001b[0m \u001b[1m42s\u001b[0m 58ms/step - accuracy: 0.8361 - loss: 0.3932 - val_accuracy: 0.7906 - val_loss: 0.4724\n",
            "Epoch 8/30\n",
            "\u001b[1m450/450\u001b[0m \u001b[32m━━━━━━━━━━━━━━━━━━━━\u001b[0m\u001b[37m\u001b[0m \u001b[1m40s\u001b[0m 56ms/step - accuracy: 0.8327 - loss: 0.3996 - val_accuracy: 0.7992 - val_loss: 0.4633\n",
            "Epoch 9/30\n",
            "\u001b[1m450/450\u001b[0m \u001b[32m━━━━━━━━━━━━━━━━━━━━\u001b[0m\u001b[37m\u001b[0m \u001b[1m41s\u001b[0m 56ms/step - accuracy: 0.8471 - loss: 0.3688 - val_accuracy: 0.7925 - val_loss: 0.4698\n",
            "Epoch 10/30\n",
            "\u001b[1m450/450\u001b[0m \u001b[32m━━━━━━━━━━━━━━━━━━━━\u001b[0m\u001b[37m\u001b[0m \u001b[1m26s\u001b[0m 57ms/step - accuracy: 0.8434 - loss: 0.3771 - val_accuracy: 0.8083 - val_loss: 0.4611\n",
            "Epoch 11/30\n",
            "\u001b[1m450/450\u001b[0m \u001b[32m━━━━━━━━━━━━━━━━━━━━\u001b[0m\u001b[37m\u001b[0m \u001b[1m40s\u001b[0m 55ms/step - accuracy: 0.8500 - loss: 0.3577 - val_accuracy: 0.8003 - val_loss: 0.4954\n",
            "Epoch 12/30\n",
            "\u001b[1m450/450\u001b[0m \u001b[32m━━━━━━━━━━━━━━━━━━━━\u001b[0m\u001b[37m\u001b[0m \u001b[1m26s\u001b[0m 59ms/step - accuracy: 0.8554 - loss: 0.3549 - val_accuracy: 0.8047 - val_loss: 0.4606\n",
            "Epoch 13/30\n",
            "\u001b[1m450/450\u001b[0m \u001b[32m━━━━━━━━━━━━━━━━━━━━\u001b[0m\u001b[37m\u001b[0m \u001b[1m42s\u001b[0m 62ms/step - accuracy: 0.8582 - loss: 0.3476 - val_accuracy: 0.8025 - val_loss: 0.4636\n",
            "Epoch 14/30\n",
            "\u001b[1m450/450\u001b[0m \u001b[32m━━━━━━━━━━━━━━━━━━━━\u001b[0m\u001b[37m\u001b[0m \u001b[1m28s\u001b[0m 61ms/step - accuracy: 0.8558 - loss: 0.3556 - val_accuracy: 0.8019 - val_loss: 0.5165\n",
            "Epoch 15/30\n",
            "\u001b[1m450/450\u001b[0m \u001b[32m━━━━━━━━━━━━━━━━━━━━\u001b[0m\u001b[37m\u001b[0m \u001b[1m40s\u001b[0m 59ms/step - accuracy: 0.8575 - loss: 0.3529 - val_accuracy: 0.7931 - val_loss: 0.4608\n",
            "Epoch 16/30\n",
            "\u001b[1m450/450\u001b[0m \u001b[32m━━━━━━━━━━━━━━━━━━━━\u001b[0m\u001b[37m\u001b[0m \u001b[1m27s\u001b[0m 59ms/step - accuracy: 0.8603 - loss: 0.3435 - val_accuracy: 0.8017 - val_loss: 0.4717\n",
            "Epoch 17/30\n",
            "\u001b[1m450/450\u001b[0m \u001b[32m━━━━━━━━━━━━━━━━━━━━\u001b[0m\u001b[37m\u001b[0m \u001b[1m41s\u001b[0m 59ms/step - accuracy: 0.8633 - loss: 0.3373 - val_accuracy: 0.7214 - val_loss: 0.5477\n"
          ]
        }
      ]
    },
    {
      "cell_type": "code",
      "source": [
        "plt.figure(figsize=(10,4))\n",
        "plt.subplot(1,2,1)\n",
        "plt.plot(history.history['accuracy'])\n",
        "plt.plot(history.history['val_accuracy'])\n",
        "plt.title('model accuracy')\n",
        "plt.ylabel('accuracy')\n",
        "plt.xlabel('epoch')\n",
        "plt.legend(['train', 'val'], loc='upper left')\n",
        "\n",
        "plt.subplot(1,2,2)\n",
        "plt.plot(history.history['loss'])\n",
        "plt.plot(history.history['val_loss'])\n",
        "plt.title('model loss')\n",
        "plt.ylabel('loss')\n",
        "plt.xlabel('epoch')\n",
        "plt.legend(['train', 'val'], loc='upper right')\n",
        "\n",
        "plt.show()"
      ],
      "metadata": {
        "colab": {
          "base_uri": "https://localhost:8080/",
          "height": 410
        },
        "id": "uUo0ehEBLQYL",
        "outputId": "fa5c7b0d-5406-45a3-f998-bc80e1184595"
      },
      "execution_count": 21,
      "outputs": [
        {
          "output_type": "display_data",
          "data": {
            "text/plain": [
              "<Figure size 1000x400 with 2 Axes>"
            ],
            "image/png": "[encoded data removed]"
          },
          "metadata": {}
        }
      ]
    },
    {
      "cell_type": "code",
      "source": [
        "# save model file\n",
        "model.save('/content/drive/MyDrive/Career/AI/DL Projects/IMDB Reviews Sentiment Analysis/simple_rnn.h5')"
      ],
      "metadata": {
        "id": "MmS7gucRU9go",
        "colab": {
          "base_uri": "https://localhost:8080/"
        },
        "outputId": "fc6321ad-6847-48b3-a864-f4a273f0e9fc"
      },
      "execution_count": 22,
      "outputs": [
        {
          "output_type": "stream",
          "name": "stderr",
          "text": [
            "WARNING:absl:You are saving your model as an HDF5 file via `model.save()` or `keras.saving.save_model(model)`. This file format is considered legacy. We recommend using instead the native Keras format, e.g. `model.save('my_model.keras')` or `keras.saving.save_model(model, 'my_model.keras')`. \n"
          ]
        }
      ]
    },
    {
      "cell_type": "code",
      "source": [
        "model = load_model('/content/drive/MyDrive/Career/AI/DL Projects/IMDB Reviews Sentiment Analysis/simple_rnn.h5')"
      ],
      "metadata": {
        "colab": {
          "base_uri": "https://localhost:8080/"
        },
        "id": "JXdSZevUkkY4",
        "outputId": "7926af30-77d8-4f97-98b5-2662ea24a20e"
      },
      "execution_count": 23,
      "outputs": [
        {
          "output_type": "stream",
          "name": "stderr",
          "text": [
            "WARNING:absl:Compiled the loaded model, but the compiled metrics have yet to be built. `model.compile_metrics` will be empty until you train or evaluate the model.\n"
          ]
        }
      ]
    },
    {
      "cell_type": "code",
      "source": [
        "model.summary()"
      ],
      "metadata": {
        "colab": {
          "base_uri": "https://localhost:8080/",
          "height": 250
        },
        "id": "dqvdkgUsV0cn",
        "outputId": "9594e1d4-8b27-4847-ba49-c7f6a811bc15"
      },
      "execution_count": 24,
      "outputs": [
        {
          "output_type": "display_data",
          "data": {
            "text/plain": [
              "\u001b[1mModel: \"sequential\"\u001b[0m\n"
            ],
            "text/html": [
              "<pre style=\"white-space:pre;overflow-x:auto;line-height:normal;font-family:Menlo,'DejaVu Sans Mono',consolas,'Courier New',monospace\"><span style=\"font-weight: bold\">Model: \"sequential\"</span>\n",
              "</pre>\n"
            ]
          },
          "metadata": {}
        },
        {
          "output_type": "display_data",
          "data": {
            "text/plain": [
              "┏━━━━━━━━━━━━━━━━━━━━━━━━━━━━━━━━━━━━━━┳━━━━━━━━━━━━━━━━━━━━━━━━━━━━━┳━━━━━━━━━━━━━━━━━┓\n",
              "┃\u001b[1m \u001b[0m\u001b[1mLayer (type)                        \u001b[0m\u001b[1m \u001b[0m┃\u001b[1m \u001b[0m\u001b[1mOutput Shape               \u001b[0m\u001b[1m \u001b[0m┃\u001b[1m \u001b[0m\u001b[1m        Param #\u001b[0m\u001b[1m \u001b[0m┃\n",
              "┡━━━━━━━━━━━━━━━━━━━━━━━━━━━━━━━━━━━━━━╇━━━━━━━━━━━━━━━━━━━━━━━━━━━━━╇━━━━━━━━━━━━━━━━━┩\n",
              "│ embedding (\u001b[38;5;33mEmbedding\u001b[0m)                │ (\u001b[38;5;45mNone\u001b[0m, \u001b[38;5;34m120\u001b[0m, \u001b[38;5;34m128\u001b[0m)            │         \u001b[38;5;34m128,000\u001b[0m │\n",
              "├──────────────────────────────────────┼─────────────────────────────┼─────────────────┤\n",
              "│ simple_rnn (\u001b[38;5;33mSimpleRNN\u001b[0m)               │ (\u001b[38;5;45mNone\u001b[0m, \u001b[38;5;34m128\u001b[0m)                 │          \u001b[38;5;34m32,896\u001b[0m │\n",
              "├──────────────────────────────────────┼─────────────────────────────┼─────────────────┤\n",
              "│ dense (\u001b[38;5;33mDense\u001b[0m)                        │ (\u001b[38;5;45mNone\u001b[0m, \u001b[38;5;34m1\u001b[0m)                   │             \u001b[38;5;34m129\u001b[0m │\n",
              "└──────────────────────────────────────┴─────────────────────────────┴─────────────────┘\n"
            ],
            "text/html": [
              "<pre style=\"white-space:pre;overflow-x:auto;line-height:normal;font-family:Menlo,'DejaVu Sans Mono',consolas,'Courier New',monospace\">┏━━━━━━━━━━━━━━━━━━━━━━━━━━━━━━━━━━━━━━┳━━━━━━━━━━━━━━━━━━━━━━━━━━━━━┳━━━━━━━━━━━━━━━━━┓\n",
              "┃<span style=\"font-weight: bold\"> Layer (type)                         </span>┃<span style=\"font-weight: bold\"> Output Shape                </span>┃<span style=\"font-weight: bold\">         Param # </span>┃\n",
              "┡━━━━━━━━━━━━━━━━━━━━━━━━━━━━━━━━━━━━━━╇━━━━━━━━━━━━━━━━━━━━━━━━━━━━━╇━━━━━━━━━━━━━━━━━┩\n",
              "│ embedding (<span style=\"color: #0087ff; text-decoration-color: #0087ff\">Embedding</span>)                │ (<span style=\"color: #00d7ff; text-decoration-color: #00d7ff\">None</span>, <span style=\"color: #00af00; text-decoration-color: #00af00\">120</span>, <span style=\"color: #00af00; text-decoration-color: #00af00\">128</span>)            │         <span style=\"color: #00af00; text-decoration-color: #00af00\">128,000</span> │\n",
              "├──────────────────────────────────────┼─────────────────────────────┼─────────────────┤\n",
              "│ simple_rnn (<span style=\"color: #0087ff; text-decoration-color: #0087ff\">SimpleRNN</span>)               │ (<span style=\"color: #00d7ff; text-decoration-color: #00d7ff\">None</span>, <span style=\"color: #00af00; text-decoration-color: #00af00\">128</span>)                 │          <span style=\"color: #00af00; text-decoration-color: #00af00\">32,896</span> │\n",
              "├──────────────────────────────────────┼─────────────────────────────┼─────────────────┤\n",
              "│ dense (<span style=\"color: #0087ff; text-decoration-color: #0087ff\">Dense</span>)                        │ (<span style=\"color: #00d7ff; text-decoration-color: #00d7ff\">None</span>, <span style=\"color: #00af00; text-decoration-color: #00af00\">1</span>)                   │             <span style=\"color: #00af00; text-decoration-color: #00af00\">129</span> │\n",
              "└──────────────────────────────────────┴─────────────────────────────┴─────────────────┘\n",
              "</pre>\n"
            ]
          },
          "metadata": {}
        },
        {
          "output_type": "display_data",
          "data": {
            "text/plain": [
              "\u001b[1m Total params: \u001b[0m\u001b[38;5;34m161,027\u001b[0m (629.02 KB)\n"
            ],
            "text/html": [
              "<pre style=\"white-space:pre;overflow-x:auto;line-height:normal;font-family:Menlo,'DejaVu Sans Mono',consolas,'Courier New',monospace\"><span style=\"font-weight: bold\"> Total params: </span><span style=\"color: #00af00; text-decoration-color: #00af00\">161,027</span> (629.02 KB)\n",
              "</pre>\n"
            ]
          },
          "metadata": {}
        },
        {
          "output_type": "display_data",
          "data": {
            "text/plain": [
              "\u001b[1m Trainable params: \u001b[0m\u001b[38;5;34m161,025\u001b[0m (629.00 KB)\n"
            ],
            "text/html": [
              "<pre style=\"white-space:pre;overflow-x:auto;line-height:normal;font-family:Menlo,'DejaVu Sans Mono',consolas,'Courier New',monospace\"><span style=\"font-weight: bold\"> Trainable params: </span><span style=\"color: #00af00; text-decoration-color: #00af00\">161,025</span> (629.00 KB)\n",
              "</pre>\n"
            ]
          },
          "metadata": {}
        },
        {
          "output_type": "display_data",
          "data": {
            "text/plain": [
              "\u001b[1m Non-trainable params: \u001b[0m\u001b[38;5;34m0\u001b[0m (0.00 B)\n"
            ],
            "text/html": [
              "<pre style=\"white-space:pre;overflow-x:auto;line-height:normal;font-family:Menlo,'DejaVu Sans Mono',consolas,'Courier New',monospace\"><span style=\"font-weight: bold\"> Non-trainable params: </span><span style=\"color: #00af00; text-decoration-color: #00af00\">0</span> (0.00 B)\n",
              "</pre>\n"
            ]
          },
          "metadata": {}
        },
        {
          "output_type": "display_data",
          "data": {
            "text/plain": [
              "\u001b[1m Optimizer params: \u001b[0m\u001b[38;5;34m2\u001b[0m (12.00 B)\n"
            ],
            "text/html": [
              "<pre style=\"white-space:pre;overflow-x:auto;line-height:normal;font-family:Menlo,'DejaVu Sans Mono',consolas,'Courier New',monospace\"><span style=\"font-weight: bold\"> Optimizer params: </span><span style=\"color: #00af00; text-decoration-color: #00af00\">2</span> (12.00 B)\n",
              "</pre>\n"
            ]
          },
          "metadata": {}
        }
      ]
    },
    {
      "cell_type": "code",
      "source": [
        "model.get_weights()"
      ],
      "metadata": {
        "colab": {
          "base_uri": "https://localhost:8080/"
        },
        "id": "ZU8REU9PV6nR",
        "outputId": "671a5e51-82af-414b-d9c3-98a3f2397e5b"
      },
      "execution_count": 25,
      "outputs": [
        {
          "output_type": "execute_result",
          "data": {
            "text/plain": [
              "[array([[-0.14458317, -0.13602795, -0.15895869, ...,  0.18176168,\n",
              "         -0.16880584,  0.1596983 ],\n",
              "        [ 0.05237255, -0.01556509,  0.10002223, ..., -0.03297022,\n",
              "          0.0691084 , -0.0433145 ],\n",
              "        [-0.03109479,  0.03635762, -0.06648782, ...,  0.02577895,\n",
              "         -0.05397243, -0.07620193],\n",
              "        ...,\n",
              "        [-0.01052587, -0.09887479, -0.24931248, ...,  0.10155615,\n",
              "         -0.05785012, -0.04704628],\n",
              "        [ 0.04866306, -0.05919209, -0.00666962, ..., -0.00461158,\n",
              "         -0.01561013, -0.01920444],\n",
              "        [-0.07943406, -0.06454716, -0.1357157 , ...,  0.00458605,\n",
              "          0.05703814,  0.00083011]], dtype=float32),\n",
              " array([[-0.09084779,  0.16920336,  0.19520858, ..., -0.0672535 ,\n",
              "          0.2130526 , -0.10561067],\n",
              "        [ 0.15050538,  0.12063365, -0.11254634, ..., -0.01945487,\n",
              "          0.10275225, -0.16375604],\n",
              "        [ 0.07121333,  0.17878489,  0.20119232, ...,  0.00524468,\n",
              "         -0.0481759 ,  0.0226314 ],\n",
              "        ...,\n",
              "        [-0.04733473,  0.10710568,  0.03732829, ..., -0.13204743,\n",
              "          0.12062457, -0.13748862],\n",
              "        [ 0.12370907, -0.09189527, -0.21822149, ...,  0.06730287,\n",
              "         -0.11142444, -0.18439205],\n",
              "        [ 0.30446887,  0.19639297,  0.03324268, ...,  0.1436934 ,\n",
              "          0.12002251,  0.16859323]], dtype=float32),\n",
              " array([[ 0.12650709, -0.24465278, -0.12384365, ...,  0.09564938,\n",
              "         -0.05072815,  0.05852833],\n",
              "        [-0.09589102, -0.17804068,  0.0396082 , ...,  0.08807788,\n",
              "         -0.18595992, -0.08357996],\n",
              "        [-0.12039827, -0.07647892,  0.05106563, ..., -0.05939209,\n",
              "         -0.00200361,  0.06959174],\n",
              "        ...,\n",
              "        [ 0.06590879,  0.1776534 , -0.04870228, ..., -0.05553043,\n",
              "          0.06366393,  0.03091519],\n",
              "        [-0.04125258, -0.1163101 , -0.0021234 , ...,  0.13941646,\n",
              "         -0.11308048, -0.13204731],\n",
              "        [ 0.0566253 ,  0.00489466,  0.07499008, ..., -0.03649327,\n",
              "         -0.0790796 , -0.02274346]], dtype=float32),\n",
              " array([-0.00240355,  0.07044446,  0.0026899 ,  0.02963741,  0.02206641,\n",
              "         0.00721756,  0.02641221,  0.00144077,  0.02988162, -0.05381433,\n",
              "        -0.02481359,  0.04724525,  0.01171177,  0.01878644,  0.02200881,\n",
              "        -0.03498721, -0.02935739, -0.05132563, -0.05539967,  0.07328239,\n",
              "        -0.00257092, -0.06341515,  0.05647421,  0.02678305,  0.01087337,\n",
              "        -0.01813569, -0.01958213,  0.01158591,  0.02181836,  0.00225676,\n",
              "        -0.04495661,  0.06347542,  0.06407338,  0.0376033 , -0.05083958,\n",
              "        -0.00788977,  0.04403106,  0.04818838,  0.06678665,  0.01081323,\n",
              "        -0.01868253,  0.02285261, -0.02368994, -0.05000328,  0.05004337,\n",
              "         0.03274651,  0.02877177,  0.05036528,  0.02519044, -0.04917867,\n",
              "        -0.05214523,  0.03507052, -0.07500111,  0.06970112,  0.0136343 ,\n",
              "        -0.06326151, -0.00850812,  0.04981128,  0.03381789, -0.03768613,\n",
              "        -0.06642945,  0.0124777 , -0.02496836, -0.05074108,  0.05092836,\n",
              "         0.02199885,  0.0687654 ,  0.02182072,  0.04398391,  0.08428741,\n",
              "         0.02033073, -0.02030893,  0.0245743 , -0.0142884 ,  0.04298363,\n",
              "        -0.02353339, -0.05620814, -0.02896145, -0.06411067, -0.01311151,\n",
              "        -0.05767748, -0.04084666, -0.05466365, -0.01562707,  0.00826734,\n",
              "         0.01639019, -0.00931971,  0.06912801,  0.00346658, -0.00254408,\n",
              "         0.00834788, -0.01695175, -0.01025289,  0.05387682,  0.00658629,\n",
              "        -0.05372832, -0.06150361,  0.00558704,  0.01310675, -0.01948007,\n",
              "         0.03716348, -0.02972609,  0.00368934,  0.02731306, -0.00982044,\n",
              "         0.00527923, -0.0040013 ,  0.00835376,  0.0485155 ,  0.02343929,\n",
              "         0.05456041, -0.0621256 , -0.0309761 , -0.002292  ,  0.04793529,\n",
              "         0.01391578, -0.01566631,  0.04350267,  0.03066759,  0.03098773,\n",
              "         0.00331041, -0.07693937,  0.06346005,  0.05867014,  0.04857374,\n",
              "        -0.01273261,  0.05292261,  0.00695409], dtype=float32),\n",
              " array([[ 0.36086777],\n",
              "        [ 0.09762637],\n",
              "        [-0.01731784],\n",
              "        [-0.21840842],\n",
              "        [-0.12398554],\n",
              "        [ 0.22453076],\n",
              "        [ 0.0875656 ],\n",
              "        [ 0.09335875],\n",
              "        [-0.11625837],\n",
              "        [ 0.02051798],\n",
              "        [ 0.12080703],\n",
              "        [-0.18153524],\n",
              "        [ 0.07260808],\n",
              "        [-0.01355287],\n",
              "        [-0.11259574],\n",
              "        [ 0.16093911],\n",
              "        [-0.05944787],\n",
              "        [ 0.0911594 ],\n",
              "        [-0.23879232],\n",
              "        [-0.08615921],\n",
              "        [-0.08519755],\n",
              "        [-0.1972439 ],\n",
              "        [ 0.02265267],\n",
              "        [ 0.12851621],\n",
              "        [ 0.10032225],\n",
              "        [ 0.28024328],\n",
              "        [ 0.12358982],\n",
              "        [-0.13613524],\n",
              "        [-0.41229376],\n",
              "        [-0.01212858],\n",
              "        [-0.11010617],\n",
              "        [-0.05235785],\n",
              "        [-0.2333706 ],\n",
              "        [-0.04782192],\n",
              "        [-0.28939205],\n",
              "        [ 0.01870661],\n",
              "        [ 0.20811568],\n",
              "        [-0.10174801],\n",
              "        [ 0.05034098],\n",
              "        [ 0.03997022],\n",
              "        [-0.22736554],\n",
              "        [-0.3696298 ],\n",
              "        [-0.00510915],\n",
              "        [ 0.06339114],\n",
              "        [-0.1567412 ],\n",
              "        [-0.20533471],\n",
              "        [ 0.19839117],\n",
              "        [-0.13789251],\n",
              "        [ 0.03342625],\n",
              "        [ 0.06725134],\n",
              "        [ 0.10916737],\n",
              "        [-0.02381149],\n",
              "        [-0.04719195],\n",
              "        [ 0.1638939 ],\n",
              "        [-0.07748887],\n",
              "        [ 0.05379962],\n",
              "        [ 0.18842173],\n",
              "        [-0.23355113],\n",
              "        [-0.13803321],\n",
              "        [-0.11366714],\n",
              "        [-0.18550873],\n",
              "        [ 0.05072376],\n",
              "        [ 0.14192571],\n",
              "        [ 0.06934468],\n",
              "        [ 0.14267781],\n",
              "        [ 0.04859105],\n",
              "        [-0.10603356],\n",
              "        [ 0.01545446],\n",
              "        [-0.21477348],\n",
              "        [-0.09551977],\n",
              "        [ 0.10090239],\n",
              "        [-0.03163599],\n",
              "        [ 0.03955981],\n",
              "        [ 0.10036375],\n",
              "        [ 0.09959739],\n",
              "        [ 0.12106337],\n",
              "        [-0.16460855],\n",
              "        [ 0.25104746],\n",
              "        [ 0.27716815],\n",
              "        [-0.03620458],\n",
              "        [-0.11996014],\n",
              "        [-0.00154741],\n",
              "        [ 0.24552584],\n",
              "        [-0.02546177],\n",
              "        [-0.0238819 ],\n",
              "        [ 0.13714422],\n",
              "        [-0.04766678],\n",
              "        [-0.3470362 ],\n",
              "        [ 0.03743695],\n",
              "        [-0.39777198],\n",
              "        [ 0.03442427],\n",
              "        [-0.20550588],\n",
              "        [ 0.1680677 ],\n",
              "        [-0.16728032],\n",
              "        [ 0.07725368],\n",
              "        [ 0.22498342],\n",
              "        [-0.13930146],\n",
              "        [-0.09756   ],\n",
              "        [-0.00319728],\n",
              "        [ 0.02170865],\n",
              "        [ 0.13780414],\n",
              "        [ 0.05273632],\n",
              "        [ 0.11593363],\n",
              "        [-0.01665067],\n",
              "        [-0.13146652],\n",
              "        [ 0.01079577],\n",
              "        [ 0.25539374],\n",
              "        [ 0.15730222],\n",
              "        [-0.23895118],\n",
              "        [ 0.08989977],\n",
              "        [ 0.16941375],\n",
              "        [-0.12754513],\n",
              "        [ 0.07024816],\n",
              "        [ 0.19668534],\n",
              "        [ 0.03617837],\n",
              "        [-0.04562031],\n",
              "        [-0.03017619],\n",
              "        [-0.12135502],\n",
              "        [ 0.09956159],\n",
              "        [-0.21268462],\n",
              "        [-0.09922589],\n",
              "        [-0.03173945],\n",
              "        [-0.08377103],\n",
              "        [ 0.05578782],\n",
              "        [-0.07636631],\n",
              "        [ 0.15395112],\n",
              "        [ 0.07079242],\n",
              "        [-0.12945274]], dtype=float32),\n",
              " array([-0.01730753], dtype=float32)]"
            ]
          },
          "metadata": {},
          "execution_count": 25
        }
      ]
    },
    {
      "cell_type": "code",
      "source": [
        "model.get_weights()[0]"
      ],
      "metadata": {
        "colab": {
          "base_uri": "https://localhost:8080/"
        },
        "id": "B3XyqfW3WfCG",
        "outputId": "89ef66fc-631c-435e-d83a-3d5d96926cc7"
      },
      "execution_count": 26,
      "outputs": [
        {
          "output_type": "execute_result",
          "data": {
            "text/plain": [
              "array([[-0.14458317, -0.13602795, -0.15895869, ...,  0.18176168,\n",
              "        -0.16880584,  0.1596983 ],\n",
              "       [ 0.05237255, -0.01556509,  0.10002223, ..., -0.03297022,\n",
              "         0.0691084 , -0.0433145 ],\n",
              "       [-0.03109479,  0.03635762, -0.06648782, ...,  0.02577895,\n",
              "        -0.05397243, -0.07620193],\n",
              "       ...,\n",
              "       [-0.01052587, -0.09887479, -0.24931248, ...,  0.10155615,\n",
              "        -0.05785012, -0.04704628],\n",
              "       [ 0.04866306, -0.05919209, -0.00666962, ..., -0.00461158,\n",
              "        -0.01561013, -0.01920444],\n",
              "       [-0.07943406, -0.06454716, -0.1357157 , ...,  0.00458605,\n",
              "         0.05703814,  0.00083011]], dtype=float32)"
            ]
          },
          "metadata": {},
          "execution_count": 26
        }
      ]
    },
    {
      "cell_type": "code",
      "source": [
        "model.get_weights()[0].shape # embedding layer weights"
      ],
      "metadata": {
        "colab": {
          "base_uri": "https://localhost:8080/"
        },
        "id": "Ylt8QQZ3WXdP",
        "outputId": "0d0d94d2-75b6-43bd-ac5b-505d962c72c7"
      },
      "execution_count": 27,
      "outputs": [
        {
          "output_type": "execute_result",
          "data": {
            "text/plain": [
              "(1000, 128)"
            ]
          },
          "metadata": {},
          "execution_count": 27
        }
      ]
    },
    {
      "cell_type": "code",
      "source": [
        "model.get_weights()[0][0].shape # first word to embedding layer wt"
      ],
      "metadata": {
        "colab": {
          "base_uri": "https://localhost:8080/"
        },
        "id": "-jYUo8AaWCzk",
        "outputId": "8cd502cc-eb6d-4083-8e69-c5d7c941ecd5"
      },
      "execution_count": 28,
      "outputs": [
        {
          "output_type": "execute_result",
          "data": {
            "text/plain": [
              "(128,)"
            ]
          },
          "metadata": {},
          "execution_count": 28
        }
      ]
    },
    {
      "cell_type": "code",
      "source": [
        "model.get_weights()[1].shape # RNN input layer wt"
      ],
      "metadata": {
        "colab": {
          "base_uri": "https://localhost:8080/"
        },
        "id": "rZ1EkGEmWSjo",
        "outputId": "fee76a89-c30a-4d1d-c316-2ccaf22b0b56"
      },
      "execution_count": 29,
      "outputs": [
        {
          "output_type": "execute_result",
          "data": {
            "text/plain": [
              "(128, 128)"
            ]
          },
          "metadata": {},
          "execution_count": 29
        }
      ]
    },
    {
      "cell_type": "code",
      "source": [
        "model.get_weights()[2].shape # RNN hidden layer wt"
      ],
      "metadata": {
        "colab": {
          "base_uri": "https://localhost:8080/"
        },
        "id": "mW0M_cdfWmNP",
        "outputId": "617f8fad-75c5-405a-d205-c2e08ed2999f"
      },
      "execution_count": 30,
      "outputs": [
        {
          "output_type": "execute_result",
          "data": {
            "text/plain": [
              "(128, 128)"
            ]
          },
          "metadata": {},
          "execution_count": 30
        }
      ]
    },
    {
      "cell_type": "code",
      "source": [
        "model.get_weights()[3].shape # RNN bias"
      ],
      "metadata": {
        "colab": {
          "base_uri": "https://localhost:8080/"
        },
        "id": "1RMLUBeiWn10",
        "outputId": "0c88fead-6609-400e-f55e-afd412234cb9"
      },
      "execution_count": 31,
      "outputs": [
        {
          "output_type": "execute_result",
          "data": {
            "text/plain": [
              "(128,)"
            ]
          },
          "metadata": {},
          "execution_count": 31
        }
      ]
    },
    {
      "cell_type": "code",
      "source": [
        "model.get_weights()[4].shape # Dense layer wts"
      ],
      "metadata": {
        "colab": {
          "base_uri": "https://localhost:8080/"
        },
        "id": "52HynKGXWo7Y",
        "outputId": "7564274d-0c95-4f55-d36b-3768dc0ffddd"
      },
      "execution_count": 32,
      "outputs": [
        {
          "output_type": "execute_result",
          "data": {
            "text/plain": [
              "(128, 1)"
            ]
          },
          "metadata": {},
          "execution_count": 32
        }
      ]
    },
    {
      "cell_type": "code",
      "source": [
        "model.get_weights()[5].shape # Dense layer bias"
      ],
      "metadata": {
        "colab": {
          "base_uri": "https://localhost:8080/"
        },
        "id": "w4cbtiGlW0I_",
        "outputId": "59647274-5261-4fdd-c9b4-6820013aa4bd"
      },
      "execution_count": 33,
      "outputs": [
        {
          "output_type": "execute_result",
          "data": {
            "text/plain": [
              "(1,)"
            ]
          },
          "metadata": {},
          "execution_count": 33
        }
      ]
    },
    {
      "cell_type": "markdown",
      "source": [
        "## Model Predictions on train and test"
      ],
      "metadata": {
        "id": "npr15HNLzoL3"
      }
    },
    {
      "cell_type": "code",
      "source": [
        "# model predictions on test features and its comparison\n",
        "predict_proba_train=model.predict(x_train_embedded_docs)\n",
        "predict_proba_test=model.predict(x_test_embedded_docs)\n",
        "predictions_train = (predict_proba_train > 0.5).astype(\"int32\")\n",
        "predictions_test = (predict_proba_test > 0.5).astype(\"int32\")"
      ],
      "metadata": {
        "id": "3lTLp_m5W4gK",
        "colab": {
          "base_uri": "https://localhost:8080/"
        },
        "outputId": "2c5a5151-66b3-4ed5-ce74-863b6952115c"
      },
      "execution_count": 34,
      "outputs": [
        {
          "output_type": "stream",
          "name": "stdout",
          "text": [
            "\u001b[1m563/563\u001b[0m \u001b[32m━━━━━━━━━━━━━━━━━━━━\u001b[0m\u001b[37m\u001b[0m \u001b[1m9s\u001b[0m 16ms/step\n",
            "\u001b[1m63/63\u001b[0m \u001b[32m━━━━━━━━━━━━━━━━━━━━\u001b[0m\u001b[37m\u001b[0m \u001b[1m1s\u001b[0m 15ms/step\n"
          ]
        }
      ]
    },
    {
      "cell_type": "code",
      "source": [
        "# trian confusion matrix\n",
        "cf_matrix = confusion_matrix(y_train, predictions_train)\n",
        "conf_matrix(cf_matrix)"
      ],
      "metadata": {
        "colab": {
          "base_uri": "https://localhost:8080/",
          "height": 430
        },
        "id": "6Q_JKJO_mPAg",
        "outputId": "ee0f4102-07f5-4618-f25b-1431a7d315c3"
      },
      "execution_count": 35,
      "outputs": [
        {
          "output_type": "display_data",
          "data": {
            "text/plain": [
              "<Figure size 640x480 with 2 Axes>"
            ],
            "image/png": "[encoded data removed]"
          },
          "metadata": {}
        }
      ]
    },
    {
      "cell_type": "code",
      "source": [
        "# test confusion matrix\n",
        "cf_matrix = confusion_matrix(y_test, predictions_test)\n",
        "conf_matrix(cf_matrix)"
      ],
      "metadata": {
        "colab": {
          "base_uri": "https://localhost:8080/",
          "height": 430
        },
        "id": "XRvnjxlWqBAk",
        "outputId": "8c536b34-dd78-4bad-a2ec-6a995e902652"
      },
      "execution_count": 36,
      "outputs": [
        {
          "output_type": "display_data",
          "data": {
            "text/plain": [
              "<Figure size 640x480 with 2 Axes>"
            ],
            "image/png": "[encoded data removed]"
          },
          "metadata": {}
        }
      ]
    },
    {
      "cell_type": "code",
      "source": [
        "print('Train accuracy is {}% while test accuracy is {}%.'.format(round(accuracy_score(y_train, predictions_train),4)*100,round(accuracy_score(y_test, predictions_test),2)*100))\n",
        "print('Train log loss is {} while test log loss is {}.'.format(log_loss(y_train,predict_proba_train),log_loss(y_test,predict_proba_test)))"
      ],
      "metadata": {
        "colab": {
          "base_uri": "https://localhost:8080/"
        },
        "id": "y-zr3Mm8qBCu",
        "outputId": "2ea8300f-492b-47f1-fbad-c08133711fad"
      },
      "execution_count": 37,
      "outputs": [
        {
          "output_type": "stream",
          "name": "stdout",
          "text": [
            "Train accuracy is 85.65% while test accuracy is 81.0%.\n",
            "Train log loss is 0.3531362814170957 while test log loss is 0.4381296191126856.\n"
          ]
        }
      ]
    },
    {
      "cell_type": "markdown",
      "source": [
        "## Model prediction on oot data"
      ],
      "metadata": {
        "id": "Yy3frQXcz05E"
      }
    },
    {
      "cell_type": "code",
      "source": [
        "df_oot.head(5)"
      ],
      "metadata": {
        "colab": {
          "base_uri": "https://localhost:8080/",
          "height": 206
        },
        "id": "3WX6oY1wtnqd",
        "outputId": "572fd39c-8404-42d9-b1c2-ab3b11606c3c"
      },
      "execution_count": 38,
      "outputs": [
        {
          "output_type": "execute_result",
          "data": {
            "text/plain": [
              "                                                  review  sentiment\n",
              "20000  huge fan northern exposure men complete knocko...          0\n",
              "20001  watched movie let go thought could acting writ...          0\n",
              "20002  story hare hare actually came dev mind saw fal...          1\n",
              "20003  oddly enough screwy part screwball comedy lomb...          0\n",
              "20004  horror comedy like one might get quickly shut ...          0"
            ],
            "text/html": [
              "\n",
              "  <div id=\"df-5267613f-031a-46b9-b28b-5e103dbff917\" class=\"colab-df-container\">\n",
              "    <div>\n",
              "<style scoped>\n",
              "    .dataframe tbody tr th:only-of-type {\n",
              "        vertical-align: middle;\n",
              "    }\n",
              "\n",
              "    .dataframe tbody tr th {\n",
              "        vertical-align: top;\n",
              "    }\n",
              "\n",
              "    .dataframe thead th {\n",
              "        text-align: right;\n",
              "    }\n",
              "</style>\n",
              "<table border=\"1\" class=\"dataframe\">\n",
              "  <thead>\n",
              "    <tr style=\"text-align: right;\">\n",
              "      <th></th>\n",
              "      <th>review</th>\n",
              "      <th>sentiment</th>\n",
              "    </tr>\n",
              "  </thead>\n",
              "  <tbody>\n",
              "    <tr>\n",
              "      <th>20000</th>\n",
              "      <td>huge fan northern exposure men complete knocko...</td>\n",
              "      <td>0</td>\n",
              "    </tr>\n",
              "    <tr>\n",
              "      <th>20001</th>\n",
              "      <td>watched movie let go thought could acting writ...</td>\n",
              "      <td>0</td>\n",
              "    </tr>\n",
              "    <tr>\n",
              "      <th>20002</th>\n",
              "      <td>story hare hare actually came dev mind saw fal...</td>\n",
              "      <td>1</td>\n",
              "    </tr>\n",
              "    <tr>\n",
              "      <th>20003</th>\n",
              "      <td>oddly enough screwy part screwball comedy lomb...</td>\n",
              "      <td>0</td>\n",
              "    </tr>\n",
              "    <tr>\n",
              "      <th>20004</th>\n",
              "      <td>horror comedy like one might get quickly shut ...</td>\n",
              "      <td>0</td>\n",
              "    </tr>\n",
              "  </tbody>\n",
              "</table>\n",
              "</div>\n",
              "    <div class=\"colab-df-buttons\">\n",
              "\n",
              "  <div class=\"colab-df-container\">\n",
              "    <button class=\"colab-df-convert\" onclick=\"convertToInteractive('df-5267613f-031a-46b9-b28b-5e103dbff917')\"\n",
              "            title=\"Convert this dataframe to an interactive table.\"\n",
              "            style=\"display:none;\">\n",
              "\n",
              "  <svg xmlns=\"http://www.w3.org/2000/svg\" height=\"24px\" viewBox=\"0 -960 960 960\">\n",
              "    <path d=\"M120-120v-720h720v720H120Zm60-500h600v-160H180v160Zm220 220h160v-160H400v160Zm0 220h160v-160H400v160ZM180-400h160v-160H180v160Zm440 0h160v-160H620v160ZM180-180h160v-160H180v160Zm440 0h160v-160H620v160Z\"/>\n",
              "  </svg>\n",
              "    </button>\n",
              "\n",
              "  <style>\n",
              "    .colab-df-container {\n",
              "      display:flex;\n",
              "      gap: 12px;\n",
              "    }\n",
              "\n",
              "    .colab-df-convert {\n",
              "      background-color: #E8F0FE;\n",
              "      border: none;\n",
              "      border-radius: 50%;\n",
              "      cursor: pointer;\n",
              "      display: none;\n",
              "      fill: #1967D2;\n",
              "      height: 32px;\n",
              "      padding: 0 0 0 0;\n",
              "      width: 32px;\n",
              "    }\n",
              "\n",
              "    .colab-df-convert:hover {\n",
              "      background-color: #E2EBFA;\n",
              "      box-shadow: 0px 1px 2px rgba(60, 64, 67, 0.3), 0px 1px 3px 1px rgba(60, 64, 67, 0.15);\n",
              "      fill: #174EA6;\n",
              "    }\n",
              "\n",
              "    .colab-df-buttons div {\n",
              "      margin-bottom: 4px;\n",
              "    }\n",
              "\n",
              "    [theme=dark] .colab-df-convert {\n",
              "      background-color: #3B4455;\n",
              "      fill: #D2E3FC;\n",
              "    }\n",
              "\n",
              "    [theme=dark] .colab-df-convert:hover {\n",
              "      background-color: #434B5C;\n",
              "      box-shadow: 0px 1px 3px 1px rgba(0, 0, 0, 0.15);\n",
              "      filter: drop-shadow(0px 1px 2px rgba(0, 0, 0, 0.3));\n",
              "      fill: #FFFFFF;\n",
              "    }\n",
              "  </style>\n",
              "\n",
              "    <script>\n",
              "      const buttonEl =\n",
              "        document.querySelector('#df-5267613f-031a-46b9-b28b-5e103dbff917 button.colab-df-convert');\n",
              "      buttonEl.style.display =\n",
              "        google.colab.kernel.accessAllowed ? 'block' : 'none';\n",
              "\n",
              "      async function convertToInteractive(key) {\n",
              "        const element = document.querySelector('#df-5267613f-031a-46b9-b28b-5e103dbff917');\n",
              "        const dataTable =\n",
              "          await google.colab.kernel.invokeFunction('convertToInteractive',\n",
              "                                                    [key], {});\n",
              "        if (!dataTable) return;\n",
              "\n",
              "        const docLinkHtml = 'Like what you see? Visit the ' +\n",
              "          '<a target=\"_blank\" href=https://colab.research.google.com/notebooks/data_table.ipynb>data table notebook</a>'\n",
              "          + ' to learn more about interactive tables.';\n",
              "        element.innerHTML = '';\n",
              "        dataTable['output_type'] = 'display_data';\n",
              "        await google.colab.output.renderOutput(dataTable, element);\n",
              "        const docLink = document.createElement('div');\n",
              "        docLink.innerHTML = docLinkHtml;\n",
              "        element.appendChild(docLink);\n",
              "      }\n",
              "    </script>\n",
              "  </div>\n",
              "\n",
              "\n",
              "<div id=\"df-cf075a3b-1225-4f08-8746-b5c66bc2c811\">\n",
              "  <button class=\"colab-df-quickchart\" onclick=\"quickchart('df-cf075a3b-1225-4f08-8746-b5c66bc2c811')\"\n",
              "            title=\"Suggest charts\"\n",
              "            style=\"display:none;\">\n",
              "\n",
              "<svg xmlns=\"http://www.w3.org/2000/svg\" height=\"24px\"viewBox=\"0 0 24 24\"\n",
              "     width=\"24px\">\n",
              "    <g>\n",
              "        <path d=\"M19 3H5c-1.1 0-2 .9-2 2v14c0 1.1.9 2 2 2h14c1.1 0 2-.9 2-2V5c0-1.1-.9-2-2-2zM9 17H7v-7h2v7zm4 0h-2V7h2v10zm4 0h-2v-4h2v4z\"/>\n",
              "    </g>\n",
              "</svg>\n",
              "  </button>\n",
              "\n",
              "<style>\n",
              "  .colab-df-quickchart {\n",
              "      --bg-color: #E8F0FE;\n",
              "      --fill-color: #1967D2;\n",
              "      --hover-bg-color: #E2EBFA;\n",
              "      --hover-fill-color: #174EA6;\n",
              "      --disabled-fill-color: #AAA;\n",
              "      --disabled-bg-color: #DDD;\n",
              "  }\n",
              "\n",
              "  [theme=dark] .colab-df-quickchart {\n",
              "      --bg-color: #3B4455;\n",
              "      --fill-color: #D2E3FC;\n",
              "      --hover-bg-color: #434B5C;\n",
              "      --hover-fill-color: #FFFFFF;\n",
              "      --disabled-bg-color: #3B4455;\n",
              "      --disabled-fill-color: #666;\n",
              "  }\n",
              "\n",
              "  .colab-df-quickchart {\n",
              "    background-color: var(--bg-color);\n",
              "    border: none;\n",
              "    border-radius: 50%;\n",
              "    cursor: pointer;\n",
              "    display: none;\n",
              "    fill: var(--fill-color);\n",
              "    height: 32px;\n",
              "    padding: 0;\n",
              "    width: 32px;\n",
              "  }\n",
              "\n",
              "  .colab-df-quickchart:hover {\n",
              "    background-color: var(--hover-bg-color);\n",
              "    box-shadow: 0 1px 2px rgba(60, 64, 67, 0.3), 0 1px 3px 1px rgba(60, 64, 67, 0.15);\n",
              "    fill: var(--button-hover-fill-color);\n",
              "  }\n",
              "\n",
              "  .colab-df-quickchart-complete:disabled,\n",
              "  .colab-df-quickchart-complete:disabled:hover {\n",
              "    background-color: var(--disabled-bg-color);\n",
              "    fill: var(--disabled-fill-color);\n",
              "    box-shadow: none;\n",
              "  }\n",
              "\n",
              "  .colab-df-spinner {\n",
              "    border: 2px solid var(--fill-color);\n",
              "    border-color: transparent;\n",
              "    border-bottom-color: var(--fill-color);\n",
              "    animation:\n",
              "      spin 1s steps(1) infinite;\n",
              "  }\n",
              "\n",
              "  @keyframes spin {\n",
              "    0% {\n",
              "      border-color: transparent;\n",
              "      border-bottom-color: var(--fill-color);\n",
              "      border-left-color: var(--fill-color);\n",
              "    }\n",
              "    20% {\n",
              "      border-color: transparent;\n",
              "      border-left-color: var(--fill-color);\n",
              "      border-top-color: var(--fill-color);\n",
              "    }\n",
              "    30% {\n",
              "      border-color: transparent;\n",
              "      border-left-color: var(--fill-color);\n",
              "      border-top-color: var(--fill-color);\n",
              "      border-right-color: var(--fill-color);\n",
              "    }\n",
              "    40% {\n",
              "      border-color: transparent;\n",
              "      border-right-color: var(--fill-color);\n",
              "      border-top-color: var(--fill-color);\n",
              "    }\n",
              "    60% {\n",
              "      border-color: transparent;\n",
              "      border-right-color: var(--fill-color);\n",
              "    }\n",
              "    80% {\n",
              "      border-color: transparent;\n",
              "      border-right-color: var(--fill-color);\n",
              "      border-bottom-color: var(--fill-color);\n",
              "    }\n",
              "    90% {\n",
              "      border-color: transparent;\n",
              "      border-bottom-color: var(--fill-color);\n",
              "    }\n",
              "  }\n",
              "</style>\n",
              "\n",
              "  <script>\n",
              "    async function quickchart(key) {\n",
              "      const quickchartButtonEl =\n",
              "        document.querySelector('#' + key + ' button');\n",
              "      quickchartButtonEl.disabled = true;  // To prevent multiple clicks.\n",
              "      quickchartButtonEl.classList.add('colab-df-spinner');\n",
              "      try {\n",
              "        const charts = await google.colab.kernel.invokeFunction(\n",
              "            'suggestCharts', [key], {});\n",
              "      } catch (error) {\n",
              "        console.error('Error during call to suggestCharts:', error);\n",
              "      }\n",
              "      quickchartButtonEl.classList.remove('colab-df-spinner');\n",
              "      quickchartButtonEl.classList.add('colab-df-quickchart-complete');\n",
              "    }\n",
              "    (() => {\n",
              "      let quickchartButtonEl =\n",
              "        document.querySelector('#df-cf075a3b-1225-4f08-8746-b5c66bc2c811 button');\n",
              "      quickchartButtonEl.style.display =\n",
              "        google.colab.kernel.accessAllowed ? 'block' : 'none';\n",
              "    })();\n",
              "  </script>\n",
              "</div>\n",
              "\n",
              "    </div>\n",
              "  </div>\n"
            ],
            "application/vnd.google.colaboratory.intrinsic+json": {
              "type": "dataframe",
              "variable_name": "df_oot",
              "summary": "{\n  \"name\": \"df_oot\",\n  \"rows\": 30000,\n  \"fields\": [\n    {\n      \"column\": \"review\",\n      \"properties\": {\n        \"dtype\": \"string\",\n        \"num_unique_values\": 29839,\n        \"samples\": [\n          \"water 2005 final part elemental trilogy finally almost ten release first controversial element fire 1996 slightly lesser controversial sequel 1947 earth 1998 made directorial debut 24minute short film 99 portrait 1975 feature film life living canada brought fame back east country birthright sam 1991 recognition internationally came way camilla 1994 starring along actress 1990 best actress leading role category age 80 paving way still hope portrayal stubborn old woman driving miss daisy 1989 late camilla dealt friendship two two human friendship camilla last picture international fame 1996 release controversial fire spread rage among false patriotic consciousness extremist already friendship two camilla fire went step portray intimate relationship two lonely set modern day capital city new two elder brother weird sect life celibacy faithful guru sexless existence younger brother extra marital affair woman poon thus elder wife das younger wife find way one forced lead celibate life thanks whose interaction husband sex nothing living world two family nobody else confide two fall arms thus comes issue outside shoulder cry probably would chance fall arms man one else confide need support quite obvious necessarily state would end taking exist regard two context movie excellent far two rolling bed key focus movie plight modern day even capital city two female happen sexual relationship two later second installment element mother earth name 1947 another excellent movie great director time language unlike fire made language complete trilogy despite lot final installment recently water doubt would great two\",\n          \"washed late 1990s launch comeback reunion tour least strange fruit fictional 70s stadium rock group tony rea concession vending son promoter famous music festival festival 70s strange fruit broke 70s time right wide wave search part broke band death replacement lead singer brilliant song writer band known excessive back amongst working class came beano drummer timothy spall brilliant bass player roofer lead singer still rocker huge mansion forced sell fortune lead guitarist dead young guitarist hired replace somewhat reluctantly band agree give reunion try day begin rehearse manager label start touring first hit club circuit around club scene kind overweight old tour film really develop old rearise hovering throughout together search second chance greatness rediscover interpersonal chemistry made together still crazy spinal tap gradually becomes dramatically film following band still funny movie struggling deal personal make film work\",\n          \"obviously made show famous 1950s stripper misty acting bad cannot boring little tale sweet innocent sally forced white slavery prostitution likable tommy cole instantly love help escape really real skin slowly underwear twice rest boring little tale bad acting atrocious comedy never thought prostitution funny know terrible dialogue admit twist end see coming enough sit also acting hysterical real bomb avoid\"\n        ],\n        \"semantic_type\": \"\",\n        \"description\": \"\"\n      }\n    },\n    {\n      \"column\": \"sentiment\",\n      \"properties\": {\n        \"dtype\": \"number\",\n        \"std\": 0,\n        \"min\": 0,\n        \"max\": 1,\n        \"num_unique_values\": 2,\n        \"samples\": [\n          1,\n          0\n        ],\n        \"semantic_type\": \"\",\n        \"description\": \"\"\n      }\n    }\n  ]\n}"
            }
          },
          "metadata": {},
          "execution_count": 38
        }
      ]
    },
    {
      "cell_type": "code",
      "source": [
        "x_oot=df['review']\n",
        "y_oot=df['sentiment']"
      ],
      "metadata": {
        "id": "DMyAmioItsPj"
      },
      "execution_count": 39,
      "outputs": []
    },
    {
      "cell_type": "code",
      "source": [
        "x_oot_features=tokenize.texts_to_sequences(x_oot)\n",
        "print(x_oot_features[0])"
      ],
      "metadata": {
        "colab": {
          "base_uri": "https://localhost:8080/"
        },
        "outputId": "ce843281-d134-4990-bf98-df01eaa4fe33",
        "id": "mg6qE2jktcOS"
      },
      "execution_count": 40,
      "outputs": [
        {
          "output_type": "stream",
          "name": "stdout",
          "text": [
            "[4, 52, 330, 261, 1, 91, 394, 21, 54, 1, 1, 1, 377, 153, 91, 441, 48, 1, 37, 1, 1, 1, 37, 244, 377, 210, 191, 1, 202, 1, 1, 848, 1, 1, 350, 1, 1, 880, 1, 248, 1, 1, 190, 1, 350, 196, 204, 1, 1, 29, 116, 7, 44, 149, 929, 37, 449, 83, 146, 7, 1, 565, 71, 1, 565, 1, 565, 666, 78, 21, 261, 39, 94, 1, 1, 16, 44, 1, 158, 885, 73, 1, 190, 1, 377, 377, 1, 1, 1, 1, 329, 421, 15, 121, 13, 1, 536, 599, 447, 880, 449, 359, 668, 880, 369, 52, 84, 258, 1, 1, 15, 852, 328]\n"
          ]
        }
      ]
    },
    {
      "cell_type": "code",
      "source": [
        "x_oot_embedded_docs=pad_sequences(x_oot_features,padding='pre',maxlen=sent_length)"
      ],
      "metadata": {
        "id": "VMbz7OAbtcOT"
      },
      "execution_count": 41,
      "outputs": []
    },
    {
      "cell_type": "code",
      "source": [
        "print(x_oot_embedded_docs[0])\n",
        "print(x_oot_embedded_docs[1])"
      ],
      "metadata": {
        "colab": {
          "base_uri": "https://localhost:8080/"
        },
        "outputId": "ff9aa407-4abc-4818-8d98-ef4006ba727c",
        "id": "QizJnXjYtcOT"
      },
      "execution_count": 42,
      "outputs": [
        {
          "output_type": "stream",
          "name": "stdout",
          "text": [
            "[  0   0   0   0   0   0   0   4  52 330 261   1  91 394  21  54   1   1\n",
            "   1 377 153  91 441  48   1  37   1   1   1  37 244 377 210 191   1 202\n",
            "   1   1 848   1   1 350   1   1 880   1 248   1   1 190   1 350 196 204\n",
            "   1   1  29 116   7  44 149 929  37 449  83 146   7   1 565  71   1 565\n",
            "   1 565 666  78  21 261  39  94   1   1  16  44   1 158 885  73   1 190\n",
            "   1 377 377   1   1   1   1 329 421  15 121  13   1 536 599 447 880 449\n",
            " 359 668 880 369  52  84 258   1   1  15 852 328]\n",
            "[  0   0   0   0   0   0   0   0   0   0   0   0   0   0   0   0   0   0\n",
            "   0   0   0   0   0   0   0   0   0   0   0   0   0   0   0   0   0   0\n",
            "   0   0   0   0   0   0   0   0   0   0   0   0   0   0   0   0   0   0\n",
            "   0   0   0   0   0   0   0   0 235  32 219   1   1   1   1 325   1 163\n",
            "   1 267 259 349  13   1   1  73   1 215  11   1   1  13 144  52   1 282\n",
            " 259   1 219   4  18  99  40   1  10 138 196  32 817   1 120 191   1 768\n",
            " 866 818   1 368   1 368 788  66   1   1  13 100]\n"
          ]
        }
      ]
    },
    {
      "cell_type": "code",
      "source": [
        "# model predictions\n",
        "predict_proba_oot=model.predict(x_oot_embedded_docs)\n",
        "predictions_oot = (predict_proba_oot > 0.5).astype(\"int32\")"
      ],
      "metadata": {
        "colab": {
          "base_uri": "https://localhost:8080/"
        },
        "outputId": "a5f103d0-c231-45b8-be67-600ff485f27b",
        "id": "AgaSodn6uSbg"
      },
      "execution_count": 43,
      "outputs": [
        {
          "output_type": "stream",
          "name": "stdout",
          "text": [
            "\u001b[1m1563/1563\u001b[0m \u001b[32m━━━━━━━━━━━━━━━━━━━━\u001b[0m\u001b[37m\u001b[0m \u001b[1m26s\u001b[0m 16ms/step\n"
          ]
        }
      ]
    },
    {
      "cell_type": "code",
      "source": [
        "# trian confusion matrix\n",
        "cf_matrix = confusion_matrix(y_oot, predictions_oot)\n",
        "conf_matrix(cf_matrix)"
      ],
      "metadata": {
        "outputId": "6a3bf210-8f0c-428d-e1d8-71ab09b2b6aa",
        "colab": {
          "base_uri": "https://localhost:8080/",
          "height": 430
        },
        "id": "MpVbVNCAuSbk"
      },
      "execution_count": 44,
      "outputs": [
        {
          "output_type": "display_data",
          "data": {
            "text/plain": [
              "<Figure size 640x480 with 2 Axes>"
            ],
            "image/png": "[encoded data removed]"
          },
          "metadata": {}
        }
      ]
    },
    {
      "cell_type": "code",
      "source": [
        "print('Train accuracy is {}%, test accuracy is {}% and oot accuracy is {}%.'.format(round(accuracy_score(y_train, predictions_train),4)*100,round(accuracy_score(y_test, predictions_test),2)*100,round(accuracy_score(y_oot, predictions_oot),4)*100))\n",
        "print('Train log loss is {}, test log loss is {} and oot log loss is {}.'.format(log_loss(y_train,predict_proba_train),log_loss(y_test,predict_proba_test),log_loss(y_oot,predict_proba_oot)))"
      ],
      "metadata": {
        "outputId": "7448298f-0c0d-42c2-cfb3-cb5089d5ef6b",
        "colab": {
          "base_uri": "https://localhost:8080/"
        },
        "id": "LvsPAmppuSbm"
      },
      "execution_count": 45,
      "outputs": [
        {
          "output_type": "stream",
          "name": "stdout",
          "text": [
            "Train accuracy is 85.65%, test accuracy is 81.0% and oot accuracy is 82.83%.\n",
            "Train log loss is 0.3531362814170957, test log loss is 0.4381296191126856 and oot log loss is 0.4060456730047748.\n"
          ]
        }
      ]
    }
  ]
}